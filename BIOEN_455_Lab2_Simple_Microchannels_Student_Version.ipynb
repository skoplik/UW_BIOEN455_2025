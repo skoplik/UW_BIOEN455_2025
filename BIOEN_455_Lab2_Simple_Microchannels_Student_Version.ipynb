{
 "cells": [
  {
   "cell_type": "markdown",
   "id": "2d2a26f0-bf96-45d4-a958-ba4b9be83bed",
   "metadata": {},
   "source": [
    "# BIOEN 455 Lab 2 Winter 2025: Fluid Dynamics in Microfluidic Devices\n",
    "## By Sam Koplik and Ayo Olanrewaju (Jan 2025)\n",
    "\n",
    "### Objective:\n",
    "Understand the principles of flow resistance, capillary pressure, and volume in microfluidic devices. Analyze the behavior of simple microchannels using this Python script and compare the experimental measurements of drain time to the theoretical ones determined computationally.\n",
    "\n",
    "### Instructions\n",
    "- Part 1 (hands-on experiments), should be done first, as there is some waiting time involved.\n",
    "- Complete code anywhere with a \"TODO:\" marked. Be sure to save your work frequently!\n",
    "- Parts 2-7 should be done in order and can be completed after lab.\n",
    "\n",
    "### Submission Guidelines\n",
    "- Put your name and date in the next cell \n",
    "- When finished, download and submit your modified script on Canvas as pdf (File> Save and Export Notebook As > PDF)\n",
    "- <font color=\"red\">Answer reflection questions (in red).</font> This can be completed after lab. You can type this in a markdown within this script."
   ]
  },
  {
   "cell_type": "markdown",
   "id": "ae0b8d36-5a8e-42ce-b19c-2fddaf474d0c",
   "metadata": {},
   "source": [
    "## Name:\n",
    "## Date:"
   ]
  },
  {
   "cell_type": "markdown",
   "id": "75ffe8ae-c98c-4672-9e7e-7b613372d9aa",
   "metadata": {},
   "source": [
    "# Part 1: Measuring drain time for microchannels of different dimensions\n",
    "\n",
    "### Objective:\n",
    "You will measure and record the drain time of liquids in microfluidic channels with different dimensions. In Parts 2-7, you will calculate the theoretical drain times and compare them with the experimental results, exploring the effects of microchannel dimensions and liquid properties on flow behavior in microfluidic systems. Each chip has 6 channels, and you will conduct two replicates per channel using a pre-mixed dye solution containing a surfactant.\n",
    "\n",
    "### Channel CAD and Dimensions\n",
    "\n",
    "Here we have provided some CAD images of these simple microchannels and have provided the dimensions below. These chips contain simple rectangular channels. You will measure and record drain time for each channel, and compare the measured values to the theoretical ones later on in the lab. We also have provided you space in this table to record drain times.  We recommend also writing these measurements down outside of this notebook to avoid any saving issues and loss of data.\n",
    "\n",
    "\n",
    "| Channel # | Length (mm) | Width (µm) | Height (µm) | Drain Time Replicate 1 (s) | Drain Time Replicate 2 (s) |\n",
    "|-----------|------------|-----------|------------|----------------------------|----------------------------|\n",
    "| Channel 1 | 450        | 600       | 600        |                            |                            |\n",
    "| Channel 2 | 1350       | 600       | 600        |                            |                            |\n",
    "| Channel 3 | 450        | 600       | 200        |                            |                            |\n",
    "\n",
    "- <font color=\"blue\">**need to add cad in</font>\n",
    "\n",
    "\n",
    "\n",
    "### Materials\n",
    "- Microfluidic chip. Each chip has 6 channels (2 replicates of each) and has a cover tape applied.\n",
    "- Pre-mixed dye solution (with 20% Tween surfactant)\n",
    "- Pipette dropper\n",
    "- Petri dish\n",
    "- Gloves\n",
    "- Timer or stopwatch\n",
    "- Lab notebook or data sheet\n",
    "\n",
    "## Procedure\n",
    "\n",
    "### Preparation\n",
    "1. **Setup:** Lay out the microfluidic chips on a flat surface within a Petri dish. \n",
    "2. **Pre-mixed Dye Solution:** The dye solution provided contains 20% Tween surfactant to avoid the need for plasma treatment by reducing surface tension and enhancing flow through the channels. Ensure the solution is well mixed before use.\n",
    "\n",
    "### Loading the Channels\n",
    "1. **Glove Up:** Wear gloves as part of standard lab safety and best practices to prevent contamination and ensure a sterile environment.\n",
    "2. **Apply Cover Tapes:** Ensure the microfluidic channels are properly sealed with cover tapes.\n",
    "3. **Filling Channels:** Using a pipette dropper, carefully introduce the pre-mixed dye solution into each channel of the chip. Introduce an equal volume into each channel to maintain consistency.\n",
    "\n",
    "### Measuring Drain Time\n",
    "1. **Timing:** Start the timer as soon as the dye solution is fully introduced into a channel.\n",
    "2. **Observation:** Monitor the flow of the dye through the channel until it exits completely or the channel is fully drained.\n",
    "3. **Recording:** Record the time taken for each channel to drain. We suggest recording these times both in this notebook (in the table provided) and elsewhere to avoid any data loss. \n",
    "4. **Repeat for Replicates:** Repeat the process for each of the 6 channels on the chip (2 replicates for each channel type).\n",
    "\n",
    "### Clean-Up\n",
    "1. **Disposal:** Dispose of any remaining dye solution according to lab safety protocols.\n",
    "2. **Cleaning:** Rinse the microfluidic chips and Petri dish with distilled water.\n",
    "3. **Gloves:** Dispose of used gloves in the appropriate waste bin.\n",
    "\n",
    "## Safety and Quality Control\n",
    "- Double-check that all channels are properly sealed with cover tapes and dye solution mixed before starting measurements.\n",
    "- Always wear gloves to adhere to standard lab safety protocols.\n",
    "\n",
    "- <font color=\"blue\">**AYO Add more details here regarding specific experiment protocols</font>\n"
   ]
  },
  {
   "cell_type": "markdown",
   "id": "40a62564-4e80-4bc1-aaa7-985b8eee43a7",
   "metadata": {},
   "source": [
    "## <font color=\"red\">  Relfection Question 1 </font>\n",
    "### <font color=\"red\">Based on the observations from the plot, how could you minimize experimental errors in future measurements? What improvements could be made to your experimental setup to improve accuracy? Reflect on the sources of potential errors, such as inconsistencies in measurements, environmental factors, or equipment limitations, and suggest ways to address them in future experiments </font> \n",
    "\n",
    "### TODO: Answer Reflection Question 1 here"
   ]
  },
  {
   "attachments": {},
   "cell_type": "markdown",
   "id": "ac50d9db-aecc-4004-b480-1f4a0c97c994",
   "metadata": {},
   "source": [
    "# Part 2: Flow Resistance Calculation\n",
    "Here, we provide the equation describing flow resistance in a rectangular microchannel. We have provided you the function for flow resistance (you do not need to modify this, just run the cells).\n",
    "\n",
    "![alt text](images/resistance.png)\n",
    "\n",
    "\n",
    "Figure from: Ainla, A. (2013). The Multifunctional Pipette. A Microfluidic Technology for the Biosciences."
   ]
  },
  {
   "cell_type": "code",
   "execution_count": 1,
   "id": "2ea0d7b4-70c7-4c45-835a-e04f903d81d9",
   "metadata": {},
   "outputs": [],
   "source": [
    "#You do not need to modify this cell, just run as is\n",
    "\n",
    "#import packages\n",
    "import numpy as np\n",
    "\n",
    "### CONSTANTS - in SI units\n",
    "# Properties of liquid\n",
    "viscosity = 8.9e-4  #Pa*s\n",
    "\n",
    "# Surface tension of water is 0.073\n",
    "surfTension = 0.073  #N/meter\n",
    "\n",
    "#width and height dimensions\n",
    "w = 600e-6  #meters    \n",
    "h = 600e-6 #meters \n",
    "l = 450e-3 #meters \n",
    "\n",
    "#contact angle measurement, in radians\n",
    "#hydrophobic top PDMS surface and hydrophilic side and bottom surfaces respectively\n",
    "thetaTopWall = (np.pi * 107.3/180)      #contact angle measurement after plasma treatment, in radians\n",
    "thetaSideWalls = (np.pi * 30.95/180)    #waterwash resin 4min plasma treatment   "
   ]
  },
  {
   "cell_type": "code",
   "execution_count": 2,
   "id": "00914277-2b43-4607-854d-292b364ac025",
   "metadata": {},
   "outputs": [],
   "source": [
    "#You do not need to modify this cell, just run as is\n",
    "#FLOWRES\n",
    "def flowResistance(w,h,l,viscosity):\n",
    "    viscosity = 8.9e-4  #Pa*s\n",
    "    h_actual = min(w,h)\n",
    "    w_actual= max(w,h)\n",
    "    flowRes = ((12*viscosity*l)/(1-0.63*(h_actual/w_actual)))*(1/(w_actual*(h_actual**3)))\n",
    "    return flowRes"
   ]
  },
  {
   "cell_type": "markdown",
   "id": "252fc0b5-beac-414c-bea3-8abd6f8d81d4",
   "metadata": {},
   "source": [
    "## Call the flowResistance function using the default constants defined for you already. </font>"
   ]
  },
  {
   "cell_type": "code",
   "execution_count": 1,
   "id": "af558250-403c-45fd-be1b-da8ec32bffa7",
   "metadata": {},
   "outputs": [],
   "source": [
    "#TODO: call the flowResistance function using the default constants and variables, print results\n"
   ]
  },
  {
   "cell_type": "markdown",
   "id": "887797a4-2ac4-473b-8585-813101832d71",
   "metadata": {},
   "source": [
    "## <font color=\"red\"> Refletion Question 2 </font>\n",
    "### <font color=\"red\"> Based on the equation for rectangular flow resistance, how do you expect changes in the height and length of a microfluidic channel to impact the flow resistance? Specifically, which of these two parameters (height or length) would you expect to have a greater effect on flow resistance, and why? </font>\n",
    "\n",
    "### TODO: Answer reflection question 2\n"
   ]
  },
  {
   "attachments": {},
   "cell_type": "markdown",
   "id": "68ee59b9-c176-4b61-9c47-c204c6a6d459",
   "metadata": {},
   "source": [
    "# Part 3: Capillary Pressure Function</font>\n",
    "\n",
    "In the figure below is the Young-Laplace Equation describing the capillary pressure of a rectangular microchannel. P is the capillary pressure, γ is the surface tension of liquid in the microchannel, and h, w, are the channel height and width respectively. θt, θb, θr, θl, are the top, bottom, right, and left channel wall contact angles, respectively. \n",
    "\n",
    "Given the Young-Laplace Equation describing the capillary pressure of a rectangular microchannel, write the capPressure function.  The function should take in w, h, thetaTopWall, thetaSideWalls, and surfTension and return capPressure.  Assume thetaTopWall as equivalent to θt, and thetaSideWalls as equivalent to θb, θr, and θl.  \n",
    "\n",
    "\n",
    "<img src=\"images/c8lc00458g-t1_hi-res.gif\" width=\"600\" />\n",
    "\n",
    "<img src=\"images/Screenshot_res.png\" width=\"300\" />\n",
    "\n",
    "Adapted from Olanrewaju et al, 2018, Lab Chip,  https://doi.org/10/gk8xks and Olanrewaju et al, 2016, Lab Chip. https://doi.org/10.1039/C6LC00764C"
   ]
  },
  {
   "cell_type": "code",
   "execution_count": 3,
   "id": "05709c77-0905-4d25-97ff-9982923ccd47",
   "metadata": {},
   "outputs": [],
   "source": [
    "# CAPPRESSURE\n",
    "def capPressure(w, h, thetaTopWall, thetaSideWalls,surfTension):\n",
    "    #TODO: Capillary pressure calculation for wetting liquid\n",
    "    #hint use \"np.cos(angle)\"to call a cosine function\n",
    "    #fill in function here\n",
    "    return capPres"
   ]
  },
  {
   "cell_type": "markdown",
   "id": "38cc7cc7-d190-4058-bb88-63faa40d98f8",
   "metadata": {},
   "source": [
    "Call the capPressure function using the default constants defined for you already. </font>"
   ]
  },
  {
   "cell_type": "code",
   "execution_count": 5,
   "id": "e1938e69-258c-4d05-81c1-44f535dd2431",
   "metadata": {},
   "outputs": [],
   "source": [
    "#TODO: call the capPressure function using the default constants and variables, print results\n"
   ]
  },
  {
   "cell_type": "markdown",
   "id": "be2c3e88-ee08-41d3-a99e-5ee7b2991ac6",
   "metadata": {},
   "source": [
    "## <font color=\"red\"> Refletion Question 3 </font>\n",
    "### <font color=\"red\">How do fluid properties such as contact angle, viscosity, and surface tension influence fluid flow in rectangular microchannels? In your answer, explain the role of these properties in determining capillary pressure and flow resistance within microfluidic systems, and discuss their implications for microfluidic device performance.</font>\n",
    "\n",
    "### TODO: Answer reflection question 3\n",
    "\n"
   ]
  },
  {
   "attachments": {},
   "cell_type": "markdown",
   "id": "929c4664-b8ca-4fe7-a14a-e37d155cb864",
   "metadata": {},
   "source": [
    "# Part 4: Flow Rate Function</font>\n",
    "\n",
    "Given that we have already defined functions for capillary pressure and flow resistance in a microchannel, using electrical analogies we can now use these two values to define a flow rate function (ie. using R and Q in the formula below). </font>\n",
    "\n",
    "<img src=\"images/c8lc00458g-t7_hi-res.gif\" width=\"600\" />\n",
    "\n",
    "\n",
    "\n"
   ]
  },
  {
   "cell_type": "code",
   "execution_count": 17,
   "id": "dc777bbf-88e4-4b40-88db-bb75364ca1d4",
   "metadata": {},
   "outputs": [],
   "source": [
    "def flowRate(calc_cap_pres,totalFlowRes):\n",
    "    #TODO: flowRate function\n",
    "\n",
    "    return flowrate"
   ]
  },
  {
   "cell_type": "markdown",
   "id": "d0ab86e9-1556-4dab-94c7-3387908faae5",
   "metadata": {},
   "source": [
    "<font size=\"4\">  Call the flowrate function using the results from running the capPressure function and flowResistance function with the default variables. </font>"
   ]
  },
  {
   "cell_type": "code",
   "execution_count": 18,
   "id": "b7ea5f96-21f8-494c-b9de-5f4d08425e7d",
   "metadata": {},
   "outputs": [],
   "source": [
    "#TODO: call the flowrate function using the default constants and variables, print results\n"
   ]
  },
  {
   "cell_type": "markdown",
   "id": "50d0f2b6-f679-49e9-8d97-49e25073bbca",
   "metadata": {},
   "source": [
    "# Part 5: Volume and Drain Time Functions</font>\n",
    "\n",
    "These are pretty self explanatory. Using the resulting flow rate calculation and volume calculation, fill out the function for drain time. Note if you have a negative flow rate value, this indicates that the flow is moving in the opposite direction of the reference direction, you will need to account for this in your drainTime function (after all, time cannot be negative).\n",
    "\n"
   ]
  },
  {
   "cell_type": "code",
   "execution_count": 4,
   "id": "d1657b6f-938f-462f-854f-14ea61fb97a0",
   "metadata": {},
   "outputs": [],
   "source": [
    "# VOLUME\n",
    "def Volume(w,h,l):\n",
    "    V = w*h*l\n",
    "    return V"
   ]
  },
  {
   "cell_type": "code",
   "execution_count": 20,
   "id": "8414bce5-10a8-4770-9ac9-c12b58094224",
   "metadata": {},
   "outputs": [],
   "source": [
    "def drainTime(flowrate,vol):\n",
    "    #TODO: use the resulting volume and flow rate calculation to write a function that returns drain time.\n",
    "    return time"
   ]
  },
  {
   "cell_type": "markdown",
   "id": "45671ef1-f6c4-4973-a04c-f7dfdefd64af",
   "metadata": {},
   "source": [
    "Call the Volume and drainTime functions ith the default variables.  </font>"
   ]
  },
  {
   "cell_type": "code",
   "execution_count": 21,
   "id": "d35dfe28-1d65-400a-a12b-d6bc0a26b8aa",
   "metadata": {},
   "outputs": [],
   "source": [
    "#TODO: call the volume and drainTime functions, print results\n"
   ]
  },
  {
   "cell_type": "markdown",
   "id": "4cfe73d8-b248-4634-8228-c8c8a4f6917c",
   "metadata": {},
   "source": [
    "# Part 6: Theoretical Drain Time Analysis with Varying Microchannel Dimensions</font>\n",
    "In part 1.1, you measured and recorded drain time for each of these channels. Your task is to calculate the theoretical drain time for these channels using the functions you completed in parts 2-5.\n",
    "\n"
   ]
  },
  {
   "cell_type": "markdown",
   "id": "97a74e63-6e00-4c24-8531-b285cb9b33fd",
   "metadata": {},
   "source": [
    "## Microchannel 1\n",
    "- Dimensions of microfluidic channels\n",
    "    - width: 600µm\n",
    "    - length: 450mm\n",
    "    - height: 600µm"
   ]
  },
  {
   "cell_type": "code",
   "execution_count": 8,
   "id": "4d04bf61-58ed-4099-bdc9-40dc2937136b",
   "metadata": {},
   "outputs": [],
   "source": [
    "#TODO: adjust dimensions:length, width and height dimensions of microchannel 1\n",
    "w = 1 #meters    \n",
    "h = 1 #meters \n",
    "l = 1 #meters \n",
    "\n",
    "#Constants for water in SI units\n",
    "thetaTopWall = (np.pi * 107.3/180)  #in radians  \n",
    "thetaSideWalls = (np.pi * 30.95/180) \n",
    "viscosity = 8.9e-4  #Pa*s\n",
    "surfTension = 0.073  #N/meter\n",
    "\n",
    "#TODO: Call flowResistance, capPressure. flowRate, Volume, and drainTime functions after changing the dimensions to that of microchannel 1. "
   ]
  },
  {
   "cell_type": "markdown",
   "id": "1af5ac9a-4e2e-46a2-a7ec-2b706edd6b86",
   "metadata": {},
   "source": [
    "## Microchannel 2\n",
    "- Dimensions of microfluidic channels\n",
    "    - width: 600µm\n",
    "    - length: 1350mm\n",
    "    - height: 600µm"
   ]
  },
  {
   "cell_type": "code",
   "execution_count": 4,
   "id": "0519c8ca-16a4-450c-be4b-57cedac38500",
   "metadata": {},
   "outputs": [],
   "source": [
    "#TODO: adjust dimensions:length, width and height dimensions of microchannel 2\n",
    "w = 1 #meters    \n",
    "h = 1 #meters \n",
    "l = 1 #meters \n",
    "\n",
    "#Constants for water in SI units\n",
    "thetaTopWall = (np.pi * 107.3/180)  #in radians  \n",
    "thetaSideWalls = (np.pi * 30.95/180) \n",
    "viscosity = 8.9e-4  #Pa*s\n",
    "surfTension = 0.073  #N/meter\n",
    "\n",
    "#TODO: Call flowResistance, capPressure. flowRate, Volume, and drainTime functions after changing the dimensions to that of microchannel 2. "
   ]
  },
  {
   "cell_type": "markdown",
   "id": "2e4ff389-3083-478c-ba82-a9472a1a790c",
   "metadata": {},
   "source": [
    "## Microchannel 3\n",
    "- Dimensions of microfluidic channels\n",
    "    - width: 600µm\n",
    "    - length: 450mm\n",
    "    - height: 200µm"
   ]
  },
  {
   "cell_type": "code",
   "execution_count": 5,
   "id": "72497a3e-9883-4287-9fd2-3fb95c711677",
   "metadata": {},
   "outputs": [],
   "source": [
    "#TODO: adjust dimensions:length, width and height dimensions of microchannel 3\n",
    "w = 1 #meters    \n",
    "h = 1 #meters \n",
    "l = 1 #meters \n",
    "\n",
    "#Constants for water in SI units\n",
    "thetaTopWall = (np.pi * 107.3/180)  #in radians  \n",
    "thetaSideWalls = (np.pi * 30.95/180) \n",
    "viscosity = 8.9e-4  #Pa*s\n",
    "surfTension = 0.073  #N/meter\n",
    "\n",
    "#TODO: Call flowResistance, capPressure. flowRate, Volume, and drainTime functions after changing the dimensions to that of microchannel 3. "
   ]
  },
  {
   "cell_type": "markdown",
   "id": "aa521b2e-390f-41ae-a7ad-978ca83341b8",
   "metadata": {},
   "source": [
    "# Part 7: Analyze recorded vs theoretical drain times for different microchannels\n",
    "\n",
    "In part 1.1 you recorded the drain times for three different rectangular microchannels and in part 6 you calculated the theoretical drain times.\n",
    "\n",
    "Here we would like you to plot the recorded drain times versus the theoretical drain times for each microchannel. We have provided the skeleton code for necessary plotting, you are just responsible for inputting your data for the recorded and theoretical drain times. \n"
   ]
  },
  {
   "cell_type": "code",
   "execution_count": 14,
   "id": "808965d9-cead-4a0b-b743-64338353ad85",
   "metadata": {},
   "outputs": [
    {
     "data": {
      "image/png": "[encoded data removed]",
      "text/plain": [
       "<Figure size 800x600 with 1 Axes>"
      ]
     },
     "metadata": {},
     "output_type": "display_data"
    }
   ],
   "source": [
    "# Import necessary libraries\n",
    "import numpy as np\n",
    "import matplotlib.pyplot as plt\n",
    "\n",
    "# Define your data for recorded and theoretical drain times with replicates for each of the 3 channels\n",
    "# TODO: (replace example data with your actual recorded and theoretical drain times for each replicate)\n",
    "recorded_times_channel1 = np.array([100, 120])  # Replicates for Channel 1\n",
    "recorded_times_channel2 = np.array([150, 170])  # Replicates for Channel 2\n",
    "recorded_times_channel3 = np.array([200, 250])  # Replicates for Channel 3\n",
    "\n",
    "theoretical_times_channel1 = 90  # Theoretical value for Channel 1 (no replicates)\n",
    "theoretical_times_channel2 = 160  # Theoretical value for Channel 2\n",
    "theoretical_times_channel3 = 210  # Theoretical value for Channel 3\n",
    "\n",
    "# Calculate means and standard deviations for recorded times for each channel\n",
    "mean_recorded = [np.mean(recorded_times_channel1), np.mean(recorded_times_channel2), np.mean(recorded_times_channel3)]\n",
    "std_dev_recorded = [np.std(recorded_times_channel1), np.std(recorded_times_channel2), np.std(recorded_times_channel3)]\n",
    "\n",
    "# Theoretical times (single values for each channel)\n",
    "theoretical_times = [theoretical_times_channel1, theoretical_times_channel2, theoretical_times_channel3]\n",
    "\n",
    "# Plot the theoretical vs recorded drain times with error bars\n",
    "plt.figure(figsize=(8,6))\n",
    "\n",
    "# Plot for Recorded Times (with error bars)\n",
    "plt.errorbar(theoretical_times, mean_recorded, xerr=0, yerr=std_dev_recorded, fmt='o', color='blue', label='Recorded Times', capsize=5)\n",
    "\n",
    "# Add the line for perfect match\n",
    "plt.plot([20, 600], [20, 600], color='red', linestyle='--', label='Perfect match')\n",
    "\n",
    "# Labeling the axes and the plot\n",
    "plt.xlabel('Theoretical Drain Time (s)')\n",
    "plt.ylabel('Recorded Drain Time (s)')\n",
    "plt.title('Theoretical vs Recorded Drain Time for 3 Channels')\n",
    "plt.legend()\n",
    "plt.grid(True)\n",
    "plt.show()\n"
   ]
  },
  {
   "cell_type": "markdown",
   "id": "c0add513-00c0-4ccf-af06-fabbe2a85b90",
   "metadata": {},
   "source": [
    "## <font color=\"red\">Reflection Question 4</font>\n",
    "### <font color=\"red\">How did the recorded drain times compare to the theoretical drain times? What could explain any discrepancies between the two? Consider factors like fluid properties, channel dimensions, and surface interactions that may affect the drain time. How could these factors be better controlled or accounted for in the theoretical calculation of drain time?</font>\n",
    "### TODO: Answer Reflection Question 4 here"
   ]
  }
 ],
 "metadata": {
  "kernelspec": {
   "display_name": "Python (myenv)",
   "language": "python",
   "name": "myenv"
  },
  "language_info": {
   "codemirror_mode": {
    "name": "ipython",
    "version": 3
   },
   "file_extension": ".py",
   "mimetype": "text/x-python",
   "name": "python",
   "nbconvert_exporter": "python",
   "pygments_lexer": "ipython3",
   "version": "3.13.1"
  }
 },
 "nbformat": 4,
 "nbformat_minor": 5
}
