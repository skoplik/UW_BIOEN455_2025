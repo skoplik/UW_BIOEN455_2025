{
 "cells": [
  {
   "cell_type": "markdown",
   "id": "2d2a26f0-bf96-45d4-a958-ba4b9be83bed",
   "metadata": {},
   "source": [
    "# BIOEN 455 Lab 2 Winter 2025: Fluid Dynamics in Microfluidic Devices\n",
    "## By Sam Koplik and Ayo Olanrewaju (Jan 2025)\n",
    "\n",
    "### Objective:\n",
    "Understand the principles of flow resistance, capillary pressure, and volume in microfluidic devices. Analyze the behavior of simple microchannels using this Python script and compare the experimental measurements of drain time to the theoretical ones determined computationally.\n",
    "\n",
    "### Instructions\n",
    "- Part 1 (hands-on experiments), should be done first, as there is some waiting time involved.\n",
    "- Complete code anywhere with a \"TODO:\" marked. Be sure to save your work frequently!\n",
    "- Parts 2-7 should be done in order and can be completed after lab.\n",
    "\n",
    "### Submission Guidelines\n",
    "- Put your name and date in the next cell \n",
    "- When finished, download and submit your modified script on Canvas as pdf (File> Save and Export Notebook As > PDF)\n",
    "- <font color=\"red\">Answer reflection questions (in red).</font> This can be completed after lab. You can type this in a markdown within this script. You may optionally take videos or pictures your the chip to include in your reflection."
   ]
  },
  {
   "cell_type": "markdown",
   "id": "ae0b8d36-5a8e-42ce-b19c-2fddaf474d0c",
   "metadata": {},
   "source": [
    "## Name:\n",
    "## Date:"
   ]
  },
  {
   "cell_type": "markdown",
   "id": "75ffe8ae-c98c-4672-9e7e-7b613372d9aa",
   "metadata": {},
   "source": [
    "# Part 1: Measuring drain time for microchannels of different dimensions\n",
    "\n",
    "### Overview:\n",
    "You will measure and record the \"drain time\" of liquids in microfluidic channels with different dimensions. For this assignment, the drain time is defined as the time it takes for the liquid to reach the outlet from the moment it begins entering the inlet. While this is technically the fill time, it is commonly referred to as \"drain time\" in microfluidic experiments. In Parts 2-7, you will calculate the theoretical drain times and compare them with the experimental results, exploring how microchannel dimensions and liquid properties affect flow behavior in microfluidic systems.\n",
    "\n",
    "Each chip has 6 channels, consisting of 3 different types with 2 replicates of each. You will conduct experiments using a pre-mixed dye solution containing a surfactant.\n",
    "\n",
    "Not to worry if some channels fail; you will not be graded on your success rate. This is also part of the reason we've provided you with two replicates of each type. If any channels fail, you can reflect on why they did so (ie. print defects, bubbles, etc.). If all your channels fail, you can obtain data from a neighbor to complete your analysis. \n",
    "\n",
    "### Channel Dimensions\n",
    "\n",
    "Here, we have provided the dimensions (in a table) and CAD screen shot for the channels on the microfluidic chips. Note that these rectangular channels are confingured to serpentine so they can all fit on a chip. You will measure and record drain time for each channel, and compare the measured values to the theoretical ones later on in the lab. We also have provided you space in this table to record drain times.  We recommend also writing these measurements down outside of this notebook to avoid any saving issues and loss of data.\n",
    "\n",
    "<div style=\"text-align: center;\">\n",
    "  <img src=\"images/cad_lab2.png\" width=\"300\" />\n",
    "</div>\n",
    "\n",
    "| Channel # | Length (mm) | Width (µm) | Height (µm) | Time Rep1 (s) | Time Rep2 (s) | Notes                       |\n",
    "|-----------|-------------|------------|-------------|---------------|---------------|-----------------------------|\n",
    "| Channel 1 | 100         | 300        | 300         |               |               |                             |\n",
    "| Channel 2 | 300         | 300        | 300         |               |               |                             |\n",
    "| Channel 3 | 300         | 300        | 100         |               |               |                             |\n",
    "\n",
    "\n",
    "\n",
    "\n",
    "### Materials\n",
    "- Resin printed microfluidic chip(s) sealed with hydrophobic cover tape (ARseal 90697, Adhesives Research, Glen Rock, Pennsylvania, USA)\n",
    "- Pre-mixed dye solution ( 2% food dye (Amaranth) in 1× PBS buffer containing 0.05% Tween 20). \n",
    "    - Plasma activation, though common, requires a plasma chamber and offers temporary hydrophilicity of the hydrophobic chips. Instead, we reduced the dye solution surface tension with surfactant (Tween 20) as done in Shafique H, et al. Lab Chip, 2024.\n",
    "- P200 Micropipettes and tips\n",
    "- Kim-wipes and paper\n",
    "- Gloves\n",
    "- Timer or stopwatch\n",
    "\n",
    "## Procedure (read fully before starting)\n",
    "\n",
    "1. **Glove Up:** Wear gloves as part of standard lab safety and best practices. All the materials we’re working with, are not really hazardous. That said, it’s still best practice to wear gloves during handling—especially since we have no idea where these pipettes have been! 😊\n",
    "2. **QC:**\n",
    "   - Double-check that all channels are properly sealed with cover tapes and dye solution is mixed before starting.\n",
    "   - Work in your petri dish and avoid tipping the chip (the dye will spill and will stain whatever it touches)\n",
    "   - You need to ensure there are no bubbles in the cover tape that could bridge two columns in a serpentine, otherwise the solution may travel through the bubble, not the channel.\n",
    "   - To resolve any bubbles you notice, push them out using a flexible hard edge (such as a husky card).\n",
    "<div style=\"text-align: center;\">\n",
    "    <img src=\"images/bubbles.png\" width=\"1000\" />\n",
    "</div>\n",
    "\n",
    "4. **Filling Channels:** Using a P200 pipette, introduce ~50µL of the pre-mixed dye solution into the inlet of one of the six channels. \n",
    "5. **Timing:** Start the timer as soon as the dye solution has started to enter the channel.  \n",
    "6. **Observation:** Monitor the flow of the dye through the channel until it reaches the outlet. \n",
    "7. **Recording:** Record the time taken for each channel to fill. We suggest recording these times both in this notebook (in the table above) AND elsewhere to avoid any data loss. If your channel failed, note the modes of failure. If your dye moves, but did not make it to the end, you can approximate the length it did travel by measuring and recording both drain time and approximate length traveled. \n",
    "8. **Clean Excess Solution:** Once solution has reached the outlet, you can use paper to collect the drained volume at the outlet. Then proceed to wick up the excess dye at the inlet using a kim-wipe to avoid spilling any solution and dispose of the kim-wipe. \n",
    "9. **Repeat for Replicates:** Repeat the process for each of the 6 channels provided with ~50µL volume introduced at each inlet. Note that channel 3 will take a long time (20-30 minutes) so we suggest running both replicates at the same time, and then working on the computational part of the lab while these run).\n"
   ]
  },
  {
   "cell_type": "markdown",
   "id": "40a62564-4e80-4bc1-aaa7-985b8eee43a7",
   "metadata": {},
   "source": [
    "## <font color=\"red\">  Relfection Question 1 </font>\n",
    "### <font color=\"red\"> Which channel took the longest time to drain, and why do you think it took the longest? Which channel took the shortest time to drain, and why do you think it took the shortest? By what factor did the drain times of channels 1 and 3 change relative to channel 2, and what do you think accounts for this difference?</font>\n",
    "### TODO: Answer Reflection Question 1 here\n",
    "\n",
    "## <font color=\"red\">  Relfection Question 2 </font>\n",
    "### <font color=\"red\">Think about why the addition of Tween was necessary for the hydrophobic chip. What do you think would have happened if it hadn't been used? Briefly research and explain the concept of wettability—how does it relate to the ability of a liquid to spread on a surface, and why is this important for fluid flow in microchannels?</font>\n",
    "### TODO: Answer Reflection Question 2 here\n",
    "\n",
    "## <font color=\"red\">  Relfection Question 3 </font>\n",
    "### <font color=\"red\">Did any of your channels fail? If so, what do you expect is the mode of failure and how could this be avoided in the future? If none of your channels failed, feel free to skip this question, or reflect the the failure mode of other people's chips in your lab section. </font>\n",
    "### TODO: Answer Reflection Question 3 here\n",
    "\n"
   ]
  },
  {
   "attachments": {},
   "cell_type": "markdown",
   "id": "ac50d9db-aecc-4004-b480-1f4a0c97c994",
   "metadata": {},
   "source": [
    "# Part 2: Flow Resistance Calculation\n",
    "Here, we provide the equation describing flow resistance in a rectangular microchannel. We have provided you the function for flow resistance (you do not need to modify this, just run the cells).\n",
    "\n",
    "![alt text](images/resistance.png)\n",
    "\n",
    "\n",
    "Figure from: Ainla, A. (2013). The Multifunctional Pipette. A Microfluidic Technology for the Biosciences."
   ]
  },
  {
   "cell_type": "code",
   "execution_count": 3,
   "id": "2ea0d7b4-70c7-4c45-835a-e04f903d81d9",
   "metadata": {},
   "outputs": [],
   "source": [
    "#You do not need to modify this cell, just run as is\n",
    "\n",
    "#import packages\n",
    "import numpy as np\n",
    "\n",
    "### CONSTANTS - in SI units\n",
    "# Properties of liquid\n",
    "#Approximation for PBST w/ 2% dye \n",
    "viscosity = 9.5e-4  #Pa\n",
    "surfTension = 0.03  #N/meter\n",
    "\n",
    "#width and height dimensions (placeholders)\n",
    "w = 400e-6  #meters    \n",
    "h = 400e-6 #meters \n",
    "l = 200e-3 #meters \n",
    "\n",
    "#contact angle measurement, in radians\n",
    "#changed from that of water due to using PBST w/ dye \n",
    "#hydrophobic top PDMS surface and hydrophilic side and bottom surfaces respectively\n",
    "#Approximated using Fig S12, Shafique H, et al, Lab Chip, 2024.\n",
    "\n",
    "thetaTopWall = (np.pi * 135/180)  #contact angle of cover tape, in radians \n",
    "thetaSideWalls = (np.pi * 52.5/180) #contact angle of PBST (no plasma treatment), in radians \n",
    "\n",
    "\n"
   ]
  },
  {
   "cell_type": "code",
   "execution_count": 9,
   "id": "00914277-2b43-4607-854d-292b364ac025",
   "metadata": {},
   "outputs": [],
   "source": [
    "#You do not need to modify this cell, just run as is\n",
    "#FLOWRES\n",
    "def flowResistance(w,h,l,viscosity):\n",
    "    h_actual = min(w,h)\n",
    "    w_actual= max(w,h)\n",
    "    flowRes = ((12*viscosity*l)/(1-0.63*(h_actual/w_actual)))*(1/(w_actual*(h_actual**3)))\n",
    "    return flowRes"
   ]
  },
  {
   "cell_type": "markdown",
   "id": "252fc0b5-beac-414c-bea3-8abd6f8d81d4",
   "metadata": {},
   "source": [
    "## Call the flowResistance function using the default constants defined for you already. </font>"
   ]
  },
  {
   "cell_type": "code",
   "execution_count": 10,
   "id": "af558250-403c-45fd-be1b-da8ec32bffa7",
   "metadata": {},
   "outputs": [],
   "source": [
    "#TODO: call the flowResistance function using the default constants and variables, print results\n"
   ]
  },
  {
   "cell_type": "markdown",
   "id": "887797a4-2ac4-473b-8585-813101832d71",
   "metadata": {},
   "source": [
    "## <font color=\"red\"> Refletion Question 4 </font>\n",
    "### <font color=\"red\"> Based on the equation for rectangular flow resistance, how do you expect changes in the height and length of a microfluidic channel to impact the flow resistance? Specifically, which of these two parameters (height or length) would you expect to have a greater effect on flow resistance, and why? </font>\n",
    "\n",
    "### TODO: Answer reflection question 4\n"
   ]
  },
  {
   "attachments": {},
   "cell_type": "markdown",
   "id": "68ee59b9-c176-4b61-9c47-c204c6a6d459",
   "metadata": {},
   "source": [
    "# Part 3: Capillary Pressure Function</font>\n",
    "\n",
    "In the figure below is the Young-Laplace Equation describing the capillary pressure of a rectangular microchannel. P is the capillary pressure, γ is the surface tension of liquid in the microchannel, and h, w, are the channel height and width respectively. θt, θb, θr, θl, are the top, bottom, right, and left channel wall contact angles, respectively. \n",
    "\n",
    "Given the Young-Laplace Equation describing the capillary pressure of a rectangular microchannel, write the capPressure function.  The function should take in w, h, thetaTopWall, thetaSideWalls, and surfTension and return capPressure.  **Assume thetaTopWall as equivalent to θt, and thetaSideWalls as equivalent to θb, θr, and θl.** \n",
    "\n",
    "<div style=\"text-align: center;\">\n",
    "    <img src=\"images/c8lc00458g-t1_hi-res.gif\" width=\"600\" />\n",
    "</div>\n",
    "<div style=\"text-align: center;\">\n",
    "    <img src=\"images/Screenshot_res.png\" width=\"400\" />\n",
    "</div>\n",
    "\n",
    "\n",
    "Adapted from Olanrewaju et al, 2018, Lab Chip,  https://doi.org/10/gk8xks and Olanrewaju et al, 2016, Lab Chip. https://doi.org/10.1039/C6LC00764C"
   ]
  },
  {
   "cell_type": "code",
   "execution_count": 6,
   "id": "05709c77-0905-4d25-97ff-9982923ccd47",
   "metadata": {},
   "outputs": [],
   "source": [
    "# CAPPRESSURE\n",
    "def capPressure(w, h, thetaTopWall, thetaSideWalls,surfTension):\n",
    "    #TODO: Capillary pressure calculation for wetting liquid\n",
    "    #hint use \"np.cos(angle)\"to call a cosine function\n",
    "    #fill in function here\n",
    "    return capPres"
   ]
  },
  {
   "cell_type": "markdown",
   "id": "38cc7cc7-d190-4058-bb88-63faa40d98f8",
   "metadata": {},
   "source": [
    "Call the capPressure function using the default constants defined for you already. </font>"
   ]
  },
  {
   "cell_type": "code",
   "execution_count": 7,
   "id": "e1938e69-258c-4d05-81c1-44f535dd2431",
   "metadata": {},
   "outputs": [],
   "source": [
    "#TODO: call the capPressure function using the default constants and variables, print results\n"
   ]
  },
  {
   "cell_type": "markdown",
   "id": "be2c3e88-ee08-41d3-a99e-5ee7b2991ac6",
   "metadata": {},
   "source": [
    "## <font color=\"red\"> Refletion Question 5 </font>\n",
    "### <font color=\"red\">How do fluid properties such as contact angle, viscosity, and surface tension influence fluid flow in rectangular microchannels? In your answer, explain the role of these properties in determining capillary pressure and flow resistance within microfluidic systems, and discuss their implications for microfluidic device performance.</font>\n",
    "\n",
    "### TODO: Answer reflection question 5\n",
    "\n"
   ]
  },
  {
   "attachments": {},
   "cell_type": "markdown",
   "id": "929c4664-b8ca-4fe7-a14a-e37d155cb864",
   "metadata": {},
   "source": [
    "# Part 4: Flow Rate Function</font>\n",
    "\n",
    "Given that we have already defined functions for capillary pressure (P) and flow resistance (R) in a microchannel, we can now use these two values to define a flow rate (Q) function (ie. rearranging the formula below). </font>\n",
    "\n",
    "<div style=\"text-align: center;\">\n",
    "    <img src=\"images/c8lc00458g-t7_hi-res.gif\" width=\"200\" />\n",
    "</div>\n",
    "\n"
   ]
  },
  {
   "cell_type": "code",
   "execution_count": 10,
   "id": "dc777bbf-88e4-4b40-88db-bb75364ca1d4",
   "metadata": {},
   "outputs": [],
   "source": [
    "def flowRate(calc_cap_pres,totalFlowRes):\n",
    "    #TODO: flowRate function\n",
    "\n",
    "    return flowrate"
   ]
  },
  {
   "cell_type": "markdown",
   "id": "d0ab86e9-1556-4dab-94c7-3387908faae5",
   "metadata": {},
   "source": [
    "<font size=\"4\">  Call the flowrate function using the results from running the capPressure function and flowResistance function with the default variables. </font>"
   ]
  },
  {
   "cell_type": "code",
   "execution_count": 11,
   "id": "b7ea5f96-21f8-494c-b9de-5f4d08425e7d",
   "metadata": {},
   "outputs": [],
   "source": [
    "#TODO: call the flowrate function using the default constants and variables, print results\n"
   ]
  },
  {
   "cell_type": "markdown",
   "id": "50d0f2b6-f679-49e9-8d97-49e25073bbca",
   "metadata": {},
   "source": [
    "# Part 5: Volume and Drain Time Functions</font>\n",
    "\n",
    "These are pretty self explanatory. Using the resulting flow rate calculation and volume calculation, fill out the function for drain time. Note if you have a negative flow rate value, this indicates that the flow is moving in the opposite direction of the reference direction, you will need to account for this in your drainTime function (after all, time cannot be negative)."
   ]
  },
  {
   "cell_type": "code",
   "execution_count": 12,
   "id": "a8a873d3-2b1a-4bb9-9b61-67912df56b32",
   "metadata": {},
   "outputs": [],
   "source": [
    "# VOLUME\n",
    "def Volume(w,h,l):\n",
    "    V = w*h*l\n",
    "    return V"
   ]
  },
  {
   "cell_type": "code",
   "execution_count": 13,
   "id": "8414bce5-10a8-4770-9ac9-c12b58094224",
   "metadata": {},
   "outputs": [],
   "source": [
    "def drainTime(flowrate,vol):\n",
    "    #TODO: use the volume and flow rate to write a function that returns drain time (ie. time for the volume of the channel to fill).\n",
    "    return time"
   ]
  },
  {
   "cell_type": "markdown",
   "id": "45671ef1-f6c4-4973-a04c-f7dfdefd64af",
   "metadata": {},
   "source": [
    "Call the Volume and drainTime functions ith the default variables.  </font>"
   ]
  },
  {
   "cell_type": "code",
   "execution_count": 1,
   "id": "d35dfe28-1d65-400a-a12b-d6bc0a26b8aa",
   "metadata": {},
   "outputs": [],
   "source": [
    "#TODO: call the volume and drainTime functions, print results\n"
   ]
  },
  {
   "cell_type": "markdown",
   "id": "4cfe73d8-b248-4634-8228-c8c8a4f6917c",
   "metadata": {},
   "source": [
    "# Part 6: Theoretical Drain Time Analysis with Varying Microchannel Dimensions</font>\n",
    "In part 1, you measured and recorded drain time for each of these channels. Your task is to calculate the theoretical drain time for these channels using the functions you completed in parts 2-5. Note that the units for length are in mm  and width/height are in µm.\n",
    "\n"
   ]
  },
  {
   "cell_type": "markdown",
   "id": "97a74e63-6e00-4c24-8531-b285cb9b33fd",
   "metadata": {},
   "source": [
    "## Microchannel 1\n",
    "- Dimensions of microfluidic channels\n",
    "    - width: 300µm\n",
    "    - length: 100mm\n",
    "    - height: 300µm"
   ]
  },
  {
   "cell_type": "code",
   "execution_count": 4,
   "id": "4d04bf61-58ed-4099-bdc9-40dc2937136b",
   "metadata": {},
   "outputs": [],
   "source": [
    "#TODO: adjust dimensions:length, width and height dimensions of microchannel 1\n",
    "w = 1 #meters    \n",
    "h = 1 #meters \n",
    "l = 1 #meters \n",
    "\n",
    "#Constants for buffer in SI units\n",
    "thetaTopWall = (np.pi * 135/180)  #in radians  \n",
    "thetaSideWalls = (np.pi * 52.5/180)\n",
    "viscosity = 9.5e-4  #Pa*s\n",
    "surfTension = 0.03  #N/meterr\n",
    "\n",
    "\n",
    "#TODO: Call flowResistance, capPressure, flowRate, volume, and drainTime functions after changing the dimensions to that of microchannel 1. Print results."
   ]
  },
  {
   "cell_type": "markdown",
   "id": "1af5ac9a-4e2e-46a2-a7ec-2b706edd6b86",
   "metadata": {},
   "source": [
    "## Microchannel 2\n",
    "- Dimensions of microfluidic channels\n",
    "    - width: 300µm\n",
    "    - length: 300mm\n",
    "    - height: 300µm"
   ]
  },
  {
   "cell_type": "code",
   "execution_count": 16,
   "id": "0519c8ca-16a4-450c-be4b-57cedac38500",
   "metadata": {},
   "outputs": [],
   "source": [
    "#TODO: adjust dimensions:length, width and height dimensions of microchannel 2\n",
    "w = 1 #meters    \n",
    "h = 1 #meters \n",
    "l = 1 #meters \n",
    "\n",
    "#Constants for buffer in SI units\n",
    "thetaTopWall = (np.pi * 135/180)  #in radians  \n",
    "thetaSideWalls = (np.pi * 52.5/180)\n",
    "viscosity = 9.5e-4  #Pa*s\n",
    "surfTension = 0.03  #N/meterr\n",
    "\n",
    "#TODO: Call flowResistance, capPressure, flowRate, volume, and drainTime functions after changing the dimensions to that of microchannel 2. Print results."
   ]
  },
  {
   "cell_type": "markdown",
   "id": "2e4ff389-3083-478c-ba82-a9472a1a790c",
   "metadata": {},
   "source": [
    "## Microchannel 3\n",
    "- Dimensions of microfluidic channels\n",
    "    - width: 300µm\n",
    "    - length: 300mm\n",
    "    - height: 100µm"
   ]
  },
  {
   "cell_type": "code",
   "execution_count": 17,
   "id": "72497a3e-9883-4287-9fd2-3fb95c711677",
   "metadata": {},
   "outputs": [],
   "source": [
    "#TODO: adjust dimensions:length, width and height dimensions of microchannel 3\n",
    "w = 1 #meters    \n",
    "h = 1 #meters \n",
    "l = 1 #meters \n",
    "\n",
    "#Constants for buffer in SI units\n",
    "thetaTopWall = (np.pi * 135/180)  #in radians  \n",
    "thetaSideWalls = (np.pi * 52.5/180)\n",
    "viscosity = 9.5e-4  #Pa*s\n",
    "surfTension = 0.03  #N/meterr\n",
    "\n",
    "\n",
    "#TODO: Call flowResistance, capPressure, flowRate, volume, and drainTime functions after changing the dimensions to that of microchannel 3. Print results."
   ]
  },
  {
   "cell_type": "markdown",
   "id": "aa521b2e-390f-41ae-a7ad-978ca83341b8",
   "metadata": {},
   "source": [
    "# Part 7: Analyze recorded vs theoretical drain times for different microchannels\n",
    "\n",
    "In part 1 you recorded the drain times for three different rectangular microchannels and in part 6 you calculated the theoretical drain times.\n",
    "\n",
    "Here we would like you to plot the recorded drain times versus the theoretical drain times for each microchannel. We have provided the skeleton code for necessary plotting, you are just responsible for inputting your data for the recorded and theoretical drain times. \n"
   ]
  },
  {
   "cell_type": "code",
   "execution_count": 5,
   "id": "808965d9-cead-4a0b-b743-64338353ad85",
   "metadata": {},
   "outputs": [
    {
     "data": {
      "image/png": "[encoded data removed]",
      "text/plain": [
       "<Figure size 800x600 with 1 Axes>"
      ]
     },
     "metadata": {},
     "output_type": "display_data"
    }
   ],
   "source": [
    "# Import necessary libraries\n",
    "import numpy as np\n",
    "import matplotlib.pyplot as plt\n",
    "\n",
    "# Define your data for recorded and theoretical drain times with replicates for each of the 3 channels\n",
    "# TODO: (replace example data with your actual recorded data) \n",
    "recorded_times_channel1 = np.array([113, 89])  # Replicates for Channel 1\n",
    "recorded_times_channel2 = np.array([186, 275])  # Replicates for Channel 2\n",
    "recorded_times_channel3 = np.array([1359, 1317])  # Replicates for Channel 3\n",
    "\n",
    "# TODO: (replace example data with your actual theoretical data) \n",
    "theoretical_times_channel1 = 28.52  # Theoretical value for Channel 1 (no replicates)\n",
    "theoretical_times_channel2 = 256  # Theoretical value for Channel 2\n",
    "theoretical_times_channel3 = 1375  # Theoretical value for Channel 3\n",
    "\n",
    "#you DO NOT need to modify the code below here\n",
    "# Calculate means and standard deviations for recorded times for each channel\n",
    "mean_recorded = [np.mean(recorded_times_channel1), np.mean(recorded_times_channel2), np.mean(recorded_times_channel3)]\n",
    "std_dev_recorded = [np.std(recorded_times_channel1), np.std(recorded_times_channel2), np.std(recorded_times_channel3)]\n",
    "\n",
    "# Theoretical times (single values for each channel)\n",
    "theoretical_times = [theoretical_times_channel1, theoretical_times_channel2, theoretical_times_channel3]\n",
    "\n",
    "# Plot the theoretical vs recorded drain times with error bars\n",
    "plt.figure(figsize=(8,6))\n",
    "\n",
    "# Plot for Recorded Times (with error bars)\n",
    "plt.errorbar(theoretical_times, mean_recorded, xerr=0, yerr=std_dev_recorded, fmt='o', color='blue', label='Recorded Times', capsize=5)\n",
    "\n",
    "# Add the line for perfect match\n",
    "plt.plot([20, 1400], [20, 1400], color='red', linestyle='--', label='Perfect match')\n",
    "\n",
    "# Labeling the axes and the plot\n",
    "plt.xlabel('Theoretical Drain Time (s)')\n",
    "plt.ylabel('Recorded Drain Time (s)')\n",
    "plt.title('Theoretical vs Recorded Drain Time for 3 Channels')\n",
    "plt.legend()\n",
    "plt.grid(True)\n",
    "plt.show()"
   ]
  },
  {
   "cell_type": "markdown",
   "id": "cfa92087-aed2-47d8-9e89-2674ff743e6d",
   "metadata": {},
   "source": [
    "Calculate the percentage error between the recorded and theoretical drain times for each microchannel. \n",
    "<div style=\"text-align: center;\">\n",
    "    <img src=\"images/percent_error.png\" width=\"800\" />\n",
    "</div>"
   ]
  },
  {
   "cell_type": "code",
   "execution_count": 7,
   "id": "c36c5703-7f96-4087-9441-1e3d8815f4c5",
   "metadata": {},
   "outputs": [],
   "source": [
    "# TODO: Calculate the percentage error between recorded and theoretical times\n",
    "#hint use np.abs for absolute value\n",
    "\n",
    "percentage_error = \n",
    "\n",
    "# TODO: Print the percentage error for each microchannel\n"
   ]
  },
  {
   "cell_type": "markdown",
   "id": "c0add513-00c0-4ccf-af06-fabbe2a85b90",
   "metadata": {},
   "source": [
    "## <font color=\"red\">Reflection Question 5</font>\n",
    "### <font color=\"red\">How did the recorded drain times compare to the theoretical values? Are the differences between the calculated and theoretical drain times consistent across the different channel sizes? If not, what factors could explain this?</font>\n",
    "### TODO: Answer Reflection Question 5 here\n",
    "\n",
    "\n",
    "\n",
    "## <font color=\"red\">Reflection Question 6 </font>\n",
    "### <font color=\"red\">Based on the observations from the plot and error calculations, how could you minimize error in future measurements? What improvements could be made to your experimental setup to improve accuracy? Reflect on the sources of potential errors, and suggest ways to address them in future hands-on experiments </font> \n",
    "### TODO: Answer Reflection Question 6 here"
   ]
  }
 ],
 "metadata": {
  "kernelspec": {
   "display_name": "Python (myenv)",
   "language": "python",
   "name": "myenv"
  },
  "language_info": {
   "codemirror_mode": {
    "name": "ipython",
    "version": 3
   },
   "file_extension": ".py",
   "mimetype": "text/x-python",
   "name": "python",
   "nbconvert_exporter": "python",
   "pygments_lexer": "ipython3",
   "version": "3.13.1"
  }
 },
 "nbformat": 4,
 "nbformat_minor": 5
}
