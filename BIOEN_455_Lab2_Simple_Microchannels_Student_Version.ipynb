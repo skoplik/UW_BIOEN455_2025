{
 "cells": [
  {
   "cell_type": "markdown",
   "id": "2d2a26f0-bf96-45d4-a958-ba4b9be83bed",
   "metadata": {},
   "source": [
    "# BIOEN 455 Lab 2 Winter 2025: Fluid Dynamics in Microfluidic Devices\n",
    "## By Sam Koplik and Ayo Olanrewaju (Fri Jan 17 2025)\n",
    "\n",
    "### Objective:\n",
    "Understand the principles of flow resistance, capillary pressure, and volume in microfluidic devices. Analyze the behavior of simple microchannels using this Python script and compare the experimental measurements of drain time to the theoretical ones determined computationally.\n",
    "\n",
    "### Instructions\n",
    "- Part 1 (hands-on experiments), should be done first, as there is some waiting time involved.\n",
    "- Complete code anywhere with a \"TODO:\" marked. Be sure to save your work frequently!\n",
    "- Parts 2-9 should be done in order and can be completed after lab.\n",
    "\n",
    "### Submission Guidelines\n",
    "- Put your name and date in the next cell \n",
    "- When finished, download and submit your modified script on Canvas as pdf (File> Save and Export Notebook As > PDF)\n",
    "- <font color=\"red\">Answer reflection questions (in red).</font> This can be completed after lab. You can type this in a markdown within this script."
   ]
  },
  {
   "cell_type": "markdown",
   "id": "ae0b8d36-5a8e-42ce-b19c-2fddaf474d0c",
   "metadata": {},
   "source": [
    "## Name:\n",
    "## Date:"
   ]
  },
  {
   "cell_type": "markdown",
   "id": "75ffe8ae-c98c-4672-9e7e-7b613372d9aa",
   "metadata": {},
   "source": [
    "# Part 1: Hands-on experiment testing of microfluidic channels.\n",
    "\n",
    "## Part 1.1 Measuring drain time for microchannels of different dimensions\n",
    "### Objective:\n",
    "You will measure and record the drain time of liquids in microfluidic channels with different dimensions. In Parts 2-7, you will calculate the theoretical drain times and compare them with the experimental results, exploring the effects of microchannel dimensions and liquid properties on flow behavior in microfluidic systems.\n",
    "\n",
    "### Channel CAD and Dimensions\n",
    "Here we have provided some CAD images of these simple microchannels and have provided the dimensions below. These chips contain simple rectangular channels. You will measure and record drain time for each channel, and compare the measured values to the theoretical ones later on in the lab.  We also have provided you space in this table to record drain times.  We recommend also writing these measurements down outside of this notebook to avoid any saving issues and loss of data.\n",
    "\n",
    "\n",
    "- <font color=\"blue\">**TBD add dimensions in and also put in part 5</font>\n",
    "\n",
    "| Chip # | Length (m) | Width (m) | Height (m) | Drain Time (s) |\n",
    "|--------|-------------|------------|-------------|----------------|\n",
    "| Chip 1 | TBD         | TBD        | TBD         |                |\n",
    "| Chip 2 | TBD         | TBD        | TBD         |                |\n",
    "| Chip 3 | TBD         | TBD        | TBD         |                |\n",
    "\n",
    "### Protocol:\n",
    "\n",
    "- Your task is to load the channels with water (colored with food dye) and allow the channels to drain. You will time and record the time for the channels to drain\n",
    "- <font color=\"blue\">**AYO Add more details here regarding specific experiment protocols</font>\n",
    "\n",
    "##  Part 1.2 Measuring Drain Time for Glycerol, Ethanol, and Methanol\n",
    "\n",
    "### Objective: \n",
    "To measure the drain time of 20% glycerol, ethanol, and methanol in microfluidic chips and compare the experimental drain times with theoretical ones. You will analyze how liquid properties such as viscosity, surface tension, and contact angle influence flow behavior in microfluidic systems.\n",
    "\n",
    "### Safety Precautions:\n",
    "\n",
    "Always wear appropriate PPE, Work in a well-ventilated area (e.g., fume hood) when handling methanol and ethanol as they are flammable. Handle glycerol carefully, as it is viscous and can be difficult to clean if spilled.\n",
    "\n",
    "### Liquid Properties\n",
    "Here we have provided information on each liquid you will be testing and the associated constants. We also have provided you space in this table to record drain times.  We recommend also writing these measurements down outside of this notebook to avoid any saving issues and loss of data.\n",
    "\n",
    "| Liquid        | Viscosity (Pa·s) | Surface Tension (N/m) | Contact Angle (degrees) | Drain Time (s) |\n",
    "|---------------|------------------|-----------------------|-------------------------|----------------|\n",
    "| Water         | 0.00089          | 0.0728                | TBD                     |                |\n",
    "| 20% Glycerol  | 0.0201           | 0.0620                | TBD                     |                |\n",
    "| Ethanol       | 0.0012           | 0.0223                | TBD                     |                |\n",
    "| Methanol      | 0.0006           | 0.0223                | TBD                     |                |\n",
    "\n",
    "### Protocol\n",
    "Follow the same protocol from part 1.1 as with water. Use chip 3 from part 1.1, you do not need to do this experiment in all 3 chips. "
   ]
  },
  {
   "attachments": {},
   "cell_type": "markdown",
   "id": "ac50d9db-aecc-4004-b480-1f4a0c97c994",
   "metadata": {},
   "source": [
    "# Part 2: Flow Resistance Calculation\n",
    "Here, we provide the equation describing flow resistance in a rectangular microchannel. We have provided you the function for flow resistance (you do not need to modify this).\n",
    "\n",
    "![alt text](images/resistance.png)\n",
    "\n",
    "\n",
    "Figure from: Ainla, A. (2013). The Multifunctional Pipette. A Microfluidic Technology for the Biosciences."
   ]
  },
  {
   "cell_type": "code",
   "execution_count": 19,
   "id": "2ea0d7b4-70c7-4c45-835a-e04f903d81d9",
   "metadata": {},
   "outputs": [],
   "source": [
    "#You do not need to modify this cell\n",
    "\n",
    "#import packages\n",
    "import numpy as np\n",
    "\n",
    "### CONSTANTS - in SI units\n",
    "# Properties of liquid\n",
    "viscosity = 8.9e-4  #Pa*s\n",
    "\n",
    "# Surface tension of water is 0.073\n",
    "surfTension = 0.073  #N/meter\n",
    "\n",
    "#width and height dimensions\n",
    "w = 350e-6  #meters    \n",
    "h = 150e-6 #meters \n",
    "l = 5e-3 #meters \n",
    "\n",
    "#contact angle measurement, in radians\n",
    "#hydrophobic top PDMS surface and hydrophilic side and bottom surfaces respectively\n",
    "thetaTopWall = (np.pi * 107.3/180)      #contact angle measurement after plasma treatment, in radians\n",
    "thetaSideWalls = (np.pi * 30.95/180)    #waterwash resin 4min plasma treatment   "
   ]
  },
  {
   "cell_type": "code",
   "execution_count": 20,
   "id": "00914277-2b43-4607-854d-292b364ac025",
   "metadata": {},
   "outputs": [],
   "source": [
    "#You do not need to modify this cell\n",
    "#FLOWRES\n",
    "def flowResistance(w,h,l,viscosity):\n",
    "    viscosity = 8.9e-4  #Pa*s\n",
    "    h_actual = min(w,h)\n",
    "    w_actual= max(w,h)\n",
    "    flowRes = ((12*viscosity*l)/(1-0.63*(h_actual/w_actual)))*(1/(w_actual*(h_actual**3)))\n",
    "    return flowRes"
   ]
  },
  {
   "cell_type": "markdown",
   "id": "252fc0b5-beac-414c-bea3-8abd6f8d81d4",
   "metadata": {},
   "source": [
    "## Call the flowResistance function using the default constants defined for you already. </font>"
   ]
  },
  {
   "cell_type": "code",
   "execution_count": 1,
   "id": "af558250-403c-45fd-be1b-da8ec32bffa7",
   "metadata": {},
   "outputs": [],
   "source": [
    "#TODO: call the flowResistance function using the default constants and variables, print results\n"
   ]
  },
  {
   "cell_type": "markdown",
   "id": "887797a4-2ac4-473b-8585-813101832d71",
   "metadata": {},
   "source": [
    "## <font color=\"red\"> Refletion Question 1 </font>\n",
    "### <font color=\"red\"> Why is it important to ensure that the width is always greater than the height when calculating flow resistance? Considering design and practical considerations for 3-D printing, why does having a width greater than height make sense?</font>\n",
    "\n",
    "### TODO: Answer reflection question 1\n"
   ]
  },
  {
   "attachments": {},
   "cell_type": "markdown",
   "id": "68ee59b9-c176-4b61-9c47-c204c6a6d459",
   "metadata": {},
   "source": [
    "# Part 3: Capillary Pressure Function</font>\n",
    "\n",
    "In the figure below is the Young-Laplace Equation describing the capillary pressure of a rectangular microchannel. P is the capillary pressure, γ is the surface tension of liquid in the microchannel, and h, w, are the channel height and width respectively. θt, θb, θr, θl, are the top, bottom, right, and left channel wall contact angles, respectively. \n",
    "\n",
    "<img src=\"images/c8lc00458g-t1_hi-res.gif\" width=\"600\" />\n",
    "\n",
    "<img src=\"images/Screenshot_res.png\" width=\"300\" />\n",
    "\n",
    "Adapted from Olanrewaju et al, 2018, Lab Chip,  https://doi.org/10/gk8xks and Olanrewaju et al, 2016, Lab Chip. https://doi.org/10.1039/C6LC00764C"
   ]
  },
  {
   "cell_type": "code",
   "execution_count": 1,
   "id": "05709c77-0905-4d25-97ff-9982923ccd47",
   "metadata": {},
   "outputs": [],
   "source": [
    "# CAPPRESSURE\n",
    "def capPressure(w, h, thetaTopWall, thetaSideWalls,surfTension):\n",
    "    #TODO: Capillary pressure calculation for wetting liquid\n",
    "    #hint use \"np.cos(angle)\"to call a cosine function\n",
    "    #fill in function here\n",
    "    return capPressure"
   ]
  },
  {
   "cell_type": "markdown",
   "id": "38cc7cc7-d190-4058-bb88-63faa40d98f8",
   "metadata": {},
   "source": [
    "Call the capPressure function using the default constants defined for you already. </font>"
   ]
  },
  {
   "cell_type": "code",
   "execution_count": 5,
   "id": "e1938e69-258c-4d05-81c1-44f535dd2431",
   "metadata": {},
   "outputs": [],
   "source": [
    "#TODO: call the capPressure function using the default constants and variables, print results\n"
   ]
  },
  {
   "cell_type": "markdown",
   "id": "be2c3e88-ee08-41d3-a99e-5ee7b2991ac6",
   "metadata": {},
   "source": [
    "## <font color=\"red\"> Refletion Question 2 </font>\n",
    "### <font color=\"red\"> How does the contact angle between a liquid and a solid surface affect fluid flow in rectangular microchannels? Discuss how the contact angle influences the capillary pressure, flow rate, and resistance in microfluidic systems, particularly in terms of wetting versus non-wetting surfaces.</font>\n",
    "\n",
    "### TODO: Answer reflection question 2\n",
    "\n"
   ]
  },
  {
   "attachments": {},
   "cell_type": "markdown",
   "id": "929c4664-b8ca-4fe7-a14a-e37d155cb864",
   "metadata": {},
   "source": [
    "# Part 4: Flow Rate Function</font>\n",
    "\n",
    "Given that we have already defined functions for capillary pressure and flow resistance in a microchannel, using electrical analogies we can now use these two values to define a flow rate function (ie. Q in the formula below). </font>\n",
    "\n",
    "<img src=\"images/c8lc00458g-t7_hi-res.gif\" width=\"600\" />\n",
    "\n",
    "\n",
    "\n"
   ]
  },
  {
   "cell_type": "code",
   "execution_count": 17,
   "id": "dc777bbf-88e4-4b40-88db-bb75364ca1d4",
   "metadata": {},
   "outputs": [],
   "source": [
    "def flowRate(calc_cap_pres,totalFlowRes):\n",
    "    #TODO: flowRate function\n",
    "\n",
    "    return flowrate"
   ]
  },
  {
   "cell_type": "markdown",
   "id": "d0ab86e9-1556-4dab-94c7-3387908faae5",
   "metadata": {},
   "source": [
    "<font size=\"4\">  Call the flowrate function using the results from running the capPressure function and flowResistance function with the default variables. </font>"
   ]
  },
  {
   "cell_type": "code",
   "execution_count": 18,
   "id": "b7ea5f96-21f8-494c-b9de-5f4d08425e7d",
   "metadata": {},
   "outputs": [],
   "source": [
    "#TODO: call the flowrate function using the default constants and variables, print results\n"
   ]
  },
  {
   "cell_type": "markdown",
   "id": "50d0f2b6-f679-49e9-8d97-49e25073bbca",
   "metadata": {},
   "source": [
    "# Part 5: Volume and Drain Time Functions</font>\n",
    "\n",
    "These are pretty self explanatory. Using the resulting flow rate calculation and volume calculation, fill out the function for drain time. Note if you have a negative flow rate value, this indicates that the flow is moving in the opposite direction of the reference direction, you will need to account for this in your drainTime function (after all, time cannot be negative).\n",
    "\n"
   ]
  },
  {
   "cell_type": "code",
   "execution_count": 19,
   "id": "d1657b6f-938f-462f-854f-14ea61fb97a0",
   "metadata": {},
   "outputs": [],
   "source": [
    "# VOLUME\n",
    "def Volume(w,h,l):\n",
    "    V = w*h*l\n",
    "    return V"
   ]
  },
  {
   "cell_type": "code",
   "execution_count": 20,
   "id": "8414bce5-10a8-4770-9ac9-c12b58094224",
   "metadata": {},
   "outputs": [],
   "source": [
    "def drainTime(flowrate,vol):\n",
    "    #TODO: use the resulting volume and flow rate calculation to write a function that returns drain time.\n",
    "    return time"
   ]
  },
  {
   "cell_type": "markdown",
   "id": "45671ef1-f6c4-4973-a04c-f7dfdefd64af",
   "metadata": {},
   "source": [
    "Call the Volume and drainTime functions ith the default variables.  </font>"
   ]
  },
  {
   "cell_type": "code",
   "execution_count": 21,
   "id": "d35dfe28-1d65-400a-a12b-d6bc0a26b8aa",
   "metadata": {},
   "outputs": [],
   "source": [
    "#TODO: call the volume and drainTime functions, print results\n"
   ]
  },
  {
   "cell_type": "markdown",
   "id": "4cfe73d8-b248-4634-8228-c8c8a4f6917c",
   "metadata": {},
   "source": [
    "# Part 6: Theoretical Drain Time Analysis with Varying Microchannel Dimensions</font>\n",
    "In part 1.1, you measured and recorded drain time for each of these channels. Your task is to calculate the theoretical drain time for these channels using the functions you completed in parts 2-5.\n",
    "\n"
   ]
  },
  {
   "cell_type": "markdown",
   "id": "97a74e63-6e00-4c24-8531-b285cb9b33fd",
   "metadata": {},
   "source": [
    "## Microchannel 1\n",
    "- <font color=\"blue\"> Dimensions of microfluidic channels </font>\n",
    "    - width:\n",
    "    - length:\n",
    "    - height:\n",
    "**AYO AND SAM INSERT DIMENSIONS"
   ]
  },
  {
   "cell_type": "code",
   "execution_count": 8,
   "id": "4d04bf61-58ed-4099-bdc9-40dc2937136b",
   "metadata": {},
   "outputs": [],
   "source": [
    "#TODO: adjust dimensions:length, width and height dimensions of microchannel 1\n",
    "w = 1 #meters    \n",
    "h = 1 #meters \n",
    "l = 1 #meters \n",
    "\n",
    "#Constants for water in SI units\n",
    "thetaTopWall = (np.pi * 107.3/180)  #in radians  \n",
    "thetaSideWalls = (np.pi * 30.95/180) \n",
    "viscosity = 8.9e-4  #Pa*s\n",
    "surfTension = 0.073  #N/meter\n",
    "\n",
    "#TODO: Call flowResistance, capPressure. flowRate, Volume, and drainTime functions after changing the dimensions to that of microchannel 1. "
   ]
  },
  {
   "cell_type": "markdown",
   "id": "1af5ac9a-4e2e-46a2-a7ec-2b706edd6b86",
   "metadata": {},
   "source": [
    "## Microchannel 2\n",
    "- <font color=\"blue\"> Dimensions of microfluidic channels </font>\n",
    "    - width:\n",
    "    - length:\n",
    "    - height:\n",
    "**AYO AND SAM INSERT DIMENSIONS"
   ]
  },
  {
   "cell_type": "code",
   "execution_count": 4,
   "id": "0519c8ca-16a4-450c-be4b-57cedac38500",
   "metadata": {},
   "outputs": [],
   "source": [
    "#TODO: adjust dimensions:length, width and height dimensions of microchannel 2\n",
    "w = 1 #meters    \n",
    "h = 1 #meters \n",
    "l = 1 #meters \n",
    "\n",
    "#Constants for water in SI units\n",
    "thetaTopWall = (np.pi * 107.3/180)  #in radians  \n",
    "thetaSideWalls = (np.pi * 30.95/180) \n",
    "viscosity = 8.9e-4  #Pa*s\n",
    "surfTension = 0.073  #N/meter\n",
    "\n",
    "#TODO: Call flowResistance, capPressure. flowRate, Volume, and drainTime functions after changing the dimensions to that of microchannel 2. "
   ]
  },
  {
   "cell_type": "markdown",
   "id": "2e4ff389-3083-478c-ba82-a9472a1a790c",
   "metadata": {},
   "source": [
    "## Microchannel 3\n",
    "- <font color=\"blue\"> Dimensions of microfluidic channels </font>\n",
    "    - width:\n",
    "    - length:\n",
    "    - height:\n",
    "**AYO AND SAM INSERT DIMENSIONS"
   ]
  },
  {
   "cell_type": "code",
   "execution_count": 5,
   "id": "72497a3e-9883-4287-9fd2-3fb95c711677",
   "metadata": {},
   "outputs": [],
   "source": [
    "#TODO: adjust dimensions:length, width and height dimensions of microchannel 3\n",
    "w = 1 #meters    \n",
    "h = 1 #meters \n",
    "l = 1 #meters \n",
    "\n",
    "#Constants for water in SI units\n",
    "thetaTopWall = (np.pi * 107.3/180)  #in radians  \n",
    "thetaSideWalls = (np.pi * 30.95/180) \n",
    "viscosity = 8.9e-4  #Pa*s\n",
    "surfTension = 0.073  #N/meter\n",
    "\n",
    "#TODO: Call flowResistance, capPressure. flowRate, Volume, and drainTime functions after changing the dimensions to that of microchannel 3. "
   ]
  },
  {
   "cell_type": "markdown",
   "id": "aa521b2e-390f-41ae-a7ad-978ca83341b8",
   "metadata": {},
   "source": [
    "# Part 7: Analyze recorded vs theoretical drain times for different microchannels\n",
    "\n",
    "In part 1.1 you recorded the drain times for three different rectangular microchannels and in part 6 you calculated the theoretical drain times.\n",
    "\n",
    "Here we would like you to plot the recorded drain times versus the theoretical drain times for each microchannel. We have provided the skeleton code for necessary plotting, you are responsible for inputting your data. \n"
   ]
  },
  {
   "cell_type": "code",
   "execution_count": 18,
   "id": "25c5d702-aae3-41c6-920b-5a643e6da64e",
   "metadata": {},
   "outputs": [
    {
     "data": {
      "image/png": "[encoded data removed]",
      "text/plain": [
       "<Figure size 600x600 with 1 Axes>"
      ]
     },
     "metadata": {},
     "output_type": "display_data"
    }
   ],
   "source": [
    "# Import necessary libraries\n",
    "import numpy as np\n",
    "import matplotlib.pyplot as plt\n",
    "# Add any other necessary libraries here if needed\n",
    "\n",
    "# Define your data for recorded and theoretical drain times\n",
    "# Example data (replace with your actual recorded and theoretical drain times)\n",
    "recorded_times = np.array([1000,800,1200])  # TODO: Replace valuess with actual recorded times\n",
    "theoretical_times = np.array([900,800,1000])  # TODO: Replace values with actual theoretical times\n",
    "\n",
    "# Plot the recorded vs theoretical drain times\n",
    "plt.figure(figsize=(6,6))\n",
    "plt.scatter(theoretical_times, recorded_times, color='blue', label='Recorded vs Theoretical')\n",
    "plt.plot([0, max(theoretical_times)], [0, max(theoretical_times)], color='red', linestyle='--', label='Perfect match')\n",
    "plt.xlabel('Theoretical Drain Time (s)')\n",
    "plt.ylabel('Recorded Drain Time (s)')\n",
    "plt.title('Recorded vs Theoretical Drain Time')\n",
    "plt.legend()\n",
    "plt.grid(True)\n",
    "plt.show()"
   ]
  },
  {
   "cell_type": "markdown",
   "id": "4dabf8fa-f0a5-438b-99e5-0a41ae83e424",
   "metadata": {},
   "source": [
    "Calculate the percentage error between the recorded and theoretical drain times for each microchannel. \n",
    "\n",
    "<img src=\"images/percent_error.png\" width=\"600\" />"
   ]
  },
  {
   "cell_type": "code",
   "execution_count": null,
   "id": "f9ce64c9-75df-4455-a0c9-92ae45cf4331",
   "metadata": {},
   "outputs": [],
   "source": [
    "# TODO: Calculate the percentage error between recorded and theoretical times\n",
    "#hint use np.abs for absolute value\n",
    "\n",
    "percentage_error = \n",
    "\n",
    "# TODO: Print the percentage error for each microchannel\n"
   ]
  },
  {
   "cell_type": "markdown",
   "id": "f212e3af-3a89-4b7b-b891-829c92dea8d7",
   "metadata": {},
   "source": [
    "## <font color=\"red\">  Relfection Question 3 </font>\n",
    "### <font color=\"red\">Based on the calculated errors and any observations from the plot, how could you minimize experimental errors in future measurements?  What improvements could be made in your experimental setup to improve accuracy? </font> \n",
    "\n",
    "### TODO: Answer Reflection Question 3 here"
   ]
  },
  {
   "cell_type": "markdown",
   "id": "44995f6c-27c1-4462-9af6-0c905adda73a",
   "metadata": {},
   "source": [
    "# Part 8: Theoretical Drain Time Analysis with Varying Liquid Properties</font>\n",
    "In part 1.2, you measured and recorded drain time for various liquids with different surface tension and viscosity. Your task is to calculate the theoretical drain time for these liquids in a microchannels using the functions you completed in parts 2-5."
   ]
  },
  {
   "cell_type": "markdown",
   "id": "8a861a0c-26b0-4793-baf4-b074f1ba60e1",
   "metadata": {},
   "source": [
    "## Liquid 1\n",
    "- <font color=\"blue\"> Liquid Properties and Microchannel dimensions </font>\n",
    "    - width:\n",
    "    - length:\n",
    "    - height:\n",
    "    - viscosity\n",
    "    - surfTension\n",
    "    - thetaTopWall\n",
    "    - thetaSideWalls\n",
    "**AYO AND SAM INSERT DIMENSIONS/PROPERTIES"
   ]
  },
  {
   "cell_type": "code",
   "execution_count": 11,
   "id": "b5e6078b-1ff5-43b7-9715-c0f61c82145a",
   "metadata": {},
   "outputs": [],
   "source": [
    "#TODO: adjust dimensions:length, width and height dimensions of microchannel 3\n",
    "w = 1 #meters    \n",
    "h = 1 #meters \n",
    "l = 1 #meters \n",
    "\n",
    "#TODO: adjust dimensions thetaTopWall, thetaSideWalls, viscosity, and surfTension for liquid 1\n",
    "#Constants for water in SI units\n",
    "thetaTopWall = (np.pi * 107.3/180)  #in radians  \n",
    "thetaSideWalls = (np.pi * 30.95/180) \n",
    "viscosity = 8.9e-4  #Pa*s\n",
    "surfTension = 0.073  #N/meter\n",
    "\n",
    "#TODO: Call flowResistance, capPressure. flowRate, Volume, and drainTime functions after changing the dimensions and constants. "
   ]
  },
  {
   "cell_type": "markdown",
   "id": "702200da-4d30-4541-ba1e-a8df1ea69556",
   "metadata": {},
   "source": [
    "## Liquid 2\n",
    "- <font color=\"blue\"> Liquid Properties and Microchannel dimensions </font>\n",
    "    - width:\n",
    "    - length:\n",
    "    - height:\n",
    "    - viscosity\n",
    "    - surfTension\n",
    "    - thetaTopWall\n",
    "    - thetaSideWalls\n",
    "**AYO AND SAM INSERT DIMENSIONS/PROPERTIES"
   ]
  },
  {
   "cell_type": "code",
   "execution_count": 10,
   "id": "6748d2d4-a75b-4ee5-9a05-5500bd630e05",
   "metadata": {},
   "outputs": [],
   "source": [
    "#TODO: adjust dimensions:length, width and height dimensions of microchannel 3\n",
    "w = 1 #meters    \n",
    "h = 1 #meters \n",
    "l = 1 #meters \n",
    "\n",
    "#TODO: adjust dimensions thetaTopWall, thetaSideWalls, viscosity, and surfTension for liquid 2\n",
    "#Constants for water in SI units\n",
    "thetaTopWall = (np.pi * 107.3/180)  #in radians  \n",
    "thetaSideWalls = (np.pi * 30.95/180) \n",
    "viscosity = 8.9e-4  #Pa*s\n",
    "surfTension = 0.073  #N/meter\n",
    "\n",
    "#TODO: Call flowResistance, capPressure. flowRate, Volume, and drainTime functions after changing the dimensions and constants. "
   ]
  },
  {
   "cell_type": "markdown",
   "id": "082bed44-0c8a-4518-8213-20dcdd1f1b41",
   "metadata": {},
   "source": [
    "## Liquid 3\n",
    "- <font color=\"blue\"> Liquid Properties and Microchannel dimensions </font>\n",
    "    - width:\n",
    "    - length:\n",
    "    - height:\n",
    "    - viscosity\n",
    "    - surfTension\n",
    "    - thetaTopWall\n",
    "    - thetaSideWalls\n",
    "**AYO AND SAM INSERT DIMENSIONS/PROPERTIES"
   ]
  },
  {
   "cell_type": "code",
   "execution_count": 12,
   "id": "66509113-60f1-4973-8b40-5947f45a609b",
   "metadata": {},
   "outputs": [],
   "source": [
    "#TODO: adjust dimensions:length, width and height dimensions of microchannel 3\n",
    "w = 1 #meters    \n",
    "h = 1 #meters \n",
    "l = 1 #meters \n",
    "\n",
    "#TODO: adjust dimensions thetaTopWall, thetaSideWalls, viscosity, and surfTension for liquid 3\n",
    "#Constants for water in SI units\n",
    "thetaTopWall = (np.pi * 107.3/180)  #in radians  \n",
    "thetaSideWalls = (np.pi * 30.95/180) \n",
    "viscosity = 8.9e-4  #Pa*s\n",
    "surfTension = 0.073  #N/meter\n",
    "\n",
    "#TODO: Call flowResistance, capPressure. flowRate, Volume, and drainTime functions after changing the dimensions and constants. "
   ]
  },
  {
   "cell_type": "markdown",
   "id": "acbac074-7fac-4dd0-b1d1-2468bfaa7e40",
   "metadata": {},
   "source": [
    "# Part 9: Analyze recorded vs theoretical drain times for different liquids\n",
    "\n",
    "In part 1.2 you recorded the drain times for three different liquids in rectangular microchannels and in part 9 you calculated the theoretical drain times for those liquids (and also did this in part 8 for water).\n",
    "\n",
    "Here we would like you to plot the recorded drain times versus the theoretical drain times for each microchannel. We have provided the skeleton code for necessary plotting, you are just responsible for inputting your data. \n"
   ]
  },
  {
   "cell_type": "code",
   "execution_count": 16,
   "id": "a4b04910-0266-46f3-b7bc-3ea95ae2366f",
   "metadata": {},
   "outputs": [
    {
     "data": {
      "image/png": "[encoded data removed]",
      "text/plain": [
       "<Figure size 600x600 with 1 Axes>"
      ]
     },
     "metadata": {},
     "output_type": "display_data"
    }
   ],
   "source": [
    "# Import necessary libraries\n",
    "import numpy as np\n",
    "import matplotlib.pyplot as plt\n",
    "\n",
    "# Define your data for recorded and theoretical drain times\n",
    "# TODO: Replace example data with your actual recorded and theoretical drain times\n",
    "# Recorded drain times (in seconds) for each liquid\n",
    "recorded_times = np.array([1200, 800, 600, 1800])  # TODO: Replace these values with actual recorded times\n",
    "# Theoretical drain times (in seconds) based on liquid properties (viscosity, surface tension, etc.)\n",
    "theoretical_times = np.array([1000, 900, 700, 1200])  # TODO: Replace these with your theoretical predictions\n",
    "\n",
    "# Liquids corresponding to each drain time\n",
    "liquids = ['Water', 'Ethanol', 'Methanol', '20% Glycerol']\n",
    "\n",
    "# Plot the recorded vs theoretical drain times\n",
    "plt.figure(figsize=(6,6))\n",
    "plt.scatter(theoretical_times, recorded_times, color='blue', label='Recorded vs Theoretical')\n",
    "\n",
    "# Add a line for perfect match (theoretical = recorded)\n",
    "plt.plot([0, max(theoretical_times)], [0, max(theoretical_times)], color='red', linestyle='--', label='Perfect match')\n",
    "\n",
    "# Label the axes and title\n",
    "plt.xlabel('Theoretical Drain Time (s)')\n",
    "plt.ylabel('Recorded Drain Time (s)')\n",
    "plt.title('Recorded vs Theoretical Drain Time')\n",
    "\n",
    "# Annotate the points with liquid names\n",
    "for i, liquid in enumerate(liquids):\n",
    "    plt.annotate(liquid, (theoretical_times[i], recorded_times[i]), textcoords=\"offset points\", xytext=(0, 5), ha='center')\n",
    "\n",
    "# Display the legend and grid\n",
    "plt.legend()\n",
    "plt.grid(True)\n",
    "\n",
    "# Show the plot\n",
    "plt.show()\n"
   ]
  },
  {
   "cell_type": "markdown",
   "id": "9aebd531-e906-4245-a6fc-c368e18a4d15",
   "metadata": {},
   "source": [
    "## <font color=\"red\">  Reflection Question 4 </font>\n",
    "### <font color=\"red\"> How do the properties of the liquids used in this experiment (water, ethanol, methanol, and 20% glycerol) affect their flow behavior in the microfluidic channels? Consider how factors such as viscosity, surface tension, and contact angle might influence the observed drain times. Which liquid showed the most significant deviation from the theoretical drain time, and what might explain this discrepancy? </font>\n",
    "\n",
    "### TODO: Answer Reflection Question 3 here\n",
    "\n"
   ]
  }
 ],
 "metadata": {
  "kernelspec": {
   "display_name": "Python (myenv)",
   "language": "python",
   "name": "myenv"
  },
  "language_info": {
   "codemirror_mode": {
    "name": "ipython",
    "version": 3
   },
   "file_extension": ".py",
   "mimetype": "text/x-python",
   "name": "python",
   "nbconvert_exporter": "python",
   "pygments_lexer": "ipython3",
   "version": "3.13.1"
  }
 },
 "nbformat": 4,
 "nbformat_minor": 5
}
