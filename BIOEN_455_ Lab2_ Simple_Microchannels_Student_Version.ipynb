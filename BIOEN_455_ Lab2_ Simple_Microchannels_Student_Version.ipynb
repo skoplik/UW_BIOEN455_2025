{
 "cells": [
  {
   "cell_type": "markdown",
   "id": "2d2a26f0-bf96-45d4-a958-ba4b9be83bed",
   "metadata": {},
   "source": [
    "# BIOEN 455 Lab 2 Winter 2025: Fluid Dynamics in Microfluidic Devices\n",
    "## Script by Ayo Olanrewaju (Created on Wed Jun 15 2016)\n",
    "## Edited by Sam Koplik (Fri Jan 17 2025)\n",
    "\n",
    "### Objective:\n",
    "Understand the principles of flow resistance, capillary pressure, and volume in microfluidic devices. Analyze the behavior of simple microchannels using this Python script and compare the experimental measurements of drain time to the theoretical ones determined computationally.\n",
    "\n",
    "### Instructions\n",
    "- Part 0 (hands-on experiments), should be done first, as there is some waiting time involved.\n",
    "- Complete code anywhere with a \"TODO:\" marked.\n",
    "- Parts 1-5 should be done in order.\n",
    "\n",
    "### Submission Guidelines\n",
    "- Put your name and date in the next cell \n",
    "- When finished, download and submit your modified script on Canvas as pdf (File> Save and Export Notebook As > PDF)\n",
    "- <font color=\"red\">Answer reflection questions (in red). This can be completed after lab.</font> You can type this in a markdown within this script, or submit them as a separate file.\n",
    "- Use plots or graphs wherever applicable to support your explanations.\n"
   ]
  },
  {
   "cell_type": "markdown",
   "id": "ae0b8d36-5a8e-42ce-b19c-2fddaf474d0c",
   "metadata": {},
   "source": [
    "## Name:\n",
    "## Date:"
   ]
  },
  {
   "cell_type": "markdown",
   "id": "75ffe8ae-c98c-4672-9e7e-7b613372d9aa",
   "metadata": {},
   "source": [
    "# Part 0: Hands-on experiment testing of microfluidic channels.\n",
    "- You will be provided simple microfluidic chips that have been printed with defined dimensions that have been provided below.\n",
    "- These chips contain simple rectangular channels (x3).\n",
    "- You will measure and record drain time for each of these channels, and compare the measured values to the theoretical ones.\n",
    "- We reccomend also writing these measurements down outside of this notebook to avoid any saving issues and loss of data.\n",
    "\n",
    "## Protocol\n",
    "\n",
    "- Your task is to load the channels with water (colored with food dye) and allow the channels to drain. You will time and record the time for the channels to drain\n",
    "- **AYO Add more details here regarding specific experiment protocols\n"
   ]
  },
  {
   "attachments": {},
   "cell_type": "markdown",
   "id": "ac50d9db-aecc-4004-b480-1f4a0c97c994",
   "metadata": {},
   "source": [
    "# Part 1: Flow Resistance Calculation\n",
    "Here, we provide the equation describing flow resistance in a rectangular microchannel. We have provided you the function for flow resistance (you do not need to modify this).\n",
    "\n",
    "![alt text](images/resistance.png)\n",
    "\n",
    "\n",
    "\n",
    "\n",
    "Figure from: Ainla, A. (2013). The Multifunctional Pipette. A Microfluidic Technology for the Biosciences."
   ]
  },
  {
   "cell_type": "code",
   "execution_count": 4,
   "id": "2ea0d7b4-70c7-4c45-835a-e04f903d81d9",
   "metadata": {},
   "outputs": [],
   "source": [
    "#You do not need to modify this cell\n",
    "#import packages\n",
    "import numpy as np\n",
    "\n",
    "### CONSTANTS - in SI units\n",
    "# Properties of liquid\n",
    "viscosity = 8.9e-4  #Pa*s\n",
    "\n",
    "# Surface tension of water is 0.073\n",
    "surfTension = 0.073  #N/meter\n",
    "\n",
    "#width and height dimensions\n",
    "w = 350e-6  #meters    \n",
    "h = 150e-6 #meters \n",
    "l = 5e-3 #meters \n",
    "\n",
    "#contact angle measurement, in radians\n",
    "#hydrophobic top PDMS surface and hydrophilic side and bottom surfaces respectively\n",
    "thetaTopWall = (np.pi * 107.3/180)      #contact angle measurement after plasma treatment, in radians\n",
    "thetaSideWalls = (np.pi * 30.95/180)    #waterwash resin 4min plasma treatment   "
   ]
  },
  {
   "cell_type": "code",
   "execution_count": 15,
   "id": "00914277-2b43-4607-854d-292b364ac025",
   "metadata": {},
   "outputs": [],
   "source": [
    "#You do not need to modify this cell\n",
    "#FLOWRES\n",
    "def flowResistance(w,h,l):\n",
    "    viscosity = 8.9e-4  #Pa*s\n",
    "    h_actual = min(w,h)\n",
    "    w_actual= max(w,h)\n",
    "    flowRes = ((12*viscosity*l)/(1-0.63*(h_actual/w_actual)))*(1/(w_actual*(h_actual**3)))\n",
    "    return flowRes"
   ]
  },
  {
   "cell_type": "markdown",
   "id": "252fc0b5-beac-414c-bea3-8abd6f8d81d4",
   "metadata": {},
   "source": [
    "## Call the flowResistance function using the default constants defined for you already. </font>"
   ]
  },
  {
   "cell_type": "code",
   "execution_count": 1,
   "id": "af558250-403c-45fd-be1b-da8ec32bffa7",
   "metadata": {},
   "outputs": [],
   "source": [
    "#TODO: call the flowResistance function using the default constants and variables, print results\n"
   ]
  },
  {
   "attachments": {},
   "cell_type": "markdown",
   "id": "68ee59b9-c176-4b61-9c47-c204c6a6d459",
   "metadata": {},
   "source": [
    "# Part 2: Capillary Pressure Function</font>\n",
    "\n",
    "In the figure below is the Young-Laplace Equation describing the capillary pressure of a rectangular microchannel. P is the capillary pressure, γ is the surface tension of liquid in the microchannel, and h, w, are the channel height and width respectively. θt, θb, θr, θl, are the top, bottom, right, and left channel wall contact angles, respectively. \n",
    "\n",
    "<img src=\"images/c8lc00458g-t1_hi-res.gif\" width=\"600\" />\n",
    "\n",
    "<img src=\"images/Screenshot_res.png\" width=\"300\" />\n",
    "\n",
    "Adapted from Olanrewaju et al, 2018, Lab Chip,  https://doi.org/10/gk8xks and Olanrewaju et al, 2016, Lab Chip. https://doi.org/10.1039/C6LC00764C"
   ]
  },
  {
   "cell_type": "code",
   "execution_count": 4,
   "id": "05709c77-0905-4d25-97ff-9982923ccd47",
   "metadata": {},
   "outputs": [],
   "source": [
    "# CAPPRESSURE\n",
    "def capPressure(w, h, thetaTopWall, thetaSideWalls):\n",
    "    #TODO: Capillary pressure calculation for wetting liquid\n",
    "    #hint use \"np.cos(angle)\"to call a cosine function\n",
    "    #fill in function here\n",
    "    return capPressure"
   ]
  },
  {
   "cell_type": "markdown",
   "id": "38cc7cc7-d190-4058-bb88-63faa40d98f8",
   "metadata": {},
   "source": [
    "Call the capPressure function using the default constants defined for you already. </font>"
   ]
  },
  {
   "cell_type": "code",
   "execution_count": 5,
   "id": "e1938e69-258c-4d05-81c1-44f535dd2431",
   "metadata": {},
   "outputs": [],
   "source": [
    "#TODO: call the capPressure function using the default constants and variables, print results\n"
   ]
  },
  {
   "attachments": {},
   "cell_type": "markdown",
   "id": "929c4664-b8ca-4fe7-a14a-e37d155cb864",
   "metadata": {},
   "source": [
    "# Part 3: Flow Rate Function</font>\n",
    "\n",
    "Given that we have already defined functions for capillary pressure and flow resistance in a microchannel, using electrical analogies we can now use these two values to define a flow rate function (ie. Q in the formula below). </font>\n",
    "\n",
    "<img src=\"images/c8lc00458g-t7_hi-res.gif\" width=\"600\" />\n",
    "\n",
    "\n",
    "\n"
   ]
  },
  {
   "cell_type": "code",
   "execution_count": 17,
   "id": "dc777bbf-88e4-4b40-88db-bb75364ca1d4",
   "metadata": {},
   "outputs": [],
   "source": [
    "def flowRate(calc_cap_pres,totalFlowRes):\n",
    "    #TODO: flowRate function\n",
    "\n",
    "    return flowrate"
   ]
  },
  {
   "cell_type": "markdown",
   "id": "d0ab86e9-1556-4dab-94c7-3387908faae5",
   "metadata": {},
   "source": [
    "<font size=\"4\">  Call the flowrate function using the results from running the capPressure function and flowResistance function with the default variables. </font>"
   ]
  },
  {
   "cell_type": "code",
   "execution_count": 18,
   "id": "b7ea5f96-21f8-494c-b9de-5f4d08425e7d",
   "metadata": {},
   "outputs": [],
   "source": [
    "#TODO: call the flowrate function using the default constants and variables, print results\n"
   ]
  },
  {
   "cell_type": "markdown",
   "id": "50d0f2b6-f679-49e9-8d97-49e25073bbca",
   "metadata": {},
   "source": [
    "# Part 4: Volume and Drain Time Functions</font>\n",
    "\n",
    "These are pretty self explanatory. Using the resulting flow rate calculation and volume calculation, fill out the function for drain time. Note if you have a negative flow rate value, this indicates that the flow is moving in the opposite direction of the reference direction, you will need to account for this in your drainTime function (after all, time cannot be negative).\n",
    "\n"
   ]
  },
  {
   "cell_type": "code",
   "execution_count": 19,
   "id": "d1657b6f-938f-462f-854f-14ea61fb97a0",
   "metadata": {},
   "outputs": [],
   "source": [
    "# VOLUME\n",
    "def Volume(w,h,l):\n",
    "    V = w*h*l\n",
    "    return V"
   ]
  },
  {
   "cell_type": "code",
   "execution_count": 20,
   "id": "8414bce5-10a8-4770-9ac9-c12b58094224",
   "metadata": {},
   "outputs": [],
   "source": [
    "def drainTime(flowrate,vol):\n",
    "    #TODO: use the resulting volume and flow rate calculation to write a function that returns drain time.\n",
    "    return time"
   ]
  },
  {
   "cell_type": "markdown",
   "id": "45671ef1-f6c4-4973-a04c-f7dfdefd64af",
   "metadata": {},
   "source": [
    "Call the Volume and drainTime functions ith the default variables.  </font>"
   ]
  },
  {
   "cell_type": "code",
   "execution_count": 21,
   "id": "d35dfe28-1d65-400a-a12b-d6bc0a26b8aa",
   "metadata": {},
   "outputs": [],
   "source": [
    "#TODO: call the volume and drainTime functions, print results\n"
   ]
  },
  {
   "cell_type": "markdown",
   "id": "4cfe73d8-b248-4634-8228-c8c8a4f6917c",
   "metadata": {},
   "source": [
    "# Part 5: Microfluidic channels -- theoretical drain time.</font>\n",
    "- In part 0, you measured and recorded drain time for each of these channels\n",
    "- You task is to compare the measured values to the theoretical ones using the functions you completed in parts 1-4.\n",
    "\n"
   ]
  },
  {
   "cell_type": "markdown",
   "id": "97a74e63-6e00-4c24-8531-b285cb9b33fd",
   "metadata": {},
   "source": [
    "## Microchannel 1\n",
    "- Dimensions of microfluidic channels\n",
    "    - width:\n",
    "    - length:\n",
    "    - height:\n",
    "**AYO AND SAM INSERT CAD IMAGES and dimensions"
   ]
  },
  {
   "cell_type": "code",
   "execution_count": 22,
   "id": "4d04bf61-58ed-4099-bdc9-40dc2937136b",
   "metadata": {},
   "outputs": [],
   "source": [
    "#TODO: adjust dimensions:length, width and height dimensions of microchannel 1\n",
    "w = 1 #meters    \n",
    "h = 1 #meters \n",
    "l = 1 #meters \n",
    "\n",
    "#TODO: Call flowResistance, capPressure. flowRate, Volume, and drainTime functions after changing the dimensions to that of microchannel 1. "
   ]
  },
  {
   "cell_type": "markdown",
   "id": "1af5ac9a-4e2e-46a2-a7ec-2b706edd6b86",
   "metadata": {},
   "source": [
    "## Microchannel 2\n",
    "- Dimensions of microfluidic channels\n",
    "    - width:\n",
    "    - length:\n",
    "    - height:\n",
    "**AYO AND SAM INSERT CAD IMAGES"
   ]
  },
  {
   "cell_type": "code",
   "execution_count": 23,
   "id": "0519c8ca-16a4-450c-be4b-57cedac38500",
   "metadata": {},
   "outputs": [],
   "source": [
    "#TODO: adjust dimensions:length, width and height dimensions of microchannel 2\n",
    "w = 1 #meters    \n",
    "h = 1 #meters \n",
    "l = 1 #meters \n",
    "\n",
    "#TODO: Call flowResistance, capPressure. flowRate, Volume, and drainTime functions after changing the dimensions to that of microchannel 2. "
   ]
  },
  {
   "cell_type": "markdown",
   "id": "2e4ff389-3083-478c-ba82-a9472a1a790c",
   "metadata": {},
   "source": [
    "## Microchannel 3\n",
    "- Dimensions of microfluidic channels\n",
    "    - width:\n",
    "    - length:\n",
    "    - height:\n",
    "**AYO AND SAM INSERT CAD IMAGES"
   ]
  },
  {
   "cell_type": "code",
   "execution_count": 24,
   "id": "72497a3e-9883-4287-9fd2-3fb95c711677",
   "metadata": {},
   "outputs": [],
   "source": [
    "#TODO: adjust dimensions:length, width and height dimensions of microchannel 3\n",
    "w = 1 #meters    \n",
    "h = 1 #meters \n",
    "l = 1 #meters \n",
    "\n",
    "#TODO: Call flowResistance, capPressure. flowRate, Volume, and drainTime functions after changing the dimensions to that of microchannel 3. "
   ]
  }
 ],
 "metadata": {
  "kernelspec": {
   "display_name": "Python (myenv)",
   "language": "python",
   "name": "myenv"
  },
  "language_info": {
   "codemirror_mode": {
    "name": "ipython",
    "version": 3
   },
   "file_extension": ".py",
   "mimetype": "text/x-python",
   "name": "python",
   "nbconvert_exporter": "python",
   "pygments_lexer": "ipython3",
   "version": "3.13.1"
  }
 },
 "nbformat": 4,
 "nbformat_minor": 5
}
