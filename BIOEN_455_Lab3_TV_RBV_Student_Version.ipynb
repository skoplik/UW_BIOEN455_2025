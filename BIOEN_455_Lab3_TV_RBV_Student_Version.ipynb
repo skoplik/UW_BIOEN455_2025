{
 "cells": [
  {
   "cell_type": "markdown",
   "id": "7005e0b1-80fe-4f54-a787-1e0259d57d38",
   "metadata": {},
   "source": [
    "# BIOEN 455 Lab 3 Winter 2025: Retention Burst Valves and Trigger Valves  \n",
    "**By Sam Koplik and Ayo Olanrewaju (Jan 2025)**  \n",
    "\n",
    "---\n",
    "\n",
    "## Objective  \n",
    "The objective of this computational lab is to explore the design and behavior of capillaric circuits (CCs), specifically focusing on flow resistors, retention burst valves (RBVs) and trigger valves (TVs), to enable the autonomous and sequential delivery of liquids. **Based on the paper: [Autonomous microfluidic capillaric circuits replicated from 3D-printed molds](https://pubs.rsc.org/en/content/articlelanding/2016/lc/c6lc00764c)**  \n",
    "\n",
    "From videos of CCs (Olanrewaju et al 2016), you will record the drain time of liquids in reservoirs connected to Retention Burst Valves (RBVs) and Trigger Valves (TVs). You will later calculate the junction pressures, exploring the theory behind using TVs and RBVs for autonomous sequential delivery of four liquids.\n",
    "\n",
    "---\n",
    "\n",
    "## Instructions/ Submission Guidelines \n",
    "- There is an **optional** background read (Part 1) that goes through electric circuit and capillaric circuit analogies\n",
    "- Complete any section of code marked with a `TODO:`.\n",
    "- Save your work frequently to prevent data loss.\n",
    "- Answer all reflection questions (marked in red).  \n",
    "   - You may type your responses directly in markdown cells within the script. \n",
    "\n",
    "**For Submission:**\n",
    "1. Add your name and the date to the designated cell in the notebook.  \n",
    "2. Once finished, download and submit your modified script and reflection answers to Canvas as a **HTML** file and submit the **.ipynb** file:  \n",
    "   - Go to **File > Save and Export Notebook As > HTML**.\n",
    "   - Go to **File > Download** to save the ipynb file.\n",
    "\n",
    "---"
   ]
  },
  {
   "cell_type": "markdown",
   "id": "fe86edf5-dee6-4dc2-96d5-09c15701c5ea",
   "metadata": {},
   "source": [
    "# Name: \n",
    "# Date:"
   ]
  },
  {
   "cell_type": "markdown",
   "id": "c2a0321a-5367-4a7c-bfc7-ec92759a8be9",
   "metadata": {},
   "source": [
    "--- \n",
    "# <font color='blue'>Part 1 (Optional Read): DC Circuit and Capillaric Circuit Analogy\n",
    "#### **Objective:** To explore DC circuit analogies to microfluidic capillaric circuits by relating electrical resistance to fluidic resistance, voltage to pressure, and current to volumetric flow rate. This analogy will help illustrate how pressure differences drive flow through microfluidic channels, similar to how voltage differences drive electrical current through resistors, enabling a clearer understanding of capillary-driven microfluidic systems. Figures and content are modified from HyperPhysics.\n",
    "\n",
    "---\n"
   ]
  },
  {
   "cell_type": "markdown",
   "id": "cc6b72ff-ef0b-42e1-a499-092b92faa0fb",
   "metadata": {},
   "source": [
    "### **Poiseuille's and Ohm's Laws**\n",
    "![image.png](lab3_images/watdc.gif)\n",
    "\n",
    "#### In a capillaric circuit, pressure (P) drives fluid flow (F) through a network of channels, similar to how voltage drives current in a DC electrical circuit. Note we often using Q for fluid flow rather than F (as done in the figure). The resistance (R) in the system determines the relationship between pressure and flow rate—higher resistance results in lower flow, just as increasing electrical resistance reduces current. By drawing these parallels, we can better understand the governing principles of capillaric circuits and predict fluid behavior in microfluidic systems.\n",
    "---"
   ]
  },
  {
   "cell_type": "markdown",
   "id": "691c6832-710c-4005-8ec7-3265284cbfbc",
   "metadata": {},
   "source": [
    "### **Voltage-Pressure Analogy**\n",
    "\n",
    "\n",
    "![image.png](lab3_images/volpre.png)\n",
    "\n",
    "\n",
    "#### In a capillaric circuit, pressure sources function like batteries in electrical circuits. Just as a battery raises the voltage of charge to drive current flow, a pressure source increases fluid pressure to drive flow through the network.\n",
    "\n",
    "\n",
    "---"
   ]
  },
  {
   "cell_type": "markdown",
   "id": "d259a7ea-2bea-49e0-9c2a-3a4500cd6868",
   "metadata": {},
   "source": [
    "### **Current-Flowrate Analogy**\n",
    "\n",
    "![image.png](lab3_images/curflo2.gif) ![image.png](lab3_images/curflo3.gif)\n",
    "\n",
    "\n",
    "#### Volumetric flow rate (e.g., L/min, cm³/s, m³/s) is analogous to electric current (coulombs/s or amperes) in an electrical circuit. A wide channel (left) offers little resistance to fluid flow, similar to how a low-resistance wire (right) allows charge to flow easily. Just as a battery can power an appliance through a low-resistance wire with minimal voltage drop, a pressure source can drive fluid through a wide channel with minimal pressure loss, ensuring consistent flow throughout the system.\n",
    "---"
   ]
  },
  {
   "attachments": {},
   "cell_type": "markdown",
   "id": "c4c537b7-9898-4c8b-9e15-87b28c4d7fa8",
   "metadata": {},
   "source": [
    "### **Resistance Anaology**\n",
    "![resflo.gif](lab3_images/resflo.gif)\n",
    "\n",
    "\n",
    "#### The resistance to flow caused by a severe constriction in a water pipe is analogous to the resistance to electric current represented by a common electrical \"resistor.\" The constriction will offer greater resistance than the rest of the pipe system, just as a resistor in an electrical circuit has much higher resistance than the wire itself.\n",
    "\n",
    "#### If the only significant resistance in the system is the constriction, then most of the pressure drop will occur across this point, just as most of the voltage drop in an electrical circuit occurs across a resistor rather than the wire.\n",
    "---"
   ]
  },
  {
   "cell_type": "markdown",
   "id": "38bc9e5f-83a2-43ab-8385-40c7d226ac7e",
   "metadata": {},
   "source": [
    "### **Ohm’s Law and Its Application to Capillaric Circuits**  \n",
    "\n",
    "#### Ohm’s Law, fundamental to electrical circuits, also has an analogy in fluidic systems. In electrical circuits, the relationship between voltage, current, and resistance is given by:  \n",
    "\n",
    "$$\n",
    "\\displaystyle \\huge V = IR\n",
    "$$  \n",
    "\n",
    "#### Where:  \n",
    "$$\n",
    "\\displaystyle \\huge V \\text{ is the voltage (potential difference)}\n",
    "$$  \n",
    "\n",
    "$$\n",
    "\\displaystyle \\huge I \\text{ is the current}\n",
    "$$  \n",
    "\n",
    "$$\n",
    "\\displaystyle \\huge R \\text{ is the resistance}\n",
    "$$  \n",
    "\n",
    "---\n",
    "### **Ohm’s Law for Fluidic Circuits (Hagen-Poiseuille Analog)**  \n",
    "#### In capillaric circuits, pressure difference drives fluid flow, just as voltage drives electrical current. The fluidic equivalent of Ohm’s Law can be expressed as:  \n",
    "\n",
    "$$\n",
    "\\displaystyle \\huge \\Delta P = Q R_f\n",
    "$$  \n",
    "\n",
    "#### Where:  \n",
    "$$\n",
    "\\displaystyle \\huge \\Delta P \\text{ is the pressure drop across a microchannel}\n",
    "$$  \n",
    "\n",
    "$$\n",
    "\\displaystyle \\huge Q \\text{ is the volumetric flow rate}\n",
    "$$  \n",
    "\n",
    "$$\n",
    "\\displaystyle \\huge R_f \\text{ is the fluidic resistance}\n",
    "$$  \n",
    "\n",
    "---\n",
    "### **Combining Fluidic and Electrical Analogies**  \n",
    "$$\n",
    "\\displaystyle \\huge \\text{Voltage } (V) \\rightarrow \\text{Pressure Drop } (\\Delta P)\n",
    "$$  \n",
    "\n",
    "$$\n",
    "\\displaystyle \\huge \\text{Current } (I) \\rightarrow \\text{Flow Rate } (Q)\n",
    "$$  \n",
    "\n",
    "$$\n",
    "\\displaystyle \\huge \\text{Resistance } (R) \\rightarrow \\text{Fluidic Resistance } (R_f)\n",
    "$$  \n",
    "\n",
    "---\n",
    "### **Kirchhoff's Laws and Equivalent Resistance in Capillaric Circuits**\n",
    "\n",
    "#### In capillaric circuits, we can adapt **Kirchhoff's Laws** and the concept of **equivalent resistance** to understand the flow of fluid and the pressure distribution in a system of microchannels or fluidic components.\n",
    "---\n",
    "### **Kirchhoff's First Law (Conservation of Flow)**\n",
    "#### Kirchhoff’s First Law in fluid circuits states that the total flow entering a junction must equal the total flow exiting the junction. This is analogous to the conservation of current in electrical circuits.\n",
    "\n",
    "$$\n",
    "\\displaystyle \\huge \\sum Q_{\\text{in}} = \\sum Q_{\\text{out}}\n",
    "$$\n",
    "\n",
    "#### Where:\n",
    "\n",
    "$$\n",
    "\\displaystyle \\huge Q_{\\text{in}} \\text{ is the flow entering a junction (fluid coming from various channels or branches)}\n",
    "$$\n",
    "\n",
    "$$\n",
    "\\displaystyle \\huge Q_{\\text{out}} \\text{ is the flow exiting the junction (fluid flowing into different branches)}\n",
    "$$\n",
    "\n",
    "#### This ensures that fluid is conserved at each junction, similar to how current is conserved at electrical nodes.\n",
    "\n",
    "---\n",
    "### **Kirchhoff's Second Law (Pressure Drop)**\n",
    "#### Kirchhoff’s Second Law for capillaric circuits states that the sum of the pressure drops around any closed loop must equal zero, analogous to the voltage drops in electrical circuits.\n",
    "\n",
    "$$\n",
    "\\displaystyle \\huge \\sum \\Delta P = 0\n",
    "$$\n",
    "\n",
    "#### Where:\n",
    "\n",
    "$$\n",
    "\\displaystyle \\huge \\Delta P \\text{ is the pressure drop across each resistive element (such as narrow channels, valves, etc.)}\n",
    "$$\n",
    "\n",
    "#### The total pressure drop around a loop must balance out, ensuring that the pressure is distributed properly across the entire system.\n",
    "\n",
    "---\n",
    "### **Equivalent Flow Resistance in Capillaric Circuits**\n",
    "\n",
    "#### **1. Series Flow Resistance**\n",
    "#### When channels are connected end-to-end (in series), the total resistance to flow is the sum of the individual resistances:\n",
    "\n",
    "$$\n",
    "\\displaystyle \\huge R_{\\text{eq, series}} = R_1 + R_2 + \\dots + R_n\n",
    "$$\n",
    "\n",
    "#### Where:\n",
    "\n",
    "$$\n",
    "\\displaystyle \\huge R_1, R_2, \\dots, R_n \\text{ are the individual resistances of the connected channels in series}\n",
    "$$\n",
    "\n",
    "#### This is similar to how resistors add up in series in electrical circuits. As fluid flows through multiple connected segments, the total resistance increases.\n",
    "\n",
    "#### **2. Parallel Flow Resistance**\n",
    "#### When channels are connected in parallel, the total flow resistance is the reciprocal of the sum of the reciprocals of the individual resistances:\n",
    "\n",
    "$$\n",
    "\\displaystyle \\huge \\frac{1}{R_{\\text{eq, parallel}}} = \\frac{1}{R_1} + \\frac{1}{R_2} + \\dots + \\frac{1}{R_n}\n",
    "$$\n",
    "\n",
    "#### Where:\n",
    "\n",
    "$$\n",
    "\\displaystyle \\huge R_1, R_2, \\dots, R_n \\text{ are the individual resistances of the parallel channels}\n",
    "$$\n",
    "\n",
    "#### This is similar to how resistors in parallel reduce the total electrical resistance. By adding more parallel channels (paths), the overall resistance to fluid flow decreases.\n"
   ]
  },
  {
   "cell_type": "markdown",
   "id": "420e5b54-6b12-4e42-ae0d-e46f12e53f79",
   "metadata": {},
   "source": [
    "---\n",
    "# <font color='blue'>Part 2: Measuring Drain Time with Retention Burst Valves (RBVs) from CC Videos</font>\n",
    "### Instructions\n",
    " - Watch the video of the 4 RBV CC. The liquid will move as outlined in the figure below.\n",
    "\n",
    "\n",
    "![image.png](lab3_images/c6lc00764c-f3_parte.gif)\n",
    "\n",
    " - Record the drain times for each reservoir after its associated Retention Burst Valves (RBV) bursts. You can record these in the table provided. You should multiply your times by 20x as this video is 20x speed.\n",
    " - You may need to watch the video multiple times to measure these times. The 4th branch is the release channel. "
   ]
  },
  {
   "cell_type": "code",
   "execution_count": 2,
   "id": "00c9c07e-10f3-469f-8b26-9191b837fe7d",
   "metadata": {},
   "outputs": [
    {
     "name": "stdout",
     "output_type": "stream",
     "text": [
      "The history saving thread hit an unexpected error (OperationalError('attempt to write a readonly database')).History will not be written to the database.\n"
     ]
    },
    {
     "data": {
      "text/html": [
       "<video src=\"lab3_images/c6lc00764c1.mp4\" controls  >\n",
       "      Your browser does not support the <code>video</code> element.\n",
       "    </video>"
      ],
      "text/plain": [
       "<IPython.core.display.Video object>"
      ]
     },
     "execution_count": 2,
     "metadata": {},
     "output_type": "execute_result"
    }
   ],
   "source": [
    "from IPython.display import Video\n",
    "Video(\"lab3_images/c6lc00764c1.mp4\")"
   ]
  },
  {
   "cell_type": "markdown",
   "id": "67ed1aa2-6d91-40f7-ab3d-448da4c7e77e",
   "metadata": {},
   "source": [
    "### Table 2: Recorded Drain Times\n",
    "\n",
    "| Branch/ Valve #          | Branch  Drain Time (s) |\n",
    "|-------------------------|-------------------------|\n",
    "|1                        |                         |     \n",
    "|2                        |                         |                        \n",
    "|3                        |                         |\n",
    "|4                        |                         |\n",
    "\n",
    "\n",
    "\n",
    "### Table 3: Reservoir Volumes (volumes are the reservoir + RBV combined volume)\n",
    "\n",
    "| Reservoir | Volume (µL)  |\n",
    "|-----------|--------------|\n",
    "| 1         | 15.8         |\n",
    "| 2         | 12.1         |\n",
    "| 3         | 10.6         |\n",
    "| 4         | 6.6          |\n",
    "\n",
    "Note: Reservoir 4 volume is the Release channel."
   ]
  },
  {
   "cell_type": "markdown",
   "id": "9e1bb895-f4ba-4976-902c-12317cb5627d",
   "metadata": {},
   "source": [
    "---\n",
    "# <font color='blue'> Part 3: Calculate Flow Rate\n",
    "## Objective: Create and call a function (flowrate_measured) that takes in the volume (from CC dimensions table) and drain time (recorded from video), and computes the flow rate for each branch (in μL/s).\n"
   ]
  },
  {
   "cell_type": "markdown",
   "id": "d2dafd8d-06d5-43af-8b71-321f96f5c2dd",
   "metadata": {},
   "source": [
    "### Write the flow rate function "
   ]
  },
  {
   "cell_type": "code",
   "execution_count": 1,
   "id": "fc775a78-15eb-42d9-a7c6-9765a2daf2a3",
   "metadata": {},
   "outputs": [],
   "source": [
    "import numpy as np\n",
    "\n",
    "def flowrate_measured(measured_drain_time,vol):\n",
    "    #TODO: write flow rate functon, return flow rate in μL/s\n",
    "    return flowrate"
   ]
  },
  {
   "cell_type": "markdown",
   "id": "b74bd1f8-9082-4803-a03a-8e496ad85e84",
   "metadata": {},
   "source": [
    "### Call your function and print the flow rates for the 4 branches using the reservoir volumes provided in table 2"
   ]
  },
  {
   "cell_type": "code",
   "execution_count": null,
   "id": "73d0dd4b-c0fb-4f57-930d-71ca2a61b386",
   "metadata": {},
   "outputs": [],
   "source": [
    "#TODO: replace with your measured values in order of res1,2,3, and then 4\n",
    "res_drain_times=np.array([1, 1, 1, 1])\n",
    "\n",
    "#The volumes as specified in Table 3.\n",
    "combined_volumes = np.array([15.8,12.1,10.6,6.6])\n",
    "\n",
    "#TODO: call the flow rate function you wrote for your 4 drain times for the 4 reservoirs"
   ]
  },
  {
   "cell_type": "markdown",
   "id": "06b9593a-e877-4ee2-a3c6-bc4a17e5cd15",
   "metadata": {},
   "source": [
    "### Plot your data in a bar plot (we provided the skeleton code for this, just replace with your values)"
   ]
  },
  {
   "cell_type": "code",
   "execution_count": null,
   "id": "964a78e3-ddaf-46b1-af75-bf4df63d9382",
   "metadata": {},
   "outputs": [],
   "source": [
    "import matplotlib.pyplot as plt\n",
    "# TODO: replace with YOUR flow rates for branches 1-4\n",
    "flow_rates = [1,1,1,1]\n",
    "\n",
    "#you can leave the rest of this code below here alone\n",
    "# Labels for each bar\n",
    "labels = ['Branch 1', 'Branch 2', 'Branch 3', 'Branch 4']\n",
    "\n",
    "# Create figure and axis\n",
    "fig, ax = plt.subplots()\n",
    "\n",
    "# Create a bar plot\n",
    "ax.bar(labels, flow_rates, color='skyblue')\n",
    "\n",
    "# Adding labels and title\n",
    "ax.set_xlabel('Branch')\n",
    "ax.set_ylabel('Flow Rate (µL/s)')\n",
    "ax.set_title('Flow Rates of Branches')\n",
    "ax.set_ylim(0, 0.25)\n",
    "ax.set_axisbelow(True)\n",
    "ax.grid(axis='y')\n",
    "\n",
    "# Show the plot\n",
    "plt.show()"
   ]
  },
  {
   "cell_type": "markdown",
   "id": "3577e957-0117-406a-805a-241a96013e47",
   "metadata": {},
   "source": [
    "\n",
    "![c6lc00764c-f4_d.gif](lab3_images/c6lc00764c-f4_d.gif)\n",
    "\n",
    "### Flow rates from figure 4d (Olanrewaju et al 2016)"
   ]
  },
  {
   "attachments": {},
   "cell_type": "markdown",
   "id": "c1297f88-b166-463e-b679-4ff953076bf9",
   "metadata": {},
   "source": [
    "## <font color='red'>Reflection Question: How do your calculated flow rates compare to that from figure 4d. If they are different, why do you think the flow rates are different?</font>\n"
   ]
  },
  {
   "cell_type": "markdown",
   "id": "b7cbb60d-8f65-48b6-9873-e7d557aaf988",
   "metadata": {},
   "source": [
    "## TODO: answer reflection question"
   ]
  },
  {
   "attachments": {},
   "cell_type": "markdown",
   "id": "c0bf78cd-232b-40d2-a71b-9b2b21aae629",
   "metadata": {},
   "source": [
    "---\n",
    "# <font color='blue'>Part 4: Background on Junction Pressures</font>\n",
    "\n",
    "### When designing circuits for sequential draining, it is imperative that we calculate **junction pressure P<sub>j</sub>** at each branch during RBV bursting to characterize flow. In order to do so, we need to calculate all the components of the circuit diagram below. This code will walk you through the calculations for these and the final calculations for the junction pressures.\n",
    "\n",
    "![c6lc00764c-f4_hi-res_circuit.gif](lab3_images/c6lc00764c-f4_hi-res_circuit.gif)"
   ]
  },
  {
   "cell_type": "markdown",
   "id": "43a0af06-8680-442d-8e17-f3912a461dd7",
   "metadata": {},
   "source": [
    "## <font color='red'>Reflection Question: Considering the circuit at the instant when all reservoirs are filled, but still under static conditions, without flow, what do you expect the junction pressures to be at each branch? Hint: Consider what happens in an electrical circuit when the switch is off — there’s no current, but the voltage remains constant across all components. In your system, think about how the pressures would behave if there’s no flow and equilibrium is reached. \n",
    "</font>"
   ]
  },
  {
   "cell_type": "markdown",
   "id": "9561bbfc-eef4-4bd2-89c9-397877980ba9",
   "metadata": {},
   "source": [
    "## TODO: answer reflection question"
   ]
  },
  {
   "cell_type": "markdown",
   "id": "cb963417-f887-473e-9361-65af19e4ae25",
   "metadata": {},
   "source": [
    "---\n",
    "# <font color='blue'> Part 5: Calculating Theoretical Pressure, Volume, and Flow Resistance </font>\n",
    "## Recall from Lab 2  \n",
    "The following functions are carried forward from Lab 2 and will be used in this lab:  \n",
    "- **`flowResistance`**: Calculates the resistance to flow in a microchannel.  \n",
    "- **`capPressure`**: Determines the capillary pressure based on contact angles and channel dimensions.  \n",
    "\n",
    "Be sure you understand the principles and formulas behind these functions, as they will be applied in the analysis for this lab.\n",
    "\n",
    "You **do not need to edit** this next cell, just run it to calculate the flow resistance, capillary pressure, volume, flow rate, and drain time for the given dimensions and parameters.\n"
   ]
  },
  {
   "cell_type": "code",
   "execution_count": null,
   "id": "3454f0aa-24b8-4e5a-98e9-778b332e9691",
   "metadata": {},
   "outputs": [],
   "source": [
    "#just run this cell don't edit\n",
    "import numpy as np\n",
    "\n",
    "### CONSTANTS - in SI units\n",
    "#global variables\n",
    "# Properties of liquid\n",
    "viscosity = 8.9e-4  #Pa*s\n",
    "\n",
    "# Surface tension of water is 0.073\n",
    "surfTension = 0.073  #N/meter\n",
    "\n",
    "#width and height dimensions\n",
    "w = 350e-6  #meters    \n",
    "h = 150e-6 #meters \n",
    "l = 5e-3 #meters \n",
    "\n",
    "#contact angle measurement, in radians\n",
    "#hydrophobic top PDMS surface and hydrophilic side and bottom surfaces respectively\n",
    "thetaTopWall = (np.pi * 89/180)     \n",
    "thetaSideWalls = (np.pi * 31/180)\n",
    "\n",
    "\n",
    "# FLOWRES\n",
    "def flowResistance(w,h,l):\n",
    "    a = min(w,h)\n",
    "    b = max(w,h)\n",
    "    flowRes = ((12*viscosity*l)/(1-0.63*(a/b)))*(1/(b*(a**3)))\n",
    "    return flowRes\n",
    "\n",
    "# CAPPRESSURE\n",
    "def capPressure(w, h, thetaTopWall, thetaSideWalls):\n",
    "    #Capillary pressure calculation for wetting liquid\n",
    "    #fill in function here\n",
    "    capPressure =-surfTension*((2*np.cos(thetaSideWalls)/w) + (np.cos(thetaSideWalls)/h) + (np.cos(thetaTopWall)/h))\n",
    "    return capPressure\n",
    "\n",
    "\n",
    "\n",
    "totalFlowRes = flowResistance(w,h,l) \n",
    "calc_cap_pres=capPressure(w,h,thetaTopWall,thetaSideWalls)\n",
    "\n",
    "#Example of how to call these functions\n",
    "print(f'Flow Resistance is {totalFlowRes:.3e} Pascals*s/m^3.')\n",
    "print(f'Capillary Pressure is {calc_cap_pres:.3e} Pa.')"
   ]
  },
  {
   "cell_type": "markdown",
   "id": "8c329808-2cd1-4dc3-89ce-4eb7757735b4",
   "metadata": {},
   "source": [
    "# <font color='blue'> Part 6: Calculating Pressure of RBVs (P<sub>i</sub>)</font>\n",
    "\n",
    "## Here, we will calculate P<sub>i</sub>, which is the capillary pressure of the liquid meniscus on the end of side branch i\n",
    "\n",
    "### Constants and Assumptions\n",
    "#### The following constants are assumed for the capillary pressure calculation:\n",
    "- #### Contact angle hysteresis is an important consideration when designing RBVs, as advancing contact angles are critical for channel filling while receding contact angles are essential for channel draining.\n",
    "\n",
    "- #### Advancing and Receding Contact Angles:\n",
    "\n",
    "    - **Top Receding Contact Angle (θTopReceding)**: A fixed value representing the contact angle at the top of the microchannel when the fluid is receding.  \n",
    "      `θTopReceding = (np.pi * 89/180)`\n",
    "    \n",
    "    - **Top Advancing Contact Angle (θTopAdvancing)**: A fixed value representing the contact angle at the top of the microchannel when the fluid is advancing.  \n",
    "      `θTopAdvancing = (np.pi * 114/180)`\n",
    "    \n",
    "    - **Bottom Receding Contact Angle (θBottomReceding)**: A fixed value representing the contact angle at the bottom of the microchannel when the fluid is receding.  \n",
    "      `θBottomReceding = (np.pi * 31/180)`\n",
    "    \n",
    "    - **Bottom Advancing Contact Angle (θBottomAdvancing)**: A fixed value representing the contact angle at the bottom of the microchannel when the fluid is advancing.  \n",
    "      `θBottomAdvancing = (np.pi * 45/180)`\n",
    "\n",
    "\n",
    "\n"
   ]
  },
  {
   "cell_type": "code",
   "execution_count": null,
   "id": "6af551da-d3be-4fb2-99f4-0f4e5c491d76",
   "metadata": {},
   "outputs": [],
   "source": [
    "#define contact angles for RBVs\n",
    "thetaTopReceding = (np.pi * 89/180)\n",
    "thetaBottomReceding = (np.pi * 31/180)\n",
    "#For each RBV, call the capPressure function and print the result.\n",
    "#call the function like so: pressValve=capPressure(w, h, thetaTopWall, thetaSideWalls)\n",
    "#use thetaTopReceding and thetaBottomReceding as the top and side wall contact angles respectively\n",
    "\n",
    "# Retention burst valve 1 \n",
    "widthValve1 =  960 * 1e-6\n",
    "heightValve1 = 1000 * 1e-6\n",
    "lengthValve1 = 2.6e-3\n",
    "\n",
    "#TODO: call capPressure for valve1\n",
    "pressValve1=\n",
    "\n",
    "\n",
    "\n",
    "# Retention burst valve 2 \n",
    "widthValve2 =  670 * 1e-6\n",
    "heightValve2 = 750 * 1e-6\n",
    "lengthValve2 =2.6e-3\n",
    "\n",
    "#TODO: call capPressure for valve2\n",
    "pressValve2=\n",
    "\n",
    "\n",
    "\n",
    "# Retention burst valve 3 \n",
    "widthValve3 = 480 * 1e-6\n",
    "heightValve3 = 650 * 1e-6\n",
    "lengthValve3 = 2.6e-3\n",
    "\n",
    "#TODO: call capPressure for valve3\n",
    "\n",
    "pressValve3 = \n",
    "\n",
    "\n",
    "\n",
    "\n",
    "\n",
    "# Retention burst valve 4 \n",
    "widthValve4 = 384 * 1e-6\n",
    "heightValve4 = 550 * 1e-6\n",
    "lengthValve4 = 2.6e-3\n",
    "\n",
    "#TODO: call capPressure for valve4\n",
    "\n",
    "pressValve4 =\n",
    "\n",
    "\n",
    "\n",
    "#put pressures in an array for plotting, you do not need to modify this as long as you named your pressures as pressValvei like below\n",
    "RBV_pressures=[pressValve1, pressValve2, pressValve3, pressValve4]"
   ]
  },
  {
   "cell_type": "code",
   "execution_count": null,
   "id": "1c833265-5305-4f8b-a86d-15e3e450b5ab",
   "metadata": {},
   "outputs": [],
   "source": [
    "# Create a bar plot for capillary pressures of the RBVs\n",
    "#you do not need to modify this code, just run it\n",
    "\n",
    "plt.figure(figsize=(6, 4))\n",
    "valve_labels=['P1', 'P2','P3','P4']\n",
    "plt.bar(valve_labels, np.abs(RBV_pressures), color='red', alpha=0.7)\n",
    "\n",
    "plt.xlabel(\"Retention Burst Valves\")\n",
    "plt.ylabel(\"|Capillary Pressure (Pa)|\")\n",
    "plt.title(\"Capillary Pressure for Retention Burst Valves\")\n",
    "plt.grid(axis='y', linestyle='--', alpha=0.7)\n",
    "\n",
    "plt.show()"
   ]
  },
  {
   "attachments": {},
   "cell_type": "markdown",
   "id": "5437f6e5-1351-4cc7-8726-02888e1a8461",
   "metadata": {},
   "source": [
    "![tab1.png](lab3_images/tab1.png)\n",
    "\n",
    "## <font color='red'>Reflection Question: How do your Capillary Pressures compare to those from Table 1 (above) in Olanrewaju et al 2016?\n",
    "</font>\n",
    "\n"
   ]
  },
  {
   "cell_type": "markdown",
   "id": "a9e9a646-c104-4cda-937a-d80706b3b312",
   "metadata": {},
   "source": [
    "## TODO: answer reflection question"
   ]
  },
  {
   "cell_type": "markdown",
   "id": "533f5133-1c1d-4c92-bb34-82a61cfb0803",
   "metadata": {},
   "source": [
    "# <font color='blue'> Part 7: Calculating RBV and TV Resistances </font>\n",
    "## Calculating RBV Resistances\n",
    "## In order to calculate all the Pjs we need to calculate (R<sub>i</sub>) which is the flow resistance of the RBV and reservoir of the side branch"
   ]
  },
  {
   "cell_type": "markdown",
   "id": "c9710d2a-60ec-49ac-a253-d7e4ea773749",
   "metadata": {},
   "source": [
    "## First lets calculate the resistances of the RBVs"
   ]
  },
  {
   "cell_type": "code",
   "execution_count": null,
   "id": "9705d3ad-fa86-4803-8449-6551b4a5eb97",
   "metadata": {},
   "outputs": [],
   "source": [
    "#For each RBV, call and print the flow resistance function: flowResistance(w,h,l)\n",
    "\n",
    "# Retention burst valve 1 \n",
    "widthValve1 =  961 * 1e-6\n",
    "heightValve1 = 1000 * 1e-6\n",
    "lengthValve1 = 2.6e-3\n",
    "\n",
    "resValve1 = \n",
    "\n",
    "# Retention burst valve 2 \n",
    "widthValve2 =  673 * 1e-6\n",
    "heightValve2 = 750 * 1e-6\n",
    "lengthValve2 =2.6e-3\n",
    "\n",
    "resValve2 = \n",
    "\n",
    "# Retention burst valve 3 \n",
    "widthValve3 = 480 * 1e-6\n",
    "heightValve3 = 650 * 1e-6\n",
    "lengthValve3 = 2.6e-3\n",
    "\n",
    "\n",
    "resValve3 = \n",
    "\n",
    "# Retention burst valve 4 \n",
    "widthValve4 = 384 * 1e-6\n",
    "heightValve4 = 550 * 1e-6\n",
    "lengthValve4 = 2.6e-3\n",
    "\n",
    "\n",
    "resValve4 = \n",
    "\n",
    "#you do not need to modify this; puts resistances in an array\n",
    "RBV_res=[resValve1, resValve2, resValve3, resValve4]"
   ]
  },
  {
   "cell_type": "markdown",
   "id": "eeead84c-29de-4f79-9d4d-2f33886eb207",
   "metadata": {},
   "source": [
    "## Next lets calculate the resistances of the reservoirs"
   ]
  },
  {
   "cell_type": "code",
   "execution_count": null,
   "id": "cd1c79ee-92d3-4440-b9f9-19569f31bad6",
   "metadata": {},
   "outputs": [],
   "source": [
    "#TODO; call flowResistance for the reservoir and RC (release channel)\n",
    "#call as flowResistance(w,h,l)\n",
    "\n",
    "#Reagent reservoirs 1-3\n",
    "widthReservoir = 961e-6\n",
    "heightReservoir = 1000e-6\n",
    "lengthReservoir =6250e-6\n",
    "\n",
    "#TODO: call flowResistance for reservoirs 1-3\n",
    "resReservoir = \n",
    "\n",
    "\n",
    "\n",
    "# Release channel (ie. reservoir 4)\n",
    "widthRC =  385 * 1e-6 #in m\n",
    "heightRC = 400 * 1e-6\n",
    "lengthRC = 5486 * 1e-6 \n",
    "\n",
    "#TODO: call flowResistance for RC\n",
    "resRC ="
   ]
  },
  {
   "cell_type": "markdown",
   "id": "808f7a44-93da-4e7e-b2f3-ed340b335ed9",
   "metadata": {},
   "source": [
    "## Now we can calculate (R<sub>i</sub>) which is the flow resistance of the RBV and reservoir of each side branch i.\n",
    "\n",
    "## Using the equation to calculate equivalent resistance for resistors in series, we are going to calculate the equivalent resistance of the reservoir and RBV in each branch to get R<sub>i</sub>\n",
    "\n",
    "$$\n",
    "\\displaystyle \\huge R_{\\text{eq, series}} = R_1 + R_2 + \\dots + R_n\n",
    "$$\n",
    "\n",
    "#### Where:\n",
    "\n",
    "$$\n",
    "\\displaystyle \\huge R_1, R_2, \\dots, R_n \\text{ are the individual resistances of the connected channels in series}\n",
    "$$\n"
   ]
  },
  {
   "cell_type": "code",
   "execution_count": null,
   "id": "5ce10727-d92d-4b3e-86b9-fcbac32cf5b0",
   "metadata": {},
   "outputs": [],
   "source": [
    "#TODO: calculate equivalent resistance R1 (Reservoir and Valve 1 resistances in series)\n",
    "R1= \n",
    "#TODO: calculate equivalent resistance R2 (Reservoir and Valve 2 resistances in series)\n",
    "R2= \n",
    "#TODO: calculate equivalent resistance R3 (Reservoir and Valve 3 resistances in series)\n",
    "R3= \n",
    "#TODO: calculate equivalent resistance R4 (Release channel (RC) and Valve 4 resistance in series)\n",
    "R4= \n",
    "\n",
    "#TODO: print the resistances \n",
    "\n"
   ]
  },
  {
   "cell_type": "markdown",
   "id": "7e93c1fe-c8e0-48ad-8c9e-ed67dcdca191",
   "metadata": {},
   "source": [
    "## Calculating Trigger Valve (TV) Resistances\n",
    "### In order to calculate all the Pjs we also need to calculate the resistances of the TVs (R<sub>RV</sub>)"
   ]
  },
  {
   "cell_type": "code",
   "execution_count": null,
   "id": "2b0f9598-98c0-41af-8213-de955e610994",
   "metadata": {},
   "outputs": [],
   "source": [
    "# Trigger valve\n",
    "widthTV = 288e-6\n",
    "heightTV = 57.7e-6\n",
    "lengthTV = 866e-6\n",
    "\n",
    "#TODO: Call flowResistance(w,h,l) and print\n",
    "resTV = \n"
   ]
  },
  {
   "cell_type": "markdown",
   "id": "4cf2f89c-c861-4b06-9cf9-90ab71b089af",
   "metadata": {},
   "source": [
    "## <font color='red'>Relfection Question: How does the  resistance of the TVs (R<sub>RV</sub>) compare to that of each RBV R<sub>i</sub>? Are they the same? If not are they larger, or smaller, and by how much?"
   ]
  },
  {
   "cell_type": "markdown",
   "id": "b50fafe5-fb05-47fa-86c8-6de0eb08e646",
   "metadata": {},
   "source": [
    "## TODO: answer reflection question"
   ]
  },
  {
   "cell_type": "markdown",
   "id": "079433d1-47ee-4dc8-bd82-57d650faa84e",
   "metadata": {},
   "source": [
    "# <font color='blue'> Part 8: Calculating Resistance of the Main Resistor</font>\n",
    "## Here we define R<sub>M</sub> as the main resistor. R<sub>M</sub> is the total resistance of the serpentine resistor and the capillary pump.\n",
    "\n",
    "![schem.png](lab3_images/c6lc00764c-f3_hi-res_schem.gif)"
   ]
  },
  {
   "attachments": {},
   "cell_type": "markdown",
   "id": "efa97666-3a01-427e-8e2d-004c0b392f8b",
   "metadata": {},
   "source": [
    "## First let's, calculate the resistance of the capillary pump. The capillary pump is comprised of parallel segments and feed rows. This is the most complex resistance to calculate in this circuit so we have provided a schematic to help and pre-written functions to help guide you.\n",
    "\n",
    "## We will also calculate the capillary pressure of the capillary pump P<sub>C</sub>, we use `advancing contact angle`. This is different from the retention burst valves during drainage, which use the `receding contact angle`.\n",
    "\n",
    "![circuit.png](lab3_images/circuit.png)\n"
   ]
  },
  {
   "cell_type": "code",
   "execution_count": null,
   "id": "42bc5a09-81bc-479c-a78d-6a6224124601",
   "metadata": {},
   "outputs": [],
   "source": [
    "# Capillary Pump\n",
    "# Pump lines are the 12 vertical/parallel segments of the capillary pump these are the dimensions of one single parallel segment\n",
    "widthPumpLine = 200e-6\n",
    "heightPumpLine = 100e-6\n",
    "lengthPumpLine = 7532e-6\n",
    "\n",
    "thetaTopAdvancing = (np.pi * 114/180)\n",
    "thetaBottomAdvancing = (np.pi * 45/180)\n",
    "\n",
    "#TODO: call capPressure(w, h, thetaTopWall, thetaSideWalls) for a single segment of the capillary pump\n",
    "#Note: PC=pressPumpLine(for single segment of the capillary pump) due to the pressure across all parallel resistors being the same.\n",
    "pressPumpLine= \n",
    "\n",
    "#TODO: call flowResistance(w,h,l) for a single segment of the capillary pump\n",
    "resPumpLine = \n",
    "\n",
    "#TODO: print cap pressure and resistance of one pump line segment\n"
   ]
  },
  {
   "cell_type": "markdown",
   "id": "5b7df4fb-1a29-47bd-afdf-c8a87035018f",
   "metadata": {},
   "source": [
    "## Next, we will calculate the resistance of the feed row. "
   ]
  },
  {
   "cell_type": "code",
   "execution_count": null,
   "id": "0f2e310b-9478-4254-8d08-bf83c22ee7a9",
   "metadata": {},
   "outputs": [],
   "source": [
    "# Feed rows are the series/ vertical segments of the capillary pump.\n",
    "widthPumpFeedRow = 100e-6\n",
    "heightPumpFeedRow = 100e-6\n",
    "lengthPumpFeedRow = 600* 1e-6\n",
    "\n",
    "#TODO call flowResistance(w,h,l) to get resistance of feed row and print\n",
    "resPumpFeedRow = \n",
    "\n"
   ]
  },
  {
   "cell_type": "markdown",
   "id": "41653554-44af-4ba8-8425-3a226c2d868a",
   "metadata": {},
   "source": [
    "## Using the equation to calculate equivalent resistance for resistors in parallel and series, we are going to calculate the equivalent resistance of **12 pump lines and feed rows** \n",
    "\n",
    "\n",
    "\n",
    "$$\n",
    "\\displaystyle \\huge \\frac{1}{R_{\\text{eq, parallel}}} = \\frac{1}{R_1} + \\frac{1}{R_2} + \\dots + \\frac{1}{R_n}\n",
    "$$\n",
    "\n",
    "#### Where:\n",
    "\n",
    "$$\n",
    "\\displaystyle \\huge R_1, R_2, \\dots, R_n \\text{ are the individual resistances of the parallel channels}\n",
    "$$\n",
    "\n",
    "\n",
    "$$\n",
    "\\displaystyle \\huge R_{\\text{eq, series}} = R_1 + R_2 + \\dots + R_n\n",
    "$$\n",
    "\n",
    "#### Where:\n",
    "\n",
    "$$\n",
    "\\displaystyle \\huge R_1, R_2, \\dots, R_n \\text{ are the individual resistances of the connected channels in series}\n",
    "$$\n"
   ]
  },
  {
   "cell_type": "markdown",
   "id": "2defb446-f79c-4cfa-bbe6-047c359f5d17",
   "metadata": {},
   "source": [
    "## To make our lives easier we have defined functions that calculate the equivalent resistance of the capillary flow resistors. You do not need to modify these functions but please read them and try to understand what they do."
   ]
  },
  {
   "cell_type": "code",
   "execution_count": null,
   "id": "fe3289a8-ae18-4bcd-a9b5-09f6fa62504d",
   "metadata": {},
   "outputs": [],
   "source": [
    "#do not modify this cell\n",
    "def parallel_resistance(resistance1, resistance2):\n",
    "    # Calculates the total resistance for 2 resistors in parallel\n",
    "    return 1 /((1 / resistance1)+ (1/resistance2))\n",
    "\n",
    "def total_resistance(resPumpFeedRow, resPumpLine, num_pump_lines):\n",
    "    #Calculates the total resistance of capillary based on number of pump lines used\n",
    "    if num_pump_lines==1:\n",
    "        #one pump line has no parallel resistors\n",
    "        return resPumpFeedRow + resPumpLine\n",
    "    if num_pump_lines==2:\n",
    "        # Initial parallel resistance for the first two\n",
    "        res = parallel_resistance((resPumpFeedRow + resPumpLine), resPumpLine)\n",
    "        return res\n",
    "    if num_pump_lines>2:    \n",
    "        # Initial parallel resistance for the first two\n",
    "        res = parallel_resistance((resPumpFeedRow + resPumpLine), resPumpLine)\n",
    "         # Then recursively calculate the next set of parallel resistances    \n",
    "        for _ in range(num_pump_lines-2):\n",
    "            res = parallel_resistance((res + resPumpFeedRow), resPumpLine)\n",
    "        return res"
   ]
  },
  {
   "cell_type": "code",
   "execution_count": null,
   "id": "ac4b94df-cbf7-45b0-80c6-a99903954d9e",
   "metadata": {},
   "outputs": [],
   "source": [
    "# TODO : Call and print the total_resistance function for 12 pump line. \n",
    "#Use 12 for num_pump_lines in total_resistance(resPumpFeedRow, resPumpLine, num_pump_lines). \n",
    "\n",
    "#TODO call total_resistance to get resCap (Capillary resistance) and print\n",
    "resCap = \n"
   ]
  },
  {
   "cell_type": "markdown",
   "id": "c7106898-64ec-4f2d-a523-0cfbf44bc72d",
   "metadata": {},
   "source": [
    "## <font color='red'> Reflection Question: How different would the equivalent resistance (resCap) be if you only used 1 pump line instead of all 12? What about 3 pump lines? What about 10 pump lines? To answer this you will need to call the `total_resistance` function again."
   ]
  },
  {
   "cell_type": "code",
   "execution_count": null,
   "id": "bc57b174-6921-4df5-b58d-7b729618983b",
   "metadata": {},
   "outputs": [],
   "source": [
    "# TODO : Call and print the total_resistance function with varying number of pump lines to answer reflection question. \n"
   ]
  },
  {
   "cell_type": "markdown",
   "id": "56f8c767-b2e9-4447-a905-d9eb256f73a2",
   "metadata": {},
   "source": [
    "## TODO: answer reflection question"
   ]
  },
  {
   "cell_type": "markdown",
   "id": "130e5f4a-4b46-41ab-8737-af093b6277b5",
   "metadata": {},
   "source": [
    "\n",
    "\n",
    "## Now will calculcate the resistance, volume, and pressure of the six loop resistor"
   ]
  },
  {
   "cell_type": "code",
   "execution_count": null,
   "id": "15a5aa41-b5d2-4271-ae01-44c2dddde15b",
   "metadata": {},
   "outputs": [],
   "source": [
    "# Six-loop resistor. \n",
    "widthSixLoopRes = 290e-6\n",
    "heightSixLoopRes = 100e-6\n",
    "lengthSixLoopRes = 6*(7216e-6) #length of all 6 loops combined (in series)\n",
    "\n",
    "#TODO: call flowResistance(w,h,l) function for the six-loop resistor and print result\n",
    "resSixLoopRes = "
   ]
  },
  {
   "cell_type": "markdown",
   "id": "9c86c7ea-e0c3-498f-8e97-f0c3104913f0",
   "metadata": {},
   "source": [
    "## Now we can finally calculate R<sub>M</sub> the total resistance of the serpentine resistor (resSixLoopRes) and the capillary pump(resCap) as resistors in series."
   ]
  },
  {
   "cell_type": "code",
   "execution_count": null,
   "id": "ddc8ee68-2630-4f0b-8504-e6aa1438d0f7",
   "metadata": {},
   "outputs": [],
   "source": [
    "#TODO: calculate R_M and print\n",
    "R_M=\n"
   ]
  },
  {
   "cell_type": "markdown",
   "id": "ccda166e-6f7d-4ca8-adab-31d9b36a98a6",
   "metadata": {},
   "source": [
    "## <font color='red'>Reflection Question: How does the  resistance of the Capillary Pump (`resCap`) compare to that of the flow resistor( `resSixLoopRes`)? Which element is the major driver of flow resistance? What do you think would happen if the flow resistor was not a part of the circuit? </font>"
   ]
  },
  {
   "cell_type": "markdown",
   "id": "51ea01db-c4ec-4135-8ab2-bf4699cb0ef6",
   "metadata": {},
   "source": [
    "## TODO: answer reflection question"
   ]
  },
  {
   "cell_type": "markdown",
   "id": "af508ff4-61d0-4f05-8bbd-bc2d915bccff",
   "metadata": {},
   "source": [
    "# <font color='blue'>Part 9: Calculating Junction Pressures"
   ]
  },
  {
   "attachments": {},
   "cell_type": "markdown",
   "id": "60949a76-c7d1-4195-bd79-a77870bbb725",
   "metadata": {},
   "source": [
    "## Use the concept of  **Kirchhoff's First Law (Conservation of Flow)** and **Ohm's law** to calculate the P<sub>J</sub> of each branch i.\n",
    "\n",
    "### **Kirchhoff's First Law (Conservation of Flow)** \n",
    "$$\n",
    "\\displaystyle \\huge \\sum Q_{\\text{in}} = \\sum Q_{\\text{out}}\n",
    "$$\n",
    "\n",
    "#### Where:\n",
    "\n",
    "$$\n",
    "\\displaystyle \\huge Q_{\\text{in}} \\text{ is the flow entering a junction (fluid coming from various channels or branches)}\n",
    "$$\n",
    "\n",
    "$$\n",
    "\\displaystyle \\huge Q_{\\text{out}} \\text{ is the flow exiting the junction (fluid flowing into different branches)}\n",
    "$$\n",
    "\n",
    "### **Ohm's law**\n",
    "$$\n",
    "\\displaystyle \\huge \\Delta P = Q R_f\n",
    "$$  \n",
    "\n",
    "#### Where:  \n",
    "$$\n",
    "\\displaystyle \\huge \\Delta P \\text{ is the pressure drop across a microchannel}\n",
    "$$  \n",
    "\n",
    "$$\n",
    "\\displaystyle \\huge Q \\text{ is the volumetric flow rate}\n",
    "$$  \n",
    "\n",
    "$$\n",
    "\\displaystyle \\huge R_f \\text{ is the fluidic resistance}\n",
    "$$  \n",
    "\n",
    "## This involves some math/derivation, it may help to write this out on paper. You can reference our favorite circuit schematic to help.\n",
    "![c6lc00764c-f4_hi-res_circuit.gif](lab3_images/c6lc00764c-f4_hi-res_circuit.gif)\n",
    "\n",
    "## Helpful hints: \n",
    "- ### You only need to consider the flow across branch i and the main resistor/capillary pump branch when calculating the P<sub>J</sub> of each branch.\n",
    "- ###  use `pressPumpLine` for P<sub>c</sub>.\n",
    "- ### Branch 4 does not have a trigger valve (no R<sub>RV</sub>).\n",
    "- ### Pay attention to the direction of flow/signage.\n",
    "- ### If you are stuck you can refer to the solution (equation 3 Olanrewaju et al 2016) but you should still be able to show how to get to that solution"
   ]
  },
  {
   "cell_type": "code",
   "execution_count": null,
   "id": "9ff15425-c1db-4241-acb1-5644fca3fa70",
   "metadata": {},
   "outputs": [],
   "source": [
    "#Calculate Junction Pressures (PJs) and print results.\n",
    "PJ1 = \n",
    "PJ2 =\n",
    "PJ3 = \n",
    "PJ4 = \n",
    "\n",
    "\n",
    "#Put into an array for plotting, you do not need to modify this part\n",
    "Junction_Pressures=np.abs([PJ1,PJ2,PJ3,PJ4])"
   ]
  },
  {
   "cell_type": "code",
   "execution_count": null,
   "id": "60c1fdc5-f764-4f99-92e5-c093fb10861e",
   "metadata": {},
   "outputs": [],
   "source": [
    "#Plotting PJs, you do not need to change this cell, just run.\n",
    "plt.figure(figsize=(6, 4))\n",
    "valve_labels=['P1', 'P2','P3','P4']\n",
    "plt.bar(valve_labels, np.abs(RBV_pressures), color='red', alpha=0.7)\n",
    "\n",
    "# Annotate junction pressures as horizontal lines\n",
    "for i, pj in enumerate(Junction_Pressures):\n",
    "    label_pj = f'|PJ{i+1}| = {round(pj):,} Pa'  \n",
    "    plt.axhline(y=pj, color='blue', linestyle='--', alpha=0.7)\n",
    "    plt.text(x=i, y=pj, s=label_pj, color='blue', fontsize=10, verticalalignment='bottom')\n",
    "\n",
    "plt.xlabel(\"Retention Burst Valves\")\n",
    "plt.ylabel(\"|Capillary Pressure (Pa)|\")\n",
    "plt.title(\"Capillary Pressure for Retention Burst Valves\")\n",
    "plt.grid(axis='y', linestyle='--', alpha=0.7)\n",
    "plt.show()\n",
    "\n"
   ]
  },
  {
   "cell_type": "markdown",
   "id": "5bb4e984-a2cc-4d16-a6a5-834aca0d8849",
   "metadata": {},
   "source": [
    "### We would also like for you to calculate ∆Ps for the neighboring branches. Calculate:\n",
    "- P2- P1\n",
    "- P3- P2\n",
    "- P4- P3\n",
    "\n"
   ]
  },
  {
   "cell_type": "code",
   "execution_count": null,
   "id": "9e0122bd-016f-4ba6-8268-83ec49889b03",
   "metadata": {},
   "outputs": [],
   "source": [
    "#TODO calculte and print ∆Ps"
   ]
  },
  {
   "cell_type": "markdown",
   "id": "6fdd37ce-1880-4711-8bc0-800b33e218e0",
   "metadata": {},
   "source": [
    "## <font color='red'>Reflection Question: Explain how you solved/derived the junction pressure equation. If you did it on paper, you can attach a picture of your derivation. You can also just explain with words or type it out!"
   ]
  },
  {
   "cell_type": "markdown",
   "id": "6cf74f13-92a7-409a-81ea-bd19a3f9d61f",
   "metadata": {},
   "source": [
    "## TODO: Answer reflection question"
   ]
  },
  {
   "cell_type": "markdown",
   "id": "049e73c7-13cd-42f4-a5c3-964b280c3ba2",
   "metadata": {},
   "source": [
    "## <font color='red'>Reflection Question: How do your junction pressures and valve pressures compare to those calculated in Olanrewaju et al 2016 (figure below)? If you did your calculations correctly, you should see a trend about design rules. What do you think would happen to circuit dynamics if PJ1>P2? \n",
    "\n",
    "## <font color='red'> Are the |∆Ps| (of the valves) you calculated similar to those from the paper? What do you think would happen if the |∆Ps| were lowered? What about 0? \n",
    "![c6lc00764c-f4b_junction_p.gif](lab3_images/c6lc00764c-f4b_junction_p.gif)\n"
   ]
  },
  {
   "cell_type": "markdown",
   "id": "3868899a-ff6c-44b1-ae4d-eb38860efef5",
   "metadata": {},
   "source": [
    "## TODO: Answer reflection question"
   ]
  },
  {
   "cell_type": "markdown",
   "id": "f848e9a5-55da-4f8d-a183-449605ceeca7",
   "metadata": {},
   "source": [
    "# <font color='blue'>Part 10: Understanding Design Rules - CC without 6 loop resistor"
   ]
  },
  {
   "cell_type": "markdown",
   "id": "fdbee65c-a3d6-494f-90ad-faed9b29c02a",
   "metadata": {},
   "source": [
    "## To better understand design rules for CCs, we are going to see what would happen if we removed the 6-loop resistor from the circuit.\n",
    "\n",
    "## To do this, let's modify  R<sub>M</sub>  to be just the total resistance of the capillary pump (`resCap`)."
   ]
  },
  {
   "cell_type": "code",
   "execution_count": null,
   "id": "d470a85a-7107-426f-a06a-db8279cb936d",
   "metadata": {},
   "outputs": [],
   "source": [
    "#TODO: redefine RM as just resCap (for a CC without the 6 loop resistor)\n",
    "R_M= "
   ]
  },
  {
   "cell_type": "code",
   "execution_count": null,
   "id": "56c5c368-561e-41c7-9cca-0d4b32d2ca21",
   "metadata": {},
   "outputs": [],
   "source": [
    "#TODO recalculate and print junction pressures with new R_M\n",
    "PJ1 = \n",
    "\n",
    "PJ2 = \n",
    "\n",
    "PJ3 = \n",
    "\n",
    "PJ4 = \n",
    "\n",
    "\n",
    "Junction_Pressures=np.abs([PJ1,PJ2,PJ3,PJ4])"
   ]
  },
  {
   "cell_type": "code",
   "execution_count": null,
   "id": "4ef160b1-2cf9-4dff-bf4f-151efe3966de",
   "metadata": {},
   "outputs": [],
   "source": [
    "#you dont need to modify this, just run to replot\n",
    "plt.figure(figsize=(6, 4))\n",
    "valve_labels=['P1', 'P2','P3','P4']\n",
    "plt.bar(valve_labels, np.abs(RBV_pressures), color='red', alpha=0.7)\n",
    "\n",
    "# Annotate junction pressures as horizontal lines\n",
    "for i, pj in enumerate(Junction_Pressures):\n",
    "    label_pj = f'|PJ{i+1}| = {round(pj):,} Pa'  \n",
    "    plt.axhline(y=pj, color='blue', linestyle='--', alpha=0.7)\n",
    "    plt.text(x=i, y=pj, s=label_pj, color='blue', fontsize=10, verticalalignment='bottom')\n",
    "\n",
    "plt.xlabel(\"Retention Burst Valves\")\n",
    "plt.ylabel(\"|Capillary Pressure (Pa)|\")\n",
    "plt.title(\"Capillary Pressure for Retention Burst Valves\")\n",
    "plt.grid(axis='y', linestyle='--', alpha=0.7)\n",
    "plt.show()"
   ]
  },
  {
   "attachments": {},
   "cell_type": "markdown",
   "id": "938cd25d-0d3e-49af-a87b-576d1449eb36",
   "metadata": {},
   "source": [
    "## <font color='red'>Reflection Question: Watch the video of the same circuit without the 6-loop resistor. The valves have the same ∆Ps as the ones in the circuit with the resistor. We expect these valves to work but they don't. Why? What can you say about design rules regarding branch and junction pressures based on the video and your calculations of the no-resistor circuit? \n",
    "\n"
   ]
  },
  {
   "cell_type": "code",
   "execution_count": 3,
   "id": "5e3f021a-1b7d-4e40-adf9-f434fe03ca3c",
   "metadata": {},
   "outputs": [
    {
     "data": {
      "text/html": [
       "<video src=\"lab3_images/Video_4RBVs_no_resistor_Failed.mp4\" controls  >\n",
       "      Your browser does not support the <code>video</code> element.\n",
       "    </video>"
      ],
      "text/plain": [
       "<IPython.core.display.Video object>"
      ]
     },
     "execution_count": 3,
     "metadata": {},
     "output_type": "execute_result"
    }
   ],
   "source": [
    "Video(\"lab3_images/Video_4RBVs_no_resistor_Failed.mp4\")"
   ]
  },
  {
   "cell_type": "markdown",
   "id": "b46a748b-c2aa-4a92-892b-cbc3a1eca7da",
   "metadata": {},
   "source": [
    "## TODO: Answer reflection question"
   ]
  }
 ],
 "metadata": {
  "kernelspec": {
   "display_name": "Python (myenv)",
   "language": "python",
   "name": "myenv"
  },
  "language_info": {
   "codemirror_mode": {
    "name": "ipython",
    "version": 3
   },
   "file_extension": ".py",
   "mimetype": "text/x-python",
   "name": "python",
   "nbconvert_exporter": "python",
   "pygments_lexer": "ipython3",
   "version": "3.13.1"
  }
 },
 "nbformat": 4,
 "nbformat_minor": 5
}
