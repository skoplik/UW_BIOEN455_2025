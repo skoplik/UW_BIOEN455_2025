{
 "cells": [
  {
   "cell_type": "markdown",
   "id": "b2494907-2558-44ca-a96d-b57fc22cd3f4",
   "metadata": {},
   "source": [
    "# BIOEN 455 Lab 5 Winter 2025: Domino Valves & Capillaric Circuits \n",
    "**By Sam Koplik and Ayo Olanrewaju (Feb 2025)**  \n",
    "\n",
    "---\n",
    "\n",
    "## Objective  \n",
    "To demonstrate the function of domino valves in CCs by observing sequential liquid delivery, measuring reservoir drainage times, and comparing experimental results to theoretical flow rates and capillary pressures obtained using python. **Based on the paper: [Leong, K. M., et al. (2020). Democratizing Access to Microfluidics: Rapid Prototyping of Open Microchannels with Low-Cost LCD 3D Printers. Lab on a Chip, 20(6), 1056-1064.](https://pubs.acs.org/doi/full/10.1021/acsomega.4c07776)**  \n",
    "\n",
    "\n",
    "---\n",
    "\n",
    "## Instructions/ Submission Guidelines \n",
    "- Complete any section of code marked with a `TODO:`.\n",
    "- Save your work frequently to prevent data loss.\n",
    "- **Do the experimental portion of the lab last.**\n",
    "- <font color=\"red\">Answer reflection questions (in red).</font> This can be completed after lab. You can type this in a markdown within this script. You may optionally take videos or pictures your the chip to include in your reflection. \n",
    "  \n",
    "  \n",
    "\n",
    "**For Submission:**\n",
    "1. Add your name and the date to the designated cell in the notebook.  \n",
    "2. Once finished, download and submit your modified script and reflection answers to Canvas as a **HTML** file and submit the **.ipynb** file:  \n",
    "   - Go to **File > Save and Export Notebook As > HTML**.\n",
    "   - Go to **File > Download** to save the ipynb file.\n",
    "\n",
    "---"
   ]
  },
  {
   "cell_type": "markdown",
   "id": "428faf69-936e-49c4-a64c-5dbc0b9b4018",
   "metadata": {},
   "source": [
    "## Name:\n",
    "## Date:\n",
    "---"
   ]
  },
  {
   "cell_type": "markdown",
   "id": "349d6af5-c582-482f-9bf3-057eec1718d6",
   "metadata": {},
   "source": [
    "# <font color='blue'> Part 1: Calculating Theoretical Pressure and Flow Resistance for CC Components</font>\n",
    "\n",
    "## Watch the video (below) from the paper [Leong, K. M., et al. (2020). Democratizing Access to Microfluidics: Rapid Prototyping of Open Microchannels with Low-Cost LCD 3D Printers. Lab on a Chip, 20(6), 1056-1064.](https://pubs.acs.org/doi/full/10.1021/acsomega.4c07776) to orient yourself with the capillaric circuit that we will be using for today's lab "
   ]
  },
  {
   "cell_type": "code",
   "execution_count": 2,
   "id": "4800c396-08d9-467d-a136-71fdc108adb3",
   "metadata": {},
   "outputs": [
    {
     "data": {
      "text/html": [
       "<video src=\"lab5_images/ao4c07776_si_001.mp4\" controls  >\n",
       "      Your browser does not support the <code>video</code> element.\n",
       "    </video>"
      ],
      "text/plain": [
       "<IPython.core.display.Video object>"
      ]
     },
     "execution_count": 2,
     "metadata": {},
     "output_type": "execute_result"
    }
   ],
   "source": [
    "from IPython.display import Video\n",
    "Video(\"lab5_images/ao4c07776_si_001.mp4\")"
   ]
  },
  {
   "cell_type": "markdown",
   "id": "3e1fb27c-bb94-4877-b914-be41150dd1e0",
   "metadata": {},
   "source": [
    "## Recall from Lab 2  \n",
    "The following functions are carried forward from Lab 2 and 3 and will be used in this lab:  \n",
    "- **`flowResistance`**: Calculates the resistance to flow in a microchannel.  \n",
    "- **`capPressure`**: Determines the capillary pressure based on contact angles and channel dimensions.\n",
    "\n",
    "Be sure you understand the principles and formulas behind these functions, as they will be applied in the analysis for this lab.\n",
    "\n",
    "You **do not need to edit** this next cell, just run it.\n",
    "\n",
    "\n",
    "### Constants and Assumptions\n",
    "#### The following constants are assumed for the capillary pressure calculation:\n",
    "- #### Contact angle hysteresis is an important consideration when designing RBVs, as advancing contact angles are critical for channel filling while receding contact angles are essential for channel draining.\n",
    "\n",
    "- #### Advancing and Receding Contact Angles:\n",
    "\n",
    "    - **Top Receding Contact Angle (θTopReceding)**: A fixed value representing the contact angle at the top of the microchannel when the fluid is receding.  \n",
    "      `θTopReceding = (np.pi * 89/180)`\n",
    "    \n",
    "    - **Top Advancing Contact Angle (θTopAdvancing)**: A fixed value representing the contact angle at the top of the microchannel when the fluid is advancing.  \n",
    "      `θTopAdvancing = (np.pi * 114/180)`\n",
    "    \n",
    "    - **Bottom Receding Contact Angle (θBottomReceding)**: A fixed value representing the contact angle at the bottom of the microchannel when the fluid is receding.  \n",
    "      `θBottomReceding = (np.pi * 31/180)`\n",
    "    \n",
    "    - **Bottom Advancing Contact Angle (θBottomAdvancing)**: A fixed value representing the contact angle at the bottom of the microchannel when the fluid is advancing.  \n",
    "      `θBottomAdvancing = (np.pi * 45/180)`"
   ]
  },
  {
   "cell_type": "code",
   "execution_count": null,
   "id": "dabce989-b8cf-4f56-a2cf-47ca369decfd",
   "metadata": {},
   "outputs": [],
   "source": [
    "#just run this cell don't edit. This defines the functions we are using that we wrote in lab 2.\n",
    "import numpy as np\n",
    "\n",
    "### CONSTANTS - in SI units\n",
    "#global variables\n",
    "# Properties of liquid\n",
    "viscosity = 8.9e-4  #Pa*s\n",
    "\n",
    "# Surface tension of water is 0.073\n",
    "surfTension = 0.073  #N/meter\n",
    "\n",
    "#contact angle measurement, in radians\n",
    "#hydrophobic top PDMS surface and hydrophilic side and bottom surfaces respectively\n",
    "thetaTopWall = (np.pi * 89/180)     \n",
    "thetaSideWalls = (np.pi * 31/180)\n",
    "\n",
    "\n",
    "# FLOWRES\n",
    "def flowResistance(w,h,l):\n",
    "    h_actual = min(w,h)\n",
    "    w_actual= max(w,h)\n",
    "    flowRes = ((12*viscosity*l)/(1-0.63*(h_actual/w_actual)))*(1/(w_actual*(h_actual**3)))\n",
    "    return flowRes\n",
    "\n",
    "# CAPPRESSURE\n",
    "def capPressure(w, h, thetaTopWall, thetaSideWalls):\n",
    "    #Capillary pressure calculation for wetting liquid\n",
    "    h_actual = min(w,h)\n",
    "    w_actual= max(w,h)\n",
    "    capPressure =surfTension*((np.cos(thetaTopWall)/h_actual) +(np.cos(thetaSideWalls)/h_actual) +(2 * np.cos(thetaSideWalls)/w_actual))\n",
    "    return capPressure"
   ]
  },
  {
   "cell_type": "markdown",
   "id": "8496d9fa-3a17-4c76-95c1-10a0b9d5544c",
   "metadata": {},
   "source": [
    "## Calculate the capPressure and flowResistance for the RBV ans TVs (attached to reservoirs) during draining. Use the `receding contact angle` for draining channel components."
   ]
  },
  {
   "cell_type": "code",
   "execution_count": null,
   "id": "f560fdf3-44ab-4683-bc20-c24785358860",
   "metadata": {},
   "outputs": [],
   "source": [
    "thetaBottomReceding = (np.pi * 31/180)\n",
    "thetaTopReceding = (np.pi * 89/180)\n",
    "#dimensions of each RBV\n",
    "#RBVs\n",
    "w = 172e-6  #meters    \n",
    "h = 600e-6 #meters \n",
    "l = 3508.8e-6 #meters \n",
    "\n",
    "#TODO: Call and print capPressure and flowResistance  for the RBVs\n",
    "\n",
    "\n",
    "\n",
    "#dimensions of each TV\n",
    "#TVs\n",
    "w = 206.4e-6  #meters    \n",
    "h = 140e-6 #meters \n",
    "l = 2304e-6 #meters \n",
    "\n",
    "#TODO: Call and print capPressure and flowResistance for the TVs"
   ]
  },
  {
   "cell_type": "markdown",
   "id": "4e2a8403-b190-475f-8737-f01677ccae2b",
   "metadata": {},
   "source": [
    "## We will also calculate the resistance and capillary pressure of the pump/main resistor. We will use the `advancing contact angle` for this."
   ]
  },
  {
   "cell_type": "code",
   "execution_count": null,
   "id": "d4afda78-98bf-402b-832c-9ce9c92f5530",
   "metadata": {},
   "outputs": [],
   "source": [
    "thetaBottomAdvancing = (np.pi * 45/180)\n",
    "thetaTopAdvancing = (np.pi * 114/180)\n",
    "#dimensions of Pump resistor\n",
    "#Pump\n",
    "w = 200e-6  #meters    \n",
    "h = 200e-6 #meters \n",
    "l = 26000e-6 #meters \n",
    "\n",
    "#TODO: Call and print capPressure and flowResistance for the Pump\n"
   ]
  },
  {
   "cell_type": "markdown",
   "id": "39b41820-a056-46a5-acab-ca9d31dd14bf",
   "metadata": {},
   "source": [
    "## Calculate the capPressure, flowResistance, and flowRate for the 4 Reservoirs.  Use the `receding contact angle` for draining channel components.\n"
   ]
  },
  {
   "cell_type": "code",
   "execution_count": null,
   "id": "edec448f-a19f-4834-8ae0-071bf462c444",
   "metadata": {},
   "outputs": [],
   "source": [
    "thetaBottomReceding = (np.pi * 31/180)\n",
    "thetaTopReceding = (np.pi * 89/180)\n",
    "\n",
    "#Reservoir 1\n",
    "w = 1513.6e-6  #meters    \n",
    "h = 600e-6 #meters \n",
    "l = 12762e-6 #meters \n",
    "\n",
    "#TODO: Call and print capPressure, flowResistance reservoir 1\n",
    "\n",
    "#Reservoirs 2-4\n",
    "w = 1513.6e-6  #meters    \n",
    "h = 600e-6 #meters \n",
    "l = 8496.8e-6 #meters \n",
    "\n",
    "#TODO: Call and print capPressure, flowResistance for reservoirs 2-4 (they have the same dimensions)\n",
    "\n"
   ]
  },
  {
   "cell_type": "markdown",
   "id": "0bbf9a60-c0fe-4c81-a3a0-b4af4ee7cf51",
   "metadata": {},
   "source": [
    "# <font color='blue'> Part 2: Calculating Equivalent Resistance in Branches</font>\n",
    "\n",
    "## Before we calculate equivalent resistances for each branch, we need to calculate the pressure and resistance of the portion of the control channel that connects the TVs to the pump/main resistor for each branch. Since the length of that control channel actively being used varies depending on which branch is draining. This will be unique to each branch.\n",
    "\n",
    "\n",
    "<div style=\"text-align: center;\">\n",
    "  <img src=\"lab5_images/circ_final.png\" width=\"800\" />\n",
    "</div>\n",
    "\n"
   ]
  },
  {
   "cell_type": "code",
   "execution_count": null,
   "id": "3c79c62a-4e53-443a-8f2d-580e7e70c108",
   "metadata": {},
   "outputs": [],
   "source": [
    "#TODO calculate pressure and resistance for control channel parts 1-4\n",
    "\n",
    "#control channel part 1\n",
    "w = 619.2e-6  #meters    \n",
    "h = 600e-6 #meters \n",
    "l = 2810e-6 #meters \n",
    "\n",
    "#TODO: Call and print capPressure, flowResistance for control channel part 1\n",
    "\n",
    "#control channel part 2\n",
    "w = 619.2e-6  #meters    \n",
    "h = 600e-6 #meters \n",
    "l = 8850e-6 #meters \n",
    "\n",
    "\n",
    "#TODO: Call and print capPressure, flowResistance for control channel part 2\n",
    "\n",
    "#control channel part 3\n",
    "w = 619.2e-6  #meters    \n",
    "h = 600e-6 #meters \n",
    "l = 8759e-6 #meters \n",
    "\n",
    "#TODO: Call and print capPressure, flowResistance for control channel part 3\n",
    "\n",
    "#control channel part 4\n",
    "w = 619.2e-6  #meters    \n",
    "h = 600e-6 #meters \n",
    "l = 8081e-6 #meters \n",
    "\n",
    "#TODO: Call and print capPressure, flowResistance for control channel part 4"
   ]
  },
  {
   "cell_type": "markdown",
   "id": "20e2e32e-e8e4-42ee-94f8-52f4a7d2345a",
   "metadata": {},
   "source": [
    "## Using the equation for calculating equivalent resistance in series, you will calculate the equivalent resistance for each branch (while it is draining). To do this we will need to determine the path of flow and sum resistors in series along that path. \n",
    "\n",
    "\n",
    "<div style=\"text-align: center;\">\n",
    "  <img src=\"lab5_images/circ_final.png\" width=\"800\" />\n",
    "</div>\n",
    "\n",
    "\n",
    "## When channels are connected end-to-end (in series), the total resistance to flow is the sum of the individual resistances:\n",
    "\n",
    "$$\n",
    "\\displaystyle \\huge R_{\\text{eq, series}} = R_1 + R_2 + \\dots + R_n\n",
    "$$\n",
    "\n",
    "## **Note: Reservoir 1 has no RBV**\n"
   ]
  },
  {
   "cell_type": "code",
   "execution_count": null,
   "id": "fa48a7d8-2347-41dd-96f6-5b5be1c8f140",
   "metadata": {},
   "outputs": [],
   "source": [
    "#TODO calculate equivalent resistance for branches 1-4 and print results.\n"
   ]
  },
  {
   "cell_type": "markdown",
   "id": "9cd92a59-84bb-45d6-8011-3224e15d491e",
   "metadata": {},
   "source": [
    "# <font color='blue'> Part 3: Calculating Flow Rates in Branches</font>\n"
   ]
  },
  {
   "cell_type": "markdown",
   "id": "2eda3267-5da3-4f19-9024-2b620e71a007",
   "metadata": {},
   "source": [
    "## Now we will calculate flow rate in the reservoir. We will use **Ohm’s Law for Fluidic Circuits (Hagen-Poiseuille Analog)**  \n",
    "#### In capillaric circuits, pressure difference drives fluid flow, just as voltage drives electrical current. The fluidic equivalent of Ohm’s Law can be expressed as: \n",
    "\n",
    "$$\n",
    "\\displaystyle \\huge Q = \\frac{\\Delta P_{\\text{reservoir}}}{R_{\\text{eq}}}\n",
    "$$\n",
    "\n",
    "Where:\n",
    "\n",
    "- **Q** = flow rate (µL/s or m³/s)\n",
    "- **ΔP**<sub>reservoir</sub> = pressure of reservoir in branch (Pa)\n",
    "- **R**<sub>eq</sub> = total hydraulic resistance in branch (Pa·s/m³ or Pa·s/µL)\n",
    "\n",
    "## We will use the pressure of each reservoir and the equivalent resistance of each branch to get the flow rate of liquid in each reservoir. Also, Make sure to convert your answer to µL/s so that we can easily compare the results to experimental flow rates and those reported in the paper."
   ]
  },
  {
   "cell_type": "code",
   "execution_count": null,
   "id": "2ecb3ee2-9df4-40a6-8be5-968de3219c15",
   "metadata": {},
   "outputs": [],
   "source": [
    "\n",
    "#TODO calculate flow rates for branch 1\n",
    "\n",
    "#TODO calculate flow rates for branch 2\n",
    "\n",
    "\n",
    "#TODO calculate flow rates for branch 3\n",
    "\n",
    "\n",
    "#TODO calculate flow rates for branch 4\n",
    "\n",
    "\n",
    "#TODO If you have not already done so, convert flowRates to uL/s (they will be in m^3/s) and print results"
   ]
  },
  {
   "attachments": {},
   "cell_type": "markdown",
   "id": "c509ee95-68ba-486e-8f14-b7bed30648e6",
   "metadata": {},
   "source": [
    "# Part 2: Measuring drain time for domino valves\n",
    "\n",
    "### Overview:\n",
    "You will measure and record the drain time of liquids in a CC with domino valves and then calculate flow rates. The CC design is based on Figure 4 (below) from [Leong, K. M., et al. (2020). Democratizing Access to Microfluidics: Rapid Prototyping of Open Microchannels with Low-Cost LCD 3D Printers. Lab on a Chip, 20(6), 1056-1064.](https://pubs.acs.org/doi/full/10.1021/acsomega.4c07776)\n",
    "\n",
    "\n",
    "<div style=\"text-align: center;\">\n",
    "  <img src=\"lab5_images/images_large_ao4c07776_0004.jpeg\" width=\"600\" />\n",
    "</div>\n",
    "\n",
    "\n",
    "\n",
    "### Channel Dimensions\n",
    "\n",
    "Here, we have provided a CAD screenshot for CC. You will measure and record drain time for each of the 4 reservoirs and subsequently the flow rates. We also have provided you space in a table to record drain times and flow rates.  We recommend also writing these measurements down outside of this notebook to avoid any saving issues and loss of data.\n",
    "\n",
    "<div style=\"text-align: center;\">\n",
    "  <img src=\"lab5_images/Screenshot_stl.png\" width=\"300\" />\n",
    "</div>\n",
    "\n",
    "\n",
    "### Materials\n",
    "- Resin-printed microfluidic chip, plasma treated, and sealed with hydrophobic cover tape (ARseal 90697, Adhesives Research, Glen Rock, Pennsylvania, USA)\n",
    "- Red and yellow dye solutions (13% food dye v/v in DI water). \n",
    "- P20 Micropipettes and tips\n",
    "- Paper pump\n",
    "- Kim wipes (for cleaning up)\n",
    "- Gloves\n",
    "- Timer or stopwatch\n",
    "\n",
    "## Procedure (read fully before starting)\n",
    "\n",
    "1. **Glove Up:** Wear gloves as part of standard lab safety and best practices. All the materials we’re working with, are not really hazardous. That said, it’s still best practice to wear gloves during handling—especially since we have no idea where these pipettes have been! 😊\n",
    "2. **QC:**\n",
    "   - Double-check that all channels are properly sealed with cover tapes and dye solution is mixed before starting.\n",
    "   - Work in your petri dish and avoid tipping the chip (the dye may spill and stain whatever it touches)\n",
    "3. **Paper Pump:** Attach a paper pump to the outlet of the CC. You may need to put pressure on it so that it connects to the outlet.\n",
    "4. **Filling Reservoirs:** Using a P20 pipette, you should introduce liquid into channels until they are filled. Try your best not to overfill or underfill the channels. We have provided a starting place for volumes to use, but these may need to be modified. Introduce ~12µL of the **red** dye solution into the inlet of reservoir 1. Introduce ~10 µL of the **red** dye solution into the inlet of reservoirs 2-3. \n",
    "5. **Filling Control Channel:** Using a  pipette, introduce ~13µL of the **yellow** dye solution into the inlet of the control channel. Note that once you add liquid to the control channel the flow will begin, so you should be ready with your timer!\n",
    "6. **Timing:** Start the timer as soon as the red dye solution begins draining from each reservoir. We recommend using a lap function to more easily record the time stamps of sequential drainage. Alternatively, you can take a video with your phone of the drainage process and review the footage to obtain time stamps. If you go the video route, ensure you have enough storage to record a full video!\n",
    "8. **Recording:** Record the time taken for each reservoir to drain. We suggest recording these times both in this notebook (in the table below) AND elsewhere to avoid any data loss. If your channel failed, note the modes of failure and mention this in your reflection question 3.\n",
    "9. **Flow Rates:** Using the volumes provided and the measured drain times, calculate the flow rates for each reservoir.\n",
    "\n",
    "\n",
    "| Reservoir   | Drain Time (s) | Flow Rate (µL/s)  | Volume (µL) |\n",
    "|-------------|----------------|-------------------|-------------|\n",
    "| Reservoir 1 |                |                   |    10.2     |\n",
    "| Reservoir 2 |                |                   |    8.4      |\n",
    "| Reservoir 3 |                |                   |    8.4      |\n",
    "| Reservoir 4 |                |                   |    8.4      |"
   ]
  },
  {
   "cell_type": "markdown",
   "id": "9e66ea8d-e624-4adc-89b2-c20f23fa46b3",
   "metadata": {},
   "source": [
    "## **Reflection questions:** Make sure to answer all components/questions for each reflection for full credit\n",
    "---\n",
    "### **<font color=\"red\"> Reflection Question 1:</font>** \n",
    "- ### **<font color=\"red\"> How do the capillary pressure differences between RBVs here (based on Leong et al 2024) compare with those in lab 3 (based on Olanrewaju et al 2016)?</font>** \n",
    "- ### **<font color=\"red\"> Comment on how sequential drainage is achieved in Leong et al 2024 versus Olanrewaju et al 2016</font>**  "
   ]
  },
  {
   "cell_type": "markdown",
   "id": "d091d1c1-9730-473c-986a-f89368cde3dd",
   "metadata": {},
   "source": [
    "### TODO: Answer reflection question:"
   ]
  },
  {
   "cell_type": "markdown",
   "id": "b1d1502c-ad1a-489e-b95b-532634f26219",
   "metadata": {},
   "source": [
    "---\n",
    "### **<font color=\"red\"> Reflection Question 2:</font>** \n",
    "- ### **<font color=\"red\"> What would happen if there is extra liquid at the inlets of reservoirs 2, 3, 4?</font>** \n",
    "- ### **<font color=\"red\"> Why do you think this happens based on principles of surface tension and capillary pressure?</font>** \n",
    "- ### **<font color=\"red\"> How could this impact the use/performance of domino valves and capillaric circuits?</font>** \n",
    "- ### **<font color=\"red\"> How does the video in Leong et al 2024 address this concern:?</font>**  "
   ]
  },
  {
   "cell_type": "code",
   "execution_count": 1,
   "id": "be3a5a33-e3a6-4bf6-a939-aa72986118cd",
   "metadata": {},
   "outputs": [
    {
     "data": {
      "text/html": [
       "<video src=\"lab5_images/ao4c07776_si_001.mp4\" controls  >\n",
       "      Your browser does not support the <code>video</code> element.\n",
       "    </video>"
      ],
      "text/plain": [
       "<IPython.core.display.Video object>"
      ]
     },
     "execution_count": 1,
     "metadata": {},
     "output_type": "execute_result"
    }
   ],
   "source": [
    "from IPython.display import Video\n",
    "Video(\"lab5_images/ao4c07776_si_001.mp4\")"
   ]
  },
  {
   "cell_type": "markdown",
   "id": "6b70dc70-e4a4-43f4-ba85-ddddcc58aeff",
   "metadata": {},
   "source": [
    "### TODO: Answer reflection question:"
   ]
  },
  {
   "cell_type": "markdown",
   "id": "fa0c8dca-c79f-4cf5-952f-26665a596dba",
   "metadata": {},
   "source": [
    "---\n",
    "### **<font color=\"red\"> Reflection Question 3:</font>** \n",
    "\n",
    "- ### **<font color=\"red\">How do the measured flow rates from part 2 compare with the flow rates obtained in Figure 4C of Leong et al.?</font>**\n",
    "- ### **<font color=\"red\"> How do they compare to the theoretical flow rates you calculated in Part1? If your chip failed, note any modes of failure. </font>**  "
   ]
  },
  {
   "cell_type": "markdown",
   "id": "f2c9c661-22a2-4af3-9fa9-c452f2ccf145",
   "metadata": {},
   "source": [
    "### TODO: Answer reflection question:"
   ]
  }
 ],
 "metadata": {
  "kernelspec": {
   "display_name": "Python (myenv)",
   "language": "python",
   "name": "myenv"
  },
  "language_info": {
   "codemirror_mode": {
    "name": "ipython",
    "version": 3
   },
   "file_extension": ".py",
   "mimetype": "text/x-python",
   "name": "python",
   "nbconvert_exporter": "python",
   "pygments_lexer": "ipython3",
   "version": "3.13.1"
  }
 },
 "nbformat": 4,
 "nbformat_minor": 5
}
