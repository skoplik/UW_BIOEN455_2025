{
 "cells": [
  {
   "cell_type": "markdown",
   "id": "956bc2c0",
   "metadata": {},
   "source": [
    "# BIOEN 455: Jupyter Notebook, Python Review & Usage\n",
    "This notebook is designed to review Jupyter notebook usage, basic Python concepts and introduce intermediate Python operations with examples."
   ]
  },
  {
   "cell_type": "markdown",
   "id": "b0c4258d-39cb-405d-82a9-f055a1fa5f0c",
   "metadata": {},
   "source": [
    "### Index\n",
    "_Note: you can also view the structure of a document using the \"Table of Contents\" view on the left navigation pane._\n",
    "- [UW JupyterHub for Teaching components](#components)\n",
    "- [Working with documents](#working-with-ipynb)\n",
    "- [Working with cells](#working-with-cells)\n",
    "  - [Working with code cells](#working-with-cells-code)\n",
    "  - [Working with Markdown cells](#working-with-cells-markdown)\n",
    "- [Basic Functions Review](#basics)\n",
    "- [Intermediate Python Usage](#intemediate)\n",
    "- [Combining Complex Operations](#compops)\n",
    "- [Tips and tricks](#tips)\n",
    "- [Best practices](#best-practices)\n",
    "- [Getting help](#getting-help)"
   ]
  },
  {
   "cell_type": "markdown",
   "id": "8b5ad891-2603-4c17-925f-fb6487f02ea3",
   "metadata": {},
   "source": [
    "## What is Jupyter?\n",
    "\n",
    "The Jupyter Notebook is a powerful open source tool designed to support interactive documents (the \"notebook\") with text, visualizations, live code, code outputs, and many other elements displayed inline. The JupyterHub for Teaching service at the UW makes a hosted Jupyter Notebook environment available for UW courses, and requires only a browser to use.\n",
    "\n",
    "<a id='components'></a>\n",
    "## UW JupyterHub for Teaching components\n",
    "- **JupyterHub**: software which manages a group of Notebooks, and provides UW NetID login and shared features, as well as management features for instructors.\n",
    "- **Jupyter Notebook environment**: software provided by [Project Jupyter](https://jupyter.org/) which can be run on your own computer or on a hosted server (such as the one you're in now). In a hosted environment, you have access not only to the features provided by the Jupyter Notebook software, but also some of the capabilities of the underlying Linux operating system. The environment has installed software and packages selected by the course instructor and is fully configured. This environment is only running while you are using it, and will shut down after a period of inactivity. Depending on your environment, additional software may be available, such as RStudio. You can interact with the underlying operating system by going to \"File > New > Terminal\" in the menu bar.\n",
    "- **JupyterLab**: this is the software responsible for the user interface part of the Notebook. Theme changes can be made by going to settings > theme. Depending on the environment you are using, other interfaces may be available. Check out [the documentation](https://jupyterlab.readthedocs.io/en/stable/user/interface.html#:~:text=The%20JupyterLab%20interface%20consists%20of,inspector%2C%20and%20the%20tabs%20list.) for detailed information about the JupyterLab UI.\n",
    "- **Jupyter notebook document**: a structured file ending with the '.ipynb' extension which contains marked up elements that the Jupyter software can interpret and display. There can be many documents on your server, and they can be upload, downloaded, shared, and exported. Start a new Notebook by going to \"File > New > Notebook\" in the menu bar. Upload a Notebook by dragging and dropping an .ipynb file from your computer into the files pane on the left side, or by clicking on the upload icon a the top of the files pane.\n",
    "- **Jupyter kernel**: the live code portions of a document will be run in a programming language such as Python or R, and the kernel is the part of the environment that actually runs that code. Your environment may have more than one kernel installed, and which language is being used is determined when you create a new notebook or by clicking on the kernel name in the top right corner of this pane. Additional kernel features can be accessed by clicking \"Kernel\" on the menu bar.\n",
    "- **Home directory**: this hosted environment is designed to always start from the same state, so changes made to operating system or installed software will be reverted the next time you start up a session. The sole exception to this is your home directory, which is the root of the file system as displayed within the Jupyter environment. Files saved to this location will persist for the acadmic quarter, plus a retention period after the quarter is over.\n"
   ]
  },
  {
   "cell_type": "markdown",
   "id": "e34e04d6-5732-406a-8b6c-5bd226fafc21",
   "metadata": {},
   "source": [
    "<a id='working-with-ipynb'></a>\n",
    "\n",
    "## Working in a document\n",
    "- This notebook is using the Python kernel, so you will be entering Python syntax in code cells. If you look in the top right corner of the notebook, you will see which kernel is in use. Your environment can contain multiple kernels if you are working with more than one language, but a single document can only use one kernel at a time.\n",
    "- Press the `ENTER` key or click on a cell (double click for rendered Markdown cells) to go into Edit mode, make any changes, then `SHIFT + ENTER` to run or render the cell. If you want to return to Command mode without running the cell, use the `ESC` key.\n",
    "- While in Command mode, `a` inserts a new cell above your current selected cell and `b` inserts one below.\n",
    "- To change the type of cell, use the dropdown in the menu bar of this pane, or while in Command mode, select the cell and press `m` for a markdown cell or `y` for a code cell.\n",
    "- While in Command mode, pressing `d` twice will delete the currently selected cell.\n",
    "- While in Command mode, `SHIFT + ENTER` will run or render the _current_ cell.\n",
    "- To save your work and create a checkpoint, use the save icon at the top left corner of this pane, or use \"File > Save Notebook\" in the menu bar, or use the save shortcut appropriate for your OS (ie, `CTRL + S` for Windows and Linux, `⌘ + S` for a Mac). Note: notebooks have autosave functionality, if you wish to revert to the last time you manually saved, go to \"File > Revert Notebook to Checkpoint\" in the menu bar."
   ]
  },
  {
   "cell_type": "markdown",
   "id": "eef4250e-37b6-474c-aff0-b1dc2d09c395",
   "metadata": {},
   "source": [
    "<a id='working-with-cells-code'></a>\n",
    "\n",
    "### Working with code cells"
   ]
  },
  {
   "cell_type": "code",
   "execution_count": 5,
   "id": "f8b2d183-302c-4f06-b86d-3aa8014fb96d",
   "metadata": {},
   "outputs": [
    {
     "name": "stdout",
     "output_type": "stream",
     "text": [
      "42\n"
     ]
    }
   ],
   "source": [
    "# Variables exist in a global namespace for the current document and kernel. Restarting the kernel will reset everything. \n",
    "# SHIFT + ENTER to run this cell and view the output.\n",
    "a = 42\n",
    "\n",
    "print(a)"
   ]
  },
  {
   "cell_type": "code",
   "execution_count": 6,
   "id": "14ffe039-06be-415d-8682-e881c2a3a572",
   "metadata": {},
   "outputs": [
    {
     "name": "stdout",
     "output_type": "stream",
     "text": [
      "42\n",
      "foo\n"
     ]
    }
   ],
   "source": [
    "# the variable you defined above is available to any other cells\n",
    "print(a)\n",
    "\n",
    "# Because variables are global, reassigning them will clobber the previous value which may lead to unexpected results \n",
    "# if you had code that depended on the variable.\n",
    "a = 'foo' \n",
    "\n",
    "print(a)"
   ]
  },
  {
   "cell_type": "code",
   "execution_count": 12,
   "id": "d1346be9-9393-46fc-8403-3073854bea5d",
   "metadata": {},
   "outputs": [
    {
     "ename": "ValueError",
     "evalue": "invalid literal for int() with base 10: 'foo'",
     "output_type": "error",
     "traceback": [
      "\u001b[0;31m---------------------------------------------------------------------------\u001b[0m",
      "\u001b[0;31mValueError\u001b[0m                                Traceback (most recent call last)",
      "Cell \u001b[0;32mIn[12], line 2\u001b[0m\n\u001b[1;32m      1\u001b[0m \u001b[38;5;66;03m# This will produce an error if the cell above has been run, since it expects 'a' can be converted to an integer\u001b[39;00m\n\u001b[0;32m----> 2\u001b[0m \u001b[38;5;28mprint\u001b[39m(\u001b[38;5;124mf\u001b[39m\u001b[38;5;124m'\u001b[39m\u001b[38;5;124mvar a is the Answer: \u001b[39m\u001b[38;5;132;01m{\u001b[39;00m\u001b[38;5;28;43mint\u001b[39;49m\u001b[43m(\u001b[49m\u001b[43ma\u001b[49m\u001b[43m)\u001b[49m\u001b[38;5;250m \u001b[39m\u001b[38;5;241m==\u001b[39m\u001b[38;5;250m \u001b[39m\u001b[38;5;241m42\u001b[39m\u001b[38;5;132;01m}\u001b[39;00m\u001b[38;5;124m'\u001b[39m) \n",
      "\u001b[0;31mValueError\u001b[0m: invalid literal for int() with base 10: 'foo'"
     ]
    }
   ],
   "source": [
    "# This will produce an error if the cell above has been run, since it expects 'a' can be converted to an integer\n",
    "print(f'var a is the Answer: {int(a) == 42}') "
   ]
  },
  {
   "cell_type": "code",
   "execution_count": 13,
   "id": "71985a77-15a3-492c-93a8-c8c3042db082",
   "metadata": {},
   "outputs": [
    {
     "name": "stdout",
     "output_type": "stream",
     "text": [
      "cells run sequentially in order if you use select \"Run > Run All Cells\" from the menu, otherwise they only run if you explicitly run them with SHIFT + ENTER\n"
     ]
    }
   ],
   "source": [
    "# this will produce an error unless you run the cell below first\n",
    "print(b)"
   ]
  },
  {
   "cell_type": "code",
   "execution_count": 14,
   "id": "9f1654bc-c10c-41c0-8bf0-4b47a2390b0c",
   "metadata": {},
   "outputs": [],
   "source": [
    "b = 'cells run sequentially in order if you use select \"Run > Run All Cells\" from the menu, otherwise they only run \\\n",
    "if you explicitly run them with SHIFT + ENTER'"
   ]
  },
  {
   "cell_type": "code",
   "execution_count": 15,
   "id": "8752c84c-d9ae-4d28-a4e9-de879116dfe5",
   "metadata": {},
   "outputs": [
    {
     "name": "stdout",
     "output_type": "stream",
     "text": [
      "There are 4727 days left to make sure you're on Linux kernel >= 5.10 and using the big timestamps' feature!\n"
     ]
    }
   ],
   "source": [
    "# Any installed packages can imported and used in an expression\n",
    "import datetime\n",
    "\n",
    "twenty_thirtyeight_bug = datetime.date(2038, 1, 1)\n",
    "now = datetime.datetime.now().date()\n",
    "\n",
    "print(f\"There are {(twenty_thirtyeight_bug - now).days} days left to make sure you're on Linux kernel \\\n",
    ">= 5.10 and using the big timestamps\\' feature!\")\n"
   ]
  },
  {
   "cell_type": "code",
   "execution_count": 16,
   "id": "bf22c95d-4e0c-4114-9822-fdfafc0422bb",
   "metadata": {},
   "outputs": [
    {
     "name": "stdout",
     "output_type": "stream",
     "text": [
      "Collecting emoji\n",
      "  Using cached emoji-2.14.1-py3-none-any.whl.metadata (5.7 kB)\n",
      "Using cached emoji-2.14.1-py3-none-any.whl (590 kB)\n",
      "Installing collected packages: emoji\n",
      "Successfully installed emoji-2.14.1\n"
     ]
    }
   ],
   "source": [
    "# You can install your own packages, but standard installs will need to be installed each time you start a new Notebook session\n",
    "# Note: One of the core ideas in Jupyter Notebooks is reproducability, so if require additional packages to run your notebook, make sure to include them in the notebook itself.\n",
    "!pip install emoji"
   ]
  },
  {
   "cell_type": "code",
   "execution_count": 17,
   "id": "6862ba10-61ad-414d-b64b-3d09e4f7bdae",
   "metadata": {},
   "outputs": [
    {
     "name": "stdout",
     "output_type": "stream",
     "text": [
      "👍\n"
     ]
    }
   ],
   "source": [
    "from emoji import emojize\n",
    "print(emojize(\":thumbs_up:\"))"
   ]
  },
  {
   "cell_type": "markdown",
   "id": "bc962aeb-204c-48f5-b211-ed72b6a5fec1",
   "metadata": {},
   "source": [
    "<a id='working-with-cells-markdown'></a>\n",
    "### Working with Markdown cells\n",
    "- You can double click on a cell with rendered markdown to view the source, or select the cell and press `ENTER`. `SHIFT + ENTER` will re-render the cell.\n",
    "- [Markdown basics](https://www.markdownguide.org/basic-syntax)"
   ]
  },
  {
   "cell_type": "markdown",
   "id": "80abf70c-74e3-465e-be92-475adeca2c0c",
   "metadata": {},
   "source": [
    "#### Lists\n",
    "- a\n",
    "- b "
   ]
  },
  {
   "cell_type": "markdown",
   "id": "098f29ae-6280-4fe6-ac13-0761cea9e637",
   "metadata": {},
   "source": [
    "#### Equations\n",
    "- Jupyter uses [MathJax](https://www.mathjax.org/) to render equations between a set of `$$` symbols. See some [examples of MathJax notation](https://jojozhuang.github.io/tutorial/mathjax-cheat-sheet-for-mathematical-notation/).\n",
    "- eg, $ x = {-b \\pm \\sqrt{b^2-4ac} \\over 2a} $\n",
    "- Note: The presence of MathJax notation in a notebook causes errors in exporting the notebook to PDF. The current workaround is to export to HTML instead."
   ]
  },
  {
   "cell_type": "markdown",
   "id": "4616ee0a-b256-484d-a203-0c5bdb65d78b",
   "metadata": {},
   "source": [
    "#### Tables\n",
    "\n",
    "| Name | | Column |\n",
    "|:---:|:---:|:---:|\n",
    "||This is a fun table||\n",
    "|To Do| Fill in the rest| |"
   ]
  },
  {
   "cell_type": "markdown",
   "id": "8f163f3f",
   "metadata": {},
   "source": [
    "## Basic Functions Review\n",
    "<a id='basics'></a>\n",
    "We'll start with a review of basic Python functions, including:\n",
    "- Arithmetic operations\n",
    "- `print()` for displaying outputs\n",
    "- Common built-in functions like `abs()` and `round()`."
   ]
  },
  {
   "cell_type": "code",
   "execution_count": 20,
   "id": "569599cf",
   "metadata": {},
   "outputs": [
    {
     "name": "stdout",
     "output_type": "stream",
     "text": [
      "Addition:\n",
      "10 + 3 = 13\n",
      "\n",
      "Subtraction:\n",
      "10 - 3 = 7\n",
      "\n",
      "Multiplication:\n",
      "10 * 3 = 30\n",
      "\n",
      "Division:\n",
      "10 / 3 = 3.3333333333333335\n",
      "\n",
      "Exponentiation:\n",
      "10 ** 3 = 1000\n",
      "\n",
      "Using Python Functions:\n",
      "The absolute value of -7.857 is 7.857\n",
      "Rounding -7.857 to 2 decimal places gives -7.86\n"
     ]
    }
   ],
   "source": [
    "#Basic Functions: Arithmetic and Results Display\n",
    "x = 10\n",
    "y = 3\n",
    "\n",
    "# Addition\n",
    "addition_result = x + y\n",
    "print(\"Addition:\")\n",
    "print(x, \"+\", y, \"=\", addition_result)\n",
    "\n",
    "# Subtraction\n",
    "subtraction_result = x - y\n",
    "print(\"\\nSubtraction:\")\n",
    "print(x, \"-\", y, \"=\", subtraction_result)\n",
    "\n",
    "# Multiplication\n",
    "multiplication_result = x * y\n",
    "print(\"\\nMultiplication:\")\n",
    "print(x, \"*\", y, \"=\", multiplication_result)\n",
    "\n",
    "# Division\n",
    "division_result = x / y\n",
    "print(\"\\nDivision:\")\n",
    "print(x, \"/\", y, \"=\", division_result)\n",
    "\n",
    "# Exponentiation\n",
    "exponentiation_result = x ** y\n",
    "print(\"\\nExponentiation:\")\n",
    "print(x, \"**\", y, \"=\", exponentiation_result)\n",
    "\n",
    "# Using Python Functions: abs() and round()\n",
    "value = -7.857\n",
    "\n",
    "print(\"\\nUsing Python Functions:\")\n",
    "absolute_value = abs(value)\n",
    "print(\"The absolute value of\", value, \"is\", absolute_value)\n",
    "\n",
    "rounded_value = round(value, 2)\n",
    "print(\"Rounding\", value, \"to 2 decimal places gives\", rounded_value)"
   ]
  },
  {
   "cell_type": "markdown",
   "id": "0c527669",
   "metadata": {},
   "source": [
    "## Intermediate Python Usage\n",
    "<a id='intermediate'></a>\n",
    "This section demonstrates using Python packages, such as `numpy`, for advanced mathematical operations."
   ]
  },
  {
   "cell_type": "code",
   "execution_count": 21,
   "id": "06e3ac9d",
   "metadata": {},
   "outputs": [
    {
     "name": "stdout",
     "output_type": "stream",
     "text": [
      "Trigonometric Functions for 30 degrees:\n",
      "Sine: 0.49999999999999994, Cosine: 0.8660254037844387, Tangent: 0.5773502691896257\n",
      "Exponential and Logarithmic Operations:\n",
      "2 raised to the power of 8 is 256.\n",
      "The natural logarithm of 2 is 0.6931471805599453.\n"
     ]
    }
   ],
   "source": [
    "# Importing Numpy\n",
    "import numpy as np\n",
    "\n",
    "# Trigonometric Functions\n",
    "angle_deg = 30  # Angle in degrees\n",
    "angle_rad = np.radians(angle_deg)  # Convert to radians\n",
    "sin_value = np.sin(angle_rad)\n",
    "cos_value = np.cos(angle_rad)\n",
    "tan_value = np.tan(angle_rad)\n",
    "\n",
    "# Note: You can also use formatted strings (f-strings) for concise and clear printing.\n",
    "print(f\"Trigonometric Functions for {angle_deg} degrees:\")\n",
    "print(f\"Sine: {sin_value}, Cosine: {cos_value}, Tangent: {tan_value}\")\n",
    "\n",
    "# Exponentiation and Logarithms\n",
    "base = 2\n",
    "power = 8\n",
    "exponent_result = np.power(base, power)  # Numpy's power function\n",
    "log_value = np.log(base)  # Natural logarithm\n",
    "\n",
    "print(f\"Exponential and Logarithmic Operations:\")\n",
    "print(f\"{base} raised to the power of {power} is {exponent_result}.\")\n",
    "print(f\"The natural logarithm of {base} is {log_value}.\")"
   ]
  },
  {
   "cell_type": "markdown",
   "id": "00b5c3fa",
   "metadata": {},
   "source": [
    "## Combining Complex Operations\n",
    "<a id='compops'></a>\n",
    "In this section, we'll evaluate a mathematical expression by combining trigonometric, exponential, and arithmetic operations."
   ]
  },
  {
   "cell_type": "code",
   "execution_count": 22,
   "id": "41e62cb5",
   "metadata": {},
   "outputs": [
    {
     "name": "stdout",
     "output_type": "stream",
     "text": [
      "Result of the complex expression: 5.318895268957076\n"
     ]
    }
   ],
   "source": [
    "# Combining Complex Operations\n",
    "expression_result = (np.sin(angle_rad) + 2**3) / (np.cos(angle_rad) * 3 - 1)\n",
    "print(f\"Result of the complex expression: {expression_result}\")"
   ]
  },
  {
   "cell_type": "markdown",
   "id": "855a78cb-47ed-4eea-b44d-ea3e6267910a",
   "metadata": {},
   "source": [
    "## Tips for Using Jupyter Notebooks\n",
    "<a id='tips'></a>\n",
    "- **Run cells sequentially**: Select a cell and press Shift + Enter.\n",
    "- **Restart the kernel**: If you need to reset variables or imports, use the Kernel menu.\n",
    "- **Markdown cells**: Use these for adding headings, notes, or explanations.\n",
    "\n",
    "### Markdown Examples:\n",
    "```markdown\n",
    "# Heading 1\n",
    "## Heading 2\n",
    "- Bullet point\n",
    "**Bold text** or *italic text*\n",
    "```\n"
   ]
  },
  {
   "cell_type": "markdown",
   "id": "344ad916-43c0-4d66-849d-ca91b28b4666",
   "metadata": {},
   "source": [
    "#### Keyboard shortcuts\n",
    "- Command mode vs. Edit mode: Toggle with `ESC` and `ENTER` keys\n",
    "\n",
    "#### Debugging\n",
    "- Click the \"debugger\" icon in the top right of this pane (right next to the kernel picker) to access debugging information about the current notebook.\n",
    "\n",
    "#### Useful command mode shortcuts\n",
    "|Command|Action|\n",
    "|:-----:|:----:|\n",
    "|a|Create new cell above|\n",
    "|b|Create new cell below|\n",
    "|d d|Delete current cell|\n",
    "|z| Undo delete cell|\n",
    "|m|Change cell to markdown|\n",
    "|y|Change cell to code|\n",
    "|h| Bring up the list of shortcuts|\n",
    "\n",
    "\n",
    "#### Useful editing shortcuts\n",
    "\n",
    "|Command|Action|\n",
    "|:-----:|:----:|\n",
    "|Ctrl-a|Select all|\n",
    "|Ctrl-c|Copy|\n",
    "|Ctrl-v|Paste|\n",
    "|Ctrl-s|Save|\n",
    "|Tab| Autocomplete |\n",
    "|Shift-tab| Tooltips|"
   ]
  },
  {
   "cell_type": "markdown",
   "id": "57d813f1-d925-4cbd-be1d-aac2a04eb471",
   "metadata": {},
   "source": [
    "<a id='best-practices'></a>\n",
    "\n",
    "### Best practices\n",
    "- The amount of available space in your home directory is limited (typically to 5GB), and filling it up can cause your notebook sessions to fail to start. You can use the command `df -h ~` to view the amount you've used. Be careful of saving large data sets and running expressions that produce significant amounts of output data. If you're near the limits of storage, you can reduce the size of your notebook by going to \"Edit > Clear All Outputs\" from the menu bar, then saving the file. If you run out of room and your notebook fails to start, send a help request to [help@uw.edu](mailto:help@uw.edu) with \"JupyterHub for Teaching\" in the subject line.\n",
    "- Only save files and data in your home directory - any other location on the file system will be reset when your current session ends.\n",
    "- Close the browser tab when you're done. This allows the system to shut down idle sessions and conserve resources.\n",
    "- If you want to share a notebook, there are a few options: you can export a notebook to PDF or HTML (\"File > Save and Export Notebook As...\"), save and download to your computer. This will not be editable or contain runnable code. Alternately, you can download the ipynb file itself (right-click on the notebook and select \"Download\"), which someone else can upload to their environment (assuming they have the same packages installed in their environment) and interact with. The option labelled \"Copy Shareable Link\" will only work if your notebook session is actively running, and the user you share it to has admin rights in the JupyterHub for your course."
   ]
  },
  {
   "cell_type": "markdown",
   "id": "3582d7cf-d2ec-479d-96e1-d62d8690833a",
   "metadata": {},
   "source": [
    "<a id='getting-help'></a>\n",
    "\n",
    "### Getting help\n",
    "- Questions about the course materials or assignments should be directed to your your instructors or TAs.\n",
    "- Detailed information about using the JupyterLab UI can be found in the [JupyterLab User Guide](https://jupyterlab.readthedocs.io/en/stable/user/index.html) or in the inline help of JupyterLab itself.\n",
    "- If your Hub is configured with RStudio, you can visit the [RStudio User Guide](https://docs.posit.co/ide/user/) (note: there are many versions of RStudio, and not all of the features will be applicable).\n",
    "- Because your notebook server is immutable, some issues can be resolved simply by stopping and restarting the server, which will cause it to start back in its default state. Go to \"File\" > \"Hub Control Panel\", then \"Stop My Server\". After it's stopped (which should take less than a minute), just navigate back to your Hub URL and it will restart. You can also clear out your workspace by using a URL formatted like this: <span style=\"background-color: #FFFF00\">https://jupyter.rttl.uw.edu/{your-course}/user-redirect/lab?reset</span>\n",
    "- For service issues or problems with your notebook, you can send email to help@uw.edu with \"JupyterHub for Teaching\" in the subject line. Please also include the URL for the Hub you are using and any error messages that you received."
   ]
  },
  {
   "cell_type": "code",
   "execution_count": 19,
   "id": "71383af4-11c9-4583-8207-1710a7814899",
   "metadata": {},
   "outputs": [
    {
     "name": "stdout",
     "output_type": "stream",
     "text": [
      "Filesystem      Size  Used Avail Use% Mounted on\n",
      "/dev/sdaf       4.9G  7.0M  4.9G   1% /home/jovyan\n"
     ]
    }
   ],
   "source": [
    "# Check usage of your home directory\n",
    "!df -h ~"
   ]
  }
 ],
 "metadata": {
  "kernelspec": {
   "display_name": "Python 3 (ipykernel)",
   "language": "python",
   "name": "python3"
  },
  "language_info": {
   "codemirror_mode": {
    "name": "ipython",
    "version": 3
   },
   "file_extension": ".py",
   "mimetype": "text/x-python",
   "name": "python",
   "nbconvert_exporter": "python",
   "pygments_lexer": "ipython3",
   "version": "3.11.9"
  }
 },
 "nbformat": 4,
 "nbformat_minor": 5
}
